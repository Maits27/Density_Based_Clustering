{
 "cells": [
  {
   "cell_type": "markdown",
   "metadata": {},
   "source": [
    "<img src=\"../img/diagrams/mainProcess.jpg\" alt=\"drawing\" width=\"500\"/>"
   ]
  },
  {
   "cell_type": "markdown",
   "metadata": {},
   "source": [
    "# 0. Cargar librerías y establecer parámetros\n",
    "Cargamos las liberías necesarias:"
   ]
  },
  {
   "cell_type": "code",
   "execution_count": 1,
   "metadata": {},
   "outputs": [
    {
     "name": "stderr",
     "output_type": "stream",
     "text": [
      "/Users/aingeru/anaconda3/envs/mineria/lib/python3.10/site-packages/tqdm/auto.py:21: TqdmWarning: IProgress not found. Please update jupyter and ipywidgets. See https://ipywidgets.readthedocs.io/en/stable/user_install.html\n",
      "  from .autonotebook import tqdm as notebook_tqdm\n"
     ]
    }
   ],
   "source": [
    "from loadSaveData import loadRAW, saveClusters, loadEmbeddings, loadSinLimpiarTokens\n",
    "from tokenization import tokenize\n",
    "import vectorization\n",
    "import clustering\n",
    "import evaluation"
   ]
  },
  {
   "cell_type": "markdown",
   "metadata": {},
   "source": [
    "Establecemos los parámetros:"
   ]
  },
  {
   "cell_type": "code",
   "execution_count": 2,
   "metadata": {},
   "outputs": [],
   "source": [
    "nInstances = 10000\n",
    "path = f'../Datasets/Suicide_Detection{nInstances}.csv' # Previosuly reduced with reduceDataset.py\n",
    "vectorsDimension = 500 # Not used for 'bertTransformer'\n",
    "vectorizationMode = vectorization.bertTransformer # doc2vec, tfidf, bertTransformer\n",
    "clusteringAlgorithm = clustering.DensityAlgorithmUrruela # DensityAlgorithmUrruela, DensityAlgorithm, DensityAlgorithm2, DBScanOriginal\n",
    "epsilon = 2.567\n",
    "minPts = 12"
   ]
  },
  {
   "cell_type": "markdown",
   "metadata": {},
   "source": [
    "# 1. Pre-proceso\n",
    "## 1.1. Limpieza, tokenización y vectorización\n",
    "Proceso completo:"
   ]
  },
  {
   "cell_type": "code",
   "execution_count": null,
   "metadata": {},
   "outputs": [],
   "source": [
    "rawData = loadRAW(path)\n",
    "if vectorizationMode != vectorization.bertTransformer:\n",
    "    textosToken = tokenize(rawData)\n",
    "    textosEmbedding = vectorizationMode(textosToken=textosToken, dimensiones=vectorsDimension)\n",
    "else: \n",
    "    textEmbeddings = vectorizationMode(rawData)"
   ]
  },
  {
   "cell_type": "markdown",
   "metadata": {},
   "source": [
    "Cargar datos ya vectorizados y guardados:"
   ]
  },
  {
   "cell_type": "code",
   "execution_count": 3,
   "metadata": {},
   "outputs": [
    {
     "name": "stdout",
     "output_type": "stream",
     "text": [
      "Cargando embeddings...\n",
      "Embeddings cargados\n"
     ]
    }
   ],
   "source": [
    "textEmbeddings = loadEmbeddings(length=nInstances, type='bert')"
   ]
  },
  {
   "cell_type": "markdown",
   "metadata": {},
   "source": [
    "# 2. Clustering"
   ]
  },
  {
   "cell_type": "code",
   "execution_count": 4,
   "metadata": {},
   "outputs": [
    {
     "name": "stdout",
     "output_type": "stream",
     "text": [
      "Ejecutando algoritmo:\n",
      "Cargando distancias\n",
      "\tDistancias encontradas y cargadas desde archivo\n"
     ]
    },
    {
     "name": "stderr",
     "output_type": "stream",
     "text": [
      "\tBUSCANDO NUCLEOS, total de 10000: 10000it [01:02, 160.74it/s]\n",
      "EXPLORANDO NUCLEOS: 100%|██████████| 10000/10000 [00:00<00:00, 372495.91it/s]"
     ]
    },
    {
     "name": "stdout",
     "output_type": "stream",
     "text": [
      "Del cluster 0 hay 10000 instancias\n",
      "Del cluster 1 hay 0 instancias\n"
     ]
    },
    {
     "name": "stderr",
     "output_type": "stream",
     "text": [
      "\n"
     ]
    }
   ],
   "source": [
    "algoritmo = clusteringAlgorithm(textEmbeddings, epsilon=epsilon, minPt=minPts)\n",
    "algoritmo.ejecutarAlgoritmo()\n",
    "algoritmo.imprimir()\n",
    "clusters = algoritmo.clusters\n",
    "saveClusters(clusters, 'dbscan')"
   ]
  },
  {
   "cell_type": "markdown",
   "metadata": {},
   "source": [
    "# 3. Evaluation"
   ]
  },
  {
   "cell_type": "code",
   "execution_count": 5,
   "metadata": {},
   "outputs": [
    {
     "ename": "NameError",
     "evalue": "name 'loadSinLimpiarTokens' is not defined",
     "output_type": "error",
     "traceback": [
      "\u001b[0;31m---------------------------------------------------------------------------\u001b[0m",
      "\u001b[0;31mNameError\u001b[0m                                 Traceback (most recent call last)",
      "\u001b[1;32m/Users/aingeru/Documents/Uni/4/Minería de Datos/Proyecto. Clustering de documentos/PruebitasMineria/src/main.ipynb Cell 13\u001b[0m line \u001b[0;36m1\n\u001b[0;32m----> <a href='vscode-notebook-cell:/Users/aingeru/Documents/Uni/4/Mineri%CC%81a%20de%20Datos/Proyecto.%20Clustering%20de%20documentos/PruebitasMineria/src/main.ipynb#X14sZmlsZQ%3D%3D?line=0'>1</a>\u001b[0m tokensSinLimpiar \u001b[39m=\u001b[39m loadSinLimpiarTokens(length\u001b[39m=\u001b[39mnInstances)\n\u001b[1;32m      <a href='vscode-notebook-cell:/Users/aingeru/Documents/Uni/4/Mineri%CC%81a%20de%20Datos/Proyecto.%20Clustering%20de%20documentos/PruebitasMineria/src/main.ipynb#X14sZmlsZQ%3D%3D?line=2'>3</a>\u001b[0m evaluation\u001b[39m.\u001b[39mclassToCluster(rawData, clusters)\n\u001b[1;32m      <a href='vscode-notebook-cell:/Users/aingeru/Documents/Uni/4/Mineri%CC%81a%20de%20Datos/Proyecto.%20Clustering%20de%20documentos/PruebitasMineria/src/main.ipynb#X14sZmlsZQ%3D%3D?line=3'>4</a>\u001b[0m evaluation\u001b[39m.\u001b[39mwordCloud(clusters, tokensSinLimpiar)\n",
      "\u001b[0;31mNameError\u001b[0m: name 'loadSinLimpiarTokens' is not defined"
     ]
    }
   ],
   "source": [
    "tokensSinLimpiar = loadSinLimpiarTokens(length=nInstances)\n",
    "\n",
    "evaluation.classToCluster(rawData, clusters)\n",
    "evaluation.wordCloud(clusters, tokensSinLimpiar)\n",
    "evaluation.getClusterSample(clusterList=algoritmo.clusters, \n",
    "                            numClusters=algoritmo.getNumClusters(),\n",
    "                            rawData=rawData,\n",
    "                            sample=5)"
   ]
  }
 ],
 "metadata": {
  "kernelspec": {
   "display_name": "mineria",
   "language": "python",
   "name": "python3"
  },
  "language_info": {
   "codemirror_mode": {
    "name": "ipython",
    "version": 3
   },
   "file_extension": ".py",
   "mimetype": "text/x-python",
   "name": "python",
   "nbconvert_exporter": "python",
   "pygments_lexer": "ipython3",
   "version": "3.10.13"
  }
 },
 "nbformat": 4,
 "nbformat_minor": 2
}
