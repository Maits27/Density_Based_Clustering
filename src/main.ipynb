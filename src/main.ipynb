{
 "cells": [
  {
   "cell_type": "markdown",
   "metadata": {},
   "source": [
    "<img src=\"../img/diagrams/mainProcess.jpg\" alt=\"drawing\" width=\"500\"/>"
   ]
  },
  {
   "cell_type": "markdown",
   "metadata": {},
   "source": [
    "# 0. Cargar librerías y establecer parámetros\n",
    "Cargamos las liberías necesarias:"
   ]
  },
  {
   "cell_type": "code",
   "execution_count": 1,
   "metadata": {},
   "outputs": [
    {
     "name": "stderr",
     "output_type": "stream",
     "text": [
      "/Users/aingeru/anaconda3/envs/mineria/lib/python3.10/site-packages/tqdm/auto.py:21: TqdmWarning: IProgress not found. Please update jupyter and ipywidgets. See https://ipywidgets.readthedocs.io/en/stable/user_install.html\n",
      "  from .autonotebook import tqdm as notebook_tqdm\n"
     ]
    }
   ],
   "source": [
    "from loadSaveData import loadRAW, saveClusters,loadClusters, loadEmbeddings\n",
    "from tokenization import tokenize\n",
    "import vectorization\n",
    "import clustering\n",
    "import evaluation"
   ]
  },
  {
   "cell_type": "markdown",
   "metadata": {},
   "source": [
    "Establecemos los parámetros:"
   ]
  },
  {
   "cell_type": "code",
   "execution_count": null,
   "metadata": {},
   "outputs": [],
   "source": [
    "path = '../Datasets/Suicide_Detection10000.csv'\n",
    "VectorsDimension = 500 # Not used for 'bertTransformer'\n",
    "vectorizationMode = vectorization.doc2vec # doc2vec, tfidf, bertTransformer\n",
    "clusteringAlgorithm = clustering.DBScanOriginal # DensityAlgorithmUrruela, DensityAlgorithm, DensityAlgorithm2, DBScanOriginal\n",
    "epsilon = 0.05\n",
    "minPts = 3"
   ]
  },
  {
   "cell_type": "markdown",
   "metadata": {},
   "source": [
    "# 1. Pre-proceso\n",
    "## 1.1. Reducción del dataset (train/test)"
   ]
  },
  {
   "cell_type": "markdown",
   "metadata": {},
   "source": [
    "## 1.2. Limpieza, tokenización y vectorización"
   ]
  },
  {
   "cell_type": "code",
   "execution_count": null,
   "metadata": {},
   "outputs": [],
   "source": [
    "rawData = loadRAW(path)\n",
    "if vectorizationMode != vectorization.bertTransformer:\n",
    "    textosToken = tokenize(rawData)\n",
    "    textosEmbedding = vectorizationMode(textosToken=textosToken, dimensiones=dimensions)\n",
    "else: \n",
    "    textEmbeddings = vectorizationMode(rawData)"
   ]
  },
  {
   "cell_type": "markdown",
   "metadata": {},
   "source": [
    "# 2. Clustering"
   ]
  },
  {
   "cell_type": "code",
   "execution_count": null,
   "metadata": {},
   "outputs": [],
   "source": [
    "algoritmo = clusteringAlgorithm(textEmbeddings, epsilon=epsilon, minPt=minPts)\n",
    "algoritmo.ejecutarAlgoritmo()\n",
    "algoritmo.imprimir()\n",
    "clusters = algoritmo.clusters\n",
    "saveClusters(clusters, 'dbscan')"
   ]
  },
  {
   "cell_type": "markdown",
   "metadata": {},
   "source": [
    "# 3. Evaluation"
   ]
  },
  {
   "cell_type": "code",
   "execution_count": null,
   "metadata": {},
   "outputs": [],
   "source": [
    "evaluation.classToCluster(rawData, clusters)\n",
    "evaluation.wordCloud(clusters, textosToken)\n",
    "evaluation.getClusterSample(clusterList=algoritmo.clusters, \n",
    "                            numClusters=algoritmo.getNumClusters(),\n",
    "                            rawData=rawDataWithoutClass,\n",
    "                            sample=5)"
   ]
  }
 ],
 "metadata": {
  "kernelspec": {
   "display_name": "mineria",
   "language": "python",
   "name": "python3"
  },
  "language_info": {
   "codemirror_mode": {
    "name": "ipython",
    "version": 3
   },
   "file_extension": ".py",
   "mimetype": "text/x-python",
   "name": "python",
   "nbconvert_exporter": "python",
   "pygments_lexer": "ipython3",
   "version": "3.10.13"
  }
 },
 "nbformat": 4,
 "nbformat_minor": 2
}
