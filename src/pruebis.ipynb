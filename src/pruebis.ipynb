{
 "cells": [
  {
   "cell_type": "markdown",
   "source": [
    "### INSTALACION DE LOS PAQUETES NECESARIOS"
   ],
   "metadata": {
    "collapsed": false
   }
  },
  {
   "cell_type": "code",
   "execution_count": 1,
   "metadata": {
    "collapsed": true
   },
   "outputs": [
    {
     "name": "stdout",
     "output_type": "stream",
     "text": [
      "Collecting spacy\n",
      "  Downloading spacy-3.7.1-cp310-cp310-win_amd64.whl (12.1 MB)\n",
      "     --------------------------------------- 12.1/12.1 MB 36.4 MB/s eta 0:00:00\n",
      "Collecting pathy>=0.10.0\n",
      "  Downloading pathy-0.10.2-py3-none-any.whl (48 kB)\n",
      "     ---------------------------------------- 48.9/48.9 kB ? eta 0:00:00\n",
      "Requirement already satisfied: requests<3.0.0,>=2.13.0 in c:\\users\\sergio\\pycharmprojects\\pruebitasmineria\\venv\\lib\\site-packages (from spacy) (2.31.0)\n",
      "Collecting langcodes<4.0.0,>=3.2.0\n",
      "  Downloading langcodes-3.3.0-py3-none-any.whl (181 kB)\n",
      "     ---------------------------------------- 181.6/181.6 kB ? eta 0:00:00\n",
      "Collecting murmurhash<1.1.0,>=0.28.0\n",
      "  Downloading murmurhash-1.0.10-cp310-cp310-win_amd64.whl (25 kB)\n",
      "Collecting numpy>=1.19.0\n",
      "  Downloading numpy-1.26.1-cp310-cp310-win_amd64.whl (15.8 MB)\n",
      "     --------------------------------------- 15.8/15.8 MB 36.4 MB/s eta 0:00:00\n",
      "Collecting wasabi<1.2.0,>=0.9.1\n",
      "  Downloading wasabi-1.1.2-py3-none-any.whl (27 kB)\n",
      "Collecting cymem<2.1.0,>=2.0.2\n",
      "  Downloading cymem-2.0.8-cp310-cp310-win_amd64.whl (39 kB)\n",
      "Collecting spacy-loggers<2.0.0,>=1.0.0\n",
      "  Downloading spacy_loggers-1.0.5-py3-none-any.whl (22 kB)\n",
      "Collecting smart-open<7.0.0,>=5.2.1\n",
      "  Downloading smart_open-6.4.0-py3-none-any.whl (57 kB)\n",
      "     ---------------------------------------- 57.0/57.0 kB ? eta 0:00:00\n",
      "Collecting weasel<0.4.0,>=0.1.0\n",
      "  Downloading weasel-0.3.2-py3-none-any.whl (50 kB)\n",
      "     ---------------------------------------- 50.0/50.0 kB ? eta 0:00:00\n",
      "Collecting pydantic!=1.8,!=1.8.1,<3.0.0,>=1.7.4\n",
      "  Downloading pydantic-2.4.2-py3-none-any.whl (395 kB)\n",
      "     ---------------------------------------- 395.8/395.8 kB ? eta 0:00:00\n",
      "Collecting tqdm<5.0.0,>=4.38.0\n",
      "  Downloading tqdm-4.66.1-py3-none-any.whl (78 kB)\n",
      "     ---------------------------------------- 78.3/78.3 kB ? eta 0:00:00\n",
      "Requirement already satisfied: packaging>=20.0 in c:\\users\\sergio\\pycharmprojects\\pruebitasmineria\\venv\\lib\\site-packages (from spacy) (23.2)\n",
      "Collecting thinc<8.3.0,>=8.1.8\n",
      "  Downloading thinc-8.2.1-cp310-cp310-win_amd64.whl (1.5 MB)\n",
      "     ---------------------------------------- 1.5/1.5 MB 31.3 MB/s eta 0:00:00\n",
      "Collecting preshed<3.1.0,>=3.0.2\n",
      "  Downloading preshed-3.0.9-cp310-cp310-win_amd64.whl (122 kB)\n",
      "     -------------------------------------- 122.2/122.2 kB 7.5 MB/s eta 0:00:00\n",
      "Requirement already satisfied: jinja2 in c:\\users\\sergio\\pycharmprojects\\pruebitasmineria\\venv\\lib\\site-packages (from spacy) (3.1.2)\n",
      "Collecting srsly<3.0.0,>=2.4.3\n",
      "  Downloading srsly-2.4.8-cp310-cp310-win_amd64.whl (481 kB)\n",
      "     ------------------------------------- 481.9/481.9 kB 29.5 MB/s eta 0:00:00\n",
      "Requirement already satisfied: setuptools in c:\\users\\sergio\\pycharmprojects\\pruebitasmineria\\venv\\lib\\site-packages (from spacy) (65.5.1)\n",
      "Collecting catalogue<2.1.0,>=2.0.6\n",
      "  Downloading catalogue-2.0.10-py3-none-any.whl (17 kB)\n",
      "Collecting typer<0.10.0,>=0.3.0\n",
      "  Downloading typer-0.9.0-py3-none-any.whl (45 kB)\n",
      "     ---------------------------------------- 45.9/45.9 kB ? eta 0:00:00\n",
      "Collecting spacy-legacy<3.1.0,>=3.0.11\n",
      "  Downloading spacy_legacy-3.0.12-py2.py3-none-any.whl (29 kB)\n",
      "Requirement already satisfied: typing-extensions>=4.6.1 in c:\\users\\sergio\\pycharmprojects\\pruebitasmineria\\venv\\lib\\site-packages (from pydantic!=1.8,!=1.8.1,<3.0.0,>=1.7.4->spacy) (4.8.0)\n",
      "Collecting annotated-types>=0.4.0\n",
      "  Downloading annotated_types-0.6.0-py3-none-any.whl (12 kB)\n",
      "Collecting pydantic-core==2.10.1\n",
      "  Downloading pydantic_core-2.10.1-cp310-none-win_amd64.whl (2.0 MB)\n",
      "     ---------------------------------------- 2.0/2.0 MB 42.1 MB/s eta 0:00:00\n",
      "Requirement already satisfied: certifi>=2017.4.17 in c:\\users\\sergio\\pycharmprojects\\pruebitasmineria\\venv\\lib\\site-packages (from requests<3.0.0,>=2.13.0->spacy) (2023.7.22)\n",
      "Requirement already satisfied: urllib3<3,>=1.21.1 in c:\\users\\sergio\\pycharmprojects\\pruebitasmineria\\venv\\lib\\site-packages (from requests<3.0.0,>=2.13.0->spacy) (2.0.6)\n",
      "Requirement already satisfied: charset-normalizer<4,>=2 in c:\\users\\sergio\\pycharmprojects\\pruebitasmineria\\venv\\lib\\site-packages (from requests<3.0.0,>=2.13.0->spacy) (3.3.0)\n",
      "Requirement already satisfied: idna<4,>=2.5 in c:\\users\\sergio\\pycharmprojects\\pruebitasmineria\\venv\\lib\\site-packages (from requests<3.0.0,>=2.13.0->spacy) (3.4)\n",
      "Collecting confection<1.0.0,>=0.0.1\n",
      "  Downloading confection-0.1.3-py3-none-any.whl (34 kB)\n",
      "Collecting blis<0.8.0,>=0.7.8\n",
      "  Downloading blis-0.7.11-cp310-cp310-win_amd64.whl (6.6 MB)\n",
      "     ---------------------------------------- 6.6/6.6 MB 42.4 MB/s eta 0:00:00\n",
      "Requirement already satisfied: colorama in c:\\users\\sergio\\pycharmprojects\\pruebitasmineria\\venv\\lib\\site-packages (from tqdm<5.0.0,>=4.38.0->spacy) (0.4.6)\n",
      "Collecting click<9.0.0,>=7.1.1\n",
      "  Downloading click-8.1.7-py3-none-any.whl (97 kB)\n",
      "     ---------------------------------------- 97.9/97.9 kB ? eta 0:00:00\n",
      "Collecting cloudpathlib<0.16.0,>=0.7.0\n",
      "  Downloading cloudpathlib-0.15.1-py3-none-any.whl (43 kB)\n",
      "     ---------------------------------------- 43.9/43.9 kB ? eta 0:00:00\n",
      "Requirement already satisfied: MarkupSafe>=2.0 in c:\\users\\sergio\\pycharmprojects\\pruebitasmineria\\venv\\lib\\site-packages (from jinja2->spacy) (2.1.3)\n",
      "Installing collected packages: cymem, wasabi, tqdm, spacy-loggers, spacy-legacy, smart-open, pydantic-core, numpy, murmurhash, langcodes, cloudpathlib, click, catalogue, annotated-types, typer, srsly, pydantic, preshed, blis, pathy, confection, weasel, thinc, spacy\n",
      "Successfully installed annotated-types-0.6.0 blis-0.7.11 catalogue-2.0.10 click-8.1.7 cloudpathlib-0.15.1 confection-0.1.3 cymem-2.0.8 langcodes-3.3.0 murmurhash-1.0.10 numpy-1.26.1 pathy-0.10.2 preshed-3.0.9 pydantic-2.4.2 pydantic-core-2.10.1 smart-open-6.4.0 spacy-3.7.1 spacy-legacy-3.0.12 spacy-loggers-1.0.5 srsly-2.4.8 thinc-8.2.1 tqdm-4.66.1 typer-0.9.0 wasabi-1.1.2 weasel-0.3.2\n"
     ]
    },
    {
     "name": "stderr",
     "output_type": "stream",
     "text": [
      "\n",
      "[notice] A new release of pip available: 22.3.1 -> 23.2.1\n",
      "[notice] To update, run: python.exe -m pip install --upgrade pip\n"
     ]
    },
    {
     "name": "stdout",
     "output_type": "stream",
     "text": [
      "Collecting en-core-web-sm==3.7.0\n",
      "  Downloading https://github.com/explosion/spacy-models/releases/download/en_core_web_sm-3.7.0/en_core_web_sm-3.7.0-py3-none-any.whl (12.8 MB)\n",
      "     --------------------------------------- 12.8/12.8 MB 21.1 MB/s eta 0:00:00\n",
      "Requirement already satisfied: spacy<3.8.0,>=3.7.0 in c:\\users\\sergio\\pycharmprojects\\pruebitasmineria\\venv\\lib\\site-packages (from en-core-web-sm==3.7.0) (3.7.1)\n",
      "Requirement already satisfied: packaging>=20.0 in c:\\users\\sergio\\pycharmprojects\\pruebitasmineria\\venv\\lib\\site-packages (from spacy<3.8.0,>=3.7.0->en-core-web-sm==3.7.0) (23.2)\n",
      "Requirement already satisfied: wasabi<1.2.0,>=0.9.1 in c:\\users\\sergio\\pycharmprojects\\pruebitasmineria\\venv\\lib\\site-packages (from spacy<3.8.0,>=3.7.0->en-core-web-sm==3.7.0) (1.1.2)\n",
      "Requirement already satisfied: jinja2 in c:\\users\\sergio\\pycharmprojects\\pruebitasmineria\\venv\\lib\\site-packages (from spacy<3.8.0,>=3.7.0->en-core-web-sm==3.7.0) (3.1.2)\n",
      "Requirement already satisfied: spacy-loggers<2.0.0,>=1.0.0 in c:\\users\\sergio\\pycharmprojects\\pruebitasmineria\\venv\\lib\\site-packages (from spacy<3.8.0,>=3.7.0->en-core-web-sm==3.7.0) (1.0.5)\n",
      "Requirement already satisfied: pydantic!=1.8,!=1.8.1,<3.0.0,>=1.7.4 in c:\\users\\sergio\\pycharmprojects\\pruebitasmineria\\venv\\lib\\site-packages (from spacy<3.8.0,>=3.7.0->en-core-web-sm==3.7.0) (2.4.2)\n",
      "Requirement already satisfied: langcodes<4.0.0,>=3.2.0 in c:\\users\\sergio\\pycharmprojects\\pruebitasmineria\\venv\\lib\\site-packages (from spacy<3.8.0,>=3.7.0->en-core-web-sm==3.7.0) (3.3.0)\n",
      "Requirement already satisfied: setuptools in c:\\users\\sergio\\pycharmprojects\\pruebitasmineria\\venv\\lib\\site-packages (from spacy<3.8.0,>=3.7.0->en-core-web-sm==3.7.0) (65.5.1)\n",
      "Requirement already satisfied: pathy>=0.10.0 in c:\\users\\sergio\\pycharmprojects\\pruebitasmineria\\venv\\lib\\site-packages (from spacy<3.8.0,>=3.7.0->en-core-web-sm==3.7.0) (0.10.2)\n",
      "Requirement already satisfied: tqdm<5.0.0,>=4.38.0 in c:\\users\\sergio\\pycharmprojects\\pruebitasmineria\\venv\\lib\\site-packages (from spacy<3.8.0,>=3.7.0->en-core-web-sm==3.7.0) (4.66.1)\n",
      "Requirement already satisfied: murmurhash<1.1.0,>=0.28.0 in c:\\users\\sergio\\pycharmprojects\\pruebitasmineria\\venv\\lib\\site-packages (from spacy<3.8.0,>=3.7.0->en-core-web-sm==3.7.0) (1.0.10)\n",
      "Requirement already satisfied: numpy>=1.19.0 in c:\\users\\sergio\\pycharmprojects\\pruebitasmineria\\venv\\lib\\site-packages (from spacy<3.8.0,>=3.7.0->en-core-web-sm==3.7.0) (1.26.1)\n",
      "Requirement already satisfied: thinc<8.3.0,>=8.1.8 in c:\\users\\sergio\\pycharmprojects\\pruebitasmineria\\venv\\lib\\site-packages (from spacy<3.8.0,>=3.7.0->en-core-web-sm==3.7.0) (8.2.1)\n",
      "Requirement already satisfied: spacy-legacy<3.1.0,>=3.0.11 in c:\\users\\sergio\\pycharmprojects\\pruebitasmineria\\venv\\lib\\site-packages (from spacy<3.8.0,>=3.7.0->en-core-web-sm==3.7.0) (3.0.12)\n",
      "Requirement already satisfied: srsly<3.0.0,>=2.4.3 in c:\\users\\sergio\\pycharmprojects\\pruebitasmineria\\venv\\lib\\site-packages (from spacy<3.8.0,>=3.7.0->en-core-web-sm==3.7.0) (2.4.8)\n",
      "Requirement already satisfied: cymem<2.1.0,>=2.0.2 in c:\\users\\sergio\\pycharmprojects\\pruebitasmineria\\venv\\lib\\site-packages (from spacy<3.8.0,>=3.7.0->en-core-web-sm==3.7.0) (2.0.8)\n",
      "Requirement already satisfied: catalogue<2.1.0,>=2.0.6 in c:\\users\\sergio\\pycharmprojects\\pruebitasmineria\\venv\\lib\\site-packages (from spacy<3.8.0,>=3.7.0->en-core-web-sm==3.7.0) (2.0.10)\n",
      "Requirement already satisfied: preshed<3.1.0,>=3.0.2 in c:\\users\\sergio\\pycharmprojects\\pruebitasmineria\\venv\\lib\\site-packages (from spacy<3.8.0,>=3.7.0->en-core-web-sm==3.7.0) (3.0.9)\n",
      "Requirement already satisfied: smart-open<7.0.0,>=5.2.1 in c:\\users\\sergio\\pycharmprojects\\pruebitasmineria\\venv\\lib\\site-packages (from spacy<3.8.0,>=3.7.0->en-core-web-sm==3.7.0) (6.4.0)\n",
      "Requirement already satisfied: weasel<0.4.0,>=0.1.0 in c:\\users\\sergio\\pycharmprojects\\pruebitasmineria\\venv\\lib\\site-packages (from spacy<3.8.0,>=3.7.0->en-core-web-sm==3.7.0) (0.3.2)\n",
      "Requirement already satisfied: typer<0.10.0,>=0.3.0 in c:\\users\\sergio\\pycharmprojects\\pruebitasmineria\\venv\\lib\\site-packages (from spacy<3.8.0,>=3.7.0->en-core-web-sm==3.7.0) (0.9.0)\n",
      "Requirement already satisfied: requests<3.0.0,>=2.13.0 in c:\\users\\sergio\\pycharmprojects\\pruebitasmineria\\venv\\lib\\site-packages (from spacy<3.8.0,>=3.7.0->en-core-web-sm==3.7.0) (2.31.0)\n",
      "Requirement already satisfied: typing-extensions>=4.6.1 in c:\\users\\sergio\\pycharmprojects\\pruebitasmineria\\venv\\lib\\site-packages (from pydantic!=1.8,!=1.8.1,<3.0.0,>=1.7.4->spacy<3.8.0,>=3.7.0->en-core-web-sm==3.7.0) (4.8.0)\n",
      "Requirement already satisfied: pydantic-core==2.10.1 in c:\\users\\sergio\\pycharmprojects\\pruebitasmineria\\venv\\lib\\site-packages (from pydantic!=1.8,!=1.8.1,<3.0.0,>=1.7.4->spacy<3.8.0,>=3.7.0->en-core-web-sm==3.7.0) (2.10.1)\n",
      "Requirement already satisfied: annotated-types>=0.4.0 in c:\\users\\sergio\\pycharmprojects\\pruebitasmineria\\venv\\lib\\site-packages (from pydantic!=1.8,!=1.8.1,<3.0.0,>=1.7.4->spacy<3.8.0,>=3.7.0->en-core-web-sm==3.7.0) (0.6.0)\n",
      "Requirement already satisfied: charset-normalizer<4,>=2 in c:\\users\\sergio\\pycharmprojects\\pruebitasmineria\\venv\\lib\\site-packages (from requests<3.0.0,>=2.13.0->spacy<3.8.0,>=3.7.0->en-core-web-sm==3.7.0) (3.3.0)\n",
      "Requirement already satisfied: certifi>=2017.4.17 in c:\\users\\sergio\\pycharmprojects\\pruebitasmineria\\venv\\lib\\site-packages (from requests<3.0.0,>=2.13.0->spacy<3.8.0,>=3.7.0->en-core-web-sm==3.7.0) (2023.7.22)\n",
      "Requirement already satisfied: idna<4,>=2.5 in c:\\users\\sergio\\pycharmprojects\\pruebitasmineria\\venv\\lib\\site-packages (from requests<3.0.0,>=2.13.0->spacy<3.8.0,>=3.7.0->en-core-web-sm==3.7.0) (3.4)\n",
      "Requirement already satisfied: urllib3<3,>=1.21.1 in c:\\users\\sergio\\pycharmprojects\\pruebitasmineria\\venv\\lib\\site-packages (from requests<3.0.0,>=2.13.0->spacy<3.8.0,>=3.7.0->en-core-web-sm==3.7.0) (2.0.6)\n",
      "Requirement already satisfied: blis<0.8.0,>=0.7.8 in c:\\users\\sergio\\pycharmprojects\\pruebitasmineria\\venv\\lib\\site-packages (from thinc<8.3.0,>=8.1.8->spacy<3.8.0,>=3.7.0->en-core-web-sm==3.7.0) (0.7.11)\n",
      "Requirement already satisfied: confection<1.0.0,>=0.0.1 in c:\\users\\sergio\\pycharmprojects\\pruebitasmineria\\venv\\lib\\site-packages (from thinc<8.3.0,>=8.1.8->spacy<3.8.0,>=3.7.0->en-core-web-sm==3.7.0) (0.1.3)\n",
      "Requirement already satisfied: colorama in c:\\users\\sergio\\pycharmprojects\\pruebitasmineria\\venv\\lib\\site-packages (from tqdm<5.0.0,>=4.38.0->spacy<3.8.0,>=3.7.0->en-core-web-sm==3.7.0) (0.4.6)\n",
      "Requirement already satisfied: click<9.0.0,>=7.1.1 in c:\\users\\sergio\\pycharmprojects\\pruebitasmineria\\venv\\lib\\site-packages (from typer<0.10.0,>=0.3.0->spacy<3.8.0,>=3.7.0->en-core-web-sm==3.7.0) (8.1.7)\n",
      "Requirement already satisfied: cloudpathlib<0.16.0,>=0.7.0 in c:\\users\\sergio\\pycharmprojects\\pruebitasmineria\\venv\\lib\\site-packages (from weasel<0.4.0,>=0.1.0->spacy<3.8.0,>=3.7.0->en-core-web-sm==3.7.0) (0.15.1)\n",
      "Requirement already satisfied: MarkupSafe>=2.0 in c:\\users\\sergio\\pycharmprojects\\pruebitasmineria\\venv\\lib\\site-packages (from jinja2->spacy<3.8.0,>=3.7.0->en-core-web-sm==3.7.0) (2.1.3)\n",
      "Installing collected packages: en-core-web-sm\n",
      "Successfully installed en-core-web-sm-3.7.0\n",
      "\u001B[38;5;3m[!] As of spaCy v3.0, shortcuts like 'en' are deprecated. Please use\n",
      "the full pipeline package name 'en_core_web_sm' instead.\u001B[0m\n",
      "\u001B[38;5;2m[+] Download and installation successful\u001B[0m\n",
      "You can now load the package via spacy.load('en_core_web_sm')\n"
     ]
    },
    {
     "name": "stderr",
     "output_type": "stream",
     "text": [
      "\n",
      "[notice] A new release of pip available: 22.3.1 -> 23.2.1\n",
      "[notice] To update, run: python.exe -m pip install --upgrade pip\n"
     ]
    },
    {
     "name": "stdout",
     "output_type": "stream",
     "text": [
      "Collecting spacymoji\n",
      "  Downloading spacymoji-3.1.0-py2.py3-none-any.whl (8.5 kB)\n",
      "Collecting emoji<3.0,>=2.0\n",
      "  Downloading emoji-2.8.0-py2.py3-none-any.whl (358 kB)\n",
      "     -------------------------------------- 358.9/358.9 kB 3.7 MB/s eta 0:00:00\n",
      "Requirement already satisfied: spacy<4.0.0,>=3.0.0 in c:\\users\\sergio\\pycharmprojects\\pruebitasmineria\\venv\\lib\\site-packages (from spacymoji) (3.7.1)\n",
      "Requirement already satisfied: thinc<8.3.0,>=8.1.8 in c:\\users\\sergio\\pycharmprojects\\pruebitasmineria\\venv\\lib\\site-packages (from spacy<4.0.0,>=3.0.0->spacymoji) (8.2.1)\n",
      "Requirement already satisfied: requests<3.0.0,>=2.13.0 in c:\\users\\sergio\\pycharmprojects\\pruebitasmineria\\venv\\lib\\site-packages (from spacy<4.0.0,>=3.0.0->spacymoji) (2.31.0)\n",
      "Requirement already satisfied: cymem<2.1.0,>=2.0.2 in c:\\users\\sergio\\pycharmprojects\\pruebitasmineria\\venv\\lib\\site-packages (from spacy<4.0.0,>=3.0.0->spacymoji) (2.0.8)\n",
      "Requirement already satisfied: jinja2 in c:\\users\\sergio\\pycharmprojects\\pruebitasmineria\\venv\\lib\\site-packages (from spacy<4.0.0,>=3.0.0->spacymoji) (3.1.2)\n",
      "Requirement already satisfied: catalogue<2.1.0,>=2.0.6 in c:\\users\\sergio\\pycharmprojects\\pruebitasmineria\\venv\\lib\\site-packages (from spacy<4.0.0,>=3.0.0->spacymoji) (2.0.10)\n",
      "Requirement already satisfied: smart-open<7.0.0,>=5.2.1 in c:\\users\\sergio\\pycharmprojects\\pruebitasmineria\\venv\\lib\\site-packages (from spacy<4.0.0,>=3.0.0->spacymoji) (6.4.0)\n",
      "Requirement already satisfied: weasel<0.4.0,>=0.1.0 in c:\\users\\sergio\\pycharmprojects\\pruebitasmineria\\venv\\lib\\site-packages (from spacy<4.0.0,>=3.0.0->spacymoji) (0.3.2)\n",
      "Requirement already satisfied: typer<0.10.0,>=0.3.0 in c:\\users\\sergio\\pycharmprojects\\pruebitasmineria\\venv\\lib\\site-packages (from spacy<4.0.0,>=3.0.0->spacymoji) (0.9.0)\n",
      "Requirement already satisfied: spacy-loggers<2.0.0,>=1.0.0 in c:\\users\\sergio\\pycharmprojects\\pruebitasmineria\\venv\\lib\\site-packages (from spacy<4.0.0,>=3.0.0->spacymoji) (1.0.5)\n",
      "Requirement already satisfied: murmurhash<1.1.0,>=0.28.0 in c:\\users\\sergio\\pycharmprojects\\pruebitasmineria\\venv\\lib\\site-packages (from spacy<4.0.0,>=3.0.0->spacymoji) (1.0.10)\n",
      "Requirement already satisfied: pathy>=0.10.0 in c:\\users\\sergio\\pycharmprojects\\pruebitasmineria\\venv\\lib\\site-packages (from spacy<4.0.0,>=3.0.0->spacymoji) (0.10.2)\n",
      "Requirement already satisfied: tqdm<5.0.0,>=4.38.0 in c:\\users\\sergio\\pycharmprojects\\pruebitasmineria\\venv\\lib\\site-packages (from spacy<4.0.0,>=3.0.0->spacymoji) (4.66.1)\n",
      "Requirement already satisfied: setuptools in c:\\users\\sergio\\pycharmprojects\\pruebitasmineria\\venv\\lib\\site-packages (from spacy<4.0.0,>=3.0.0->spacymoji) (65.5.1)\n",
      "Requirement already satisfied: langcodes<4.0.0,>=3.2.0 in c:\\users\\sergio\\pycharmprojects\\pruebitasmineria\\venv\\lib\\site-packages (from spacy<4.0.0,>=3.0.0->spacymoji) (3.3.0)\n",
      "Requirement already satisfied: numpy>=1.19.0 in c:\\users\\sergio\\pycharmprojects\\pruebitasmineria\\venv\\lib\\site-packages (from spacy<4.0.0,>=3.0.0->spacymoji) (1.26.1)\n",
      "Requirement already satisfied: packaging>=20.0 in c:\\users\\sergio\\pycharmprojects\\pruebitasmineria\\venv\\lib\\site-packages (from spacy<4.0.0,>=3.0.0->spacymoji) (23.2)\n",
      "Requirement already satisfied: spacy-legacy<3.1.0,>=3.0.11 in c:\\users\\sergio\\pycharmprojects\\pruebitasmineria\\venv\\lib\\site-packages (from spacy<4.0.0,>=3.0.0->spacymoji) (3.0.12)\n",
      "Requirement already satisfied: pydantic!=1.8,!=1.8.1,<3.0.0,>=1.7.4 in c:\\users\\sergio\\pycharmprojects\\pruebitasmineria\\venv\\lib\\site-packages (from spacy<4.0.0,>=3.0.0->spacymoji) (2.4.2)\n",
      "Requirement already satisfied: preshed<3.1.0,>=3.0.2 in c:\\users\\sergio\\pycharmprojects\\pruebitasmineria\\venv\\lib\\site-packages (from spacy<4.0.0,>=3.0.0->spacymoji) (3.0.9)\n",
      "Requirement already satisfied: wasabi<1.2.0,>=0.9.1 in c:\\users\\sergio\\pycharmprojects\\pruebitasmineria\\venv\\lib\\site-packages (from spacy<4.0.0,>=3.0.0->spacymoji) (1.1.2)\n",
      "Requirement already satisfied: srsly<3.0.0,>=2.4.3 in c:\\users\\sergio\\pycharmprojects\\pruebitasmineria\\venv\\lib\\site-packages (from spacy<4.0.0,>=3.0.0->spacymoji) (2.4.8)\n",
      "Requirement already satisfied: annotated-types>=0.4.0 in c:\\users\\sergio\\pycharmprojects\\pruebitasmineria\\venv\\lib\\site-packages (from pydantic!=1.8,!=1.8.1,<3.0.0,>=1.7.4->spacy<4.0.0,>=3.0.0->spacymoji) (0.6.0)\n",
      "Requirement already satisfied: pydantic-core==2.10.1 in c:\\users\\sergio\\pycharmprojects\\pruebitasmineria\\venv\\lib\\site-packages (from pydantic!=1.8,!=1.8.1,<3.0.0,>=1.7.4->spacy<4.0.0,>=3.0.0->spacymoji) (2.10.1)\n",
      "Requirement already satisfied: typing-extensions>=4.6.1 in c:\\users\\sergio\\pycharmprojects\\pruebitasmineria\\venv\\lib\\site-packages (from pydantic!=1.8,!=1.8.1,<3.0.0,>=1.7.4->spacy<4.0.0,>=3.0.0->spacymoji) (4.8.0)\n",
      "Requirement already satisfied: idna<4,>=2.5 in c:\\users\\sergio\\pycharmprojects\\pruebitasmineria\\venv\\lib\\site-packages (from requests<3.0.0,>=2.13.0->spacy<4.0.0,>=3.0.0->spacymoji) (3.4)\n",
      "Requirement already satisfied: certifi>=2017.4.17 in c:\\users\\sergio\\pycharmprojects\\pruebitasmineria\\venv\\lib\\site-packages (from requests<3.0.0,>=2.13.0->spacy<4.0.0,>=3.0.0->spacymoji) (2023.7.22)\n",
      "Requirement already satisfied: charset-normalizer<4,>=2 in c:\\users\\sergio\\pycharmprojects\\pruebitasmineria\\venv\\lib\\site-packages (from requests<3.0.0,>=2.13.0->spacy<4.0.0,>=3.0.0->spacymoji) (3.3.0)\n",
      "Requirement already satisfied: urllib3<3,>=1.21.1 in c:\\users\\sergio\\pycharmprojects\\pruebitasmineria\\venv\\lib\\site-packages (from requests<3.0.0,>=2.13.0->spacy<4.0.0,>=3.0.0->spacymoji) (2.0.6)\n",
      "Requirement already satisfied: blis<0.8.0,>=0.7.8 in c:\\users\\sergio\\pycharmprojects\\pruebitasmineria\\venv\\lib\\site-packages (from thinc<8.3.0,>=8.1.8->spacy<4.0.0,>=3.0.0->spacymoji) (0.7.11)\n",
      "Requirement already satisfied: confection<1.0.0,>=0.0.1 in c:\\users\\sergio\\pycharmprojects\\pruebitasmineria\\venv\\lib\\site-packages (from thinc<8.3.0,>=8.1.8->spacy<4.0.0,>=3.0.0->spacymoji) (0.1.3)\n",
      "Requirement already satisfied: colorama in c:\\users\\sergio\\pycharmprojects\\pruebitasmineria\\venv\\lib\\site-packages (from tqdm<5.0.0,>=4.38.0->spacy<4.0.0,>=3.0.0->spacymoji) (0.4.6)\n",
      "Requirement already satisfied: click<9.0.0,>=7.1.1 in c:\\users\\sergio\\pycharmprojects\\pruebitasmineria\\venv\\lib\\site-packages (from typer<0.10.0,>=0.3.0->spacy<4.0.0,>=3.0.0->spacymoji) (8.1.7)\n",
      "Requirement already satisfied: cloudpathlib<0.16.0,>=0.7.0 in c:\\users\\sergio\\pycharmprojects\\pruebitasmineria\\venv\\lib\\site-packages (from weasel<0.4.0,>=0.1.0->spacy<4.0.0,>=3.0.0->spacymoji) (0.15.1)\n",
      "Requirement already satisfied: MarkupSafe>=2.0 in c:\\users\\sergio\\pycharmprojects\\pruebitasmineria\\venv\\lib\\site-packages (from jinja2->spacy<4.0.0,>=3.0.0->spacymoji) (2.1.3)\n",
      "Installing collected packages: emoji, spacymoji\n",
      "Successfully installed emoji-2.8.0 spacymoji-3.1.0\n"
     ]
    },
    {
     "name": "stderr",
     "output_type": "stream",
     "text": [
      "\n",
      "[notice] A new release of pip available: 22.3.1 -> 23.2.1\n",
      "[notice] To update, run: python.exe -m pip install --upgrade pip\n"
     ]
    },
    {
     "name": "stdout",
     "output_type": "stream",
     "text": [
      "Requirement already satisfied: emoji in c:\\users\\sergio\\pycharmprojects\\pruebitasmineria\\venv\\lib\\site-packages (2.8.0)\n"
     ]
    },
    {
     "name": "stderr",
     "output_type": "stream",
     "text": [
      "\n",
      "[notice] A new release of pip available: 22.3.1 -> 23.2.1\n",
      "[notice] To update, run: python.exe -m pip install --upgrade pip\n"
     ]
    },
    {
     "name": "stdout",
     "output_type": "stream",
     "text": [
      "Collecting gensim\n",
      "  Downloading gensim-4.3.2-cp310-cp310-win_amd64.whl (24.0 MB)\n",
      "     --------------------------------------- 24.0/24.0 MB 31.2 MB/s eta 0:00:00\n",
      "Requirement already satisfied: smart-open>=1.8.1 in c:\\users\\sergio\\pycharmprojects\\pruebitasmineria\\venv\\lib\\site-packages (from gensim) (6.4.0)\n",
      "Collecting scipy>=1.7.0\n",
      "  Downloading scipy-1.11.3-cp310-cp310-win_amd64.whl (44.1 MB)\n",
      "     --------------------------------------- 44.1/44.1 MB 34.4 MB/s eta 0:00:00\n",
      "Requirement already satisfied: numpy>=1.18.5 in c:\\users\\sergio\\pycharmprojects\\pruebitasmineria\\venv\\lib\\site-packages (from gensim) (1.26.1)\n",
      "Installing collected packages: scipy, gensim\n",
      "Successfully installed gensim-4.3.2 scipy-1.11.3\n"
     ]
    },
    {
     "name": "stderr",
     "output_type": "stream",
     "text": [
      "\n",
      "[notice] A new release of pip available: 22.3.1 -> 23.2.1\n",
      "[notice] To update, run: python.exe -m pip install --upgrade pip\n",
      "  error: subprocess-exited-with-error\n",
      "  \n",
      "  python setup.py egg_info did not run successfully.\n",
      "  exit code: 1\n",
      "  \n",
      "  [18 lines of output]\n",
      "  The 'sklearn' PyPI package is deprecated, use 'scikit-learn'\n",
      "  rather than 'sklearn' for pip commands.\n",
      "  \n",
      "  Here is how to fix this error in the main use cases:\n",
      "  - use 'pip install scikit-learn' rather than 'pip install sklearn'\n",
      "  - replace 'sklearn' by 'scikit-learn' in your pip requirements files\n",
      "    (requirements.txt, setup.py, setup.cfg, Pipfile, etc ...)\n",
      "  - if the 'sklearn' package is used by one of your dependencies,\n",
      "    it would be great if you take some time to track which package uses\n",
      "    'sklearn' instead of 'scikit-learn' and report it to their issue tracker\n",
      "  - as a last resort, set the environment variable\n",
      "    SKLEARN_ALLOW_DEPRECATED_SKLEARN_PACKAGE_INSTALL=True to avoid this error\n",
      "  \n",
      "  More information is available at\n",
      "  https://github.com/scikit-learn/sklearn-pypi-package\n",
      "  \n",
      "  If the previous advice does not cover your use case, feel free to report it at\n",
      "  https://github.com/scikit-learn/sklearn-pypi-package/issues/new\n",
      "  [end of output]\n",
      "  \n",
      "  note: This error originates from a subprocess, and is likely not a problem with pip.\n",
      "error: metadata-generation-failed\n",
      "\n",
      "Encountered error while generating package metadata.\n",
      "\n",
      "See above for output.\n",
      "\n",
      "note: This is an issue with the package mentioned above, not pip.\n",
      "hint: See above for details.\n",
      "\n",
      "[notice] A new release of pip available: 22.3.1 -> 23.2.1\n",
      "[notice] To update, run: python.exe -m pip install --upgrade pip\n"
     ]
    },
    {
     "name": "stdout",
     "output_type": "stream",
     "text": [
      "Collecting sklearn\n",
      "  Downloading sklearn-0.0.post10.tar.gz (3.6 kB)\n",
      "  Preparing metadata (setup.py): started\n",
      "  Preparing metadata (setup.py): finished with status 'error'\n"
     ]
    },
    {
     "ename": "ModuleNotFoundError",
     "evalue": "No module named 'pandas'",
     "output_type": "error",
     "traceback": [
      "\u001B[1;31m---------------------------------------------------------------------------\u001B[0m",
      "\u001B[1;31mModuleNotFoundError\u001B[0m                       Traceback (most recent call last)",
      "Cell \u001B[1;32mIn[1], line 8\u001B[0m\n\u001B[0;32m      5\u001B[0m get_ipython()\u001B[38;5;241m.\u001B[39msystem(\u001B[38;5;124m'\u001B[39m\u001B[38;5;124m pip install gensim\u001B[39m\u001B[38;5;124m'\u001B[39m)\n\u001B[0;32m      6\u001B[0m get_ipython()\u001B[38;5;241m.\u001B[39msystem(\u001B[38;5;124m'\u001B[39m\u001B[38;5;124m pip install sklearn\u001B[39m\u001B[38;5;124m'\u001B[39m)\n\u001B[1;32m----> 8\u001B[0m \u001B[38;5;28;01mimport\u001B[39;00m \u001B[38;5;21;01mpandas\u001B[39;00m \u001B[38;5;28;01mas\u001B[39;00m \u001B[38;5;21;01mpd\u001B[39;00m\n\u001B[0;32m      9\u001B[0m \u001B[38;5;28;01mimport\u001B[39;00m \u001B[38;5;21;01mspacy\u001B[39;00m\n\u001B[0;32m     10\u001B[0m \u001B[38;5;28;01mimport\u001B[39;00m \u001B[38;5;21;01memoji\u001B[39;00m\n",
      "\u001B[1;31mModuleNotFoundError\u001B[0m: No module named 'pandas'"
     ]
    }
   ],
   "source": [
    "! pip install -U spacy\n",
    "! python -m spacy download en\n",
    "! pip install spacymoji\n",
    "! pip install emoji\n",
    "! pip install gensim\n",
    "! pip install sklearn\n",
    "\n",
    "import pandas as pd\n",
    "import spacy\n",
    "import emoji\n",
    "import numpy as np\n",
    "\n",
    "from sklearn.cluster import DBSCAN\n",
    "from gensim.models import Doc2Vec\n",
    "from gensim.models.doc2vec import TaggedDocument\n",
    "from gensim.test.utils import get_tmpfile\n"
   ]
  },
  {
   "cell_type": "markdown",
   "source": [
    "### CARGAR FICHERO CSV CON LOS DATOS"
   ],
   "metadata": {
    "collapsed": false
   }
  },
  {
   "cell_type": "code",
   "execution_count": null,
   "outputs": [],
   "source": [
    "data = pd.read_csv('../Datasets/Suicide_Detection.csv')"
   ],
   "metadata": {
    "collapsed": false
   }
  },
  {
   "cell_type": "markdown",
   "source": [
    "### SELECCIONAR LA COLUMNA DE TEXTOS (DISCRIMINAR LA CLASE)"
   ],
   "metadata": {
    "collapsed": false
   }
  },
  {
   "cell_type": "code",
   "execution_count": null,
   "outputs": [],
   "source": [
    "textos = []\n",
    "for instancia in data.values:\n",
    "    textos.append(instancia[1])"
   ],
   "metadata": {
    "collapsed": false
   }
  },
  {
   "cell_type": "markdown",
   "source": [
    "### LIMPIEZA Y FORMARTEO DE LOS DATOS"
   ],
   "metadata": {
    "collapsed": false
   }
  },
  {
   "cell_type": "code",
   "execution_count": null,
   "outputs": [],
   "source": [
    "nlp = spacy.load(\"en_core_web_sm\") # Cargar modelo\n",
    "nlp.add_pipe(\"emoji\", first=True)\n",
    "\n",
    "textos_tokenizados =[]\n",
    "for t in textos:\n",
    "    t= emoji.demojize(t) # Emojis a texto\n",
    "    doc=nlp(t)\n",
    "    lexical_tokens = [token.lemma_.lower() for token in doc if len(token.text) > 3 and token.is_alpha]\n",
    "    textos_tokenizados.append(lexical_tokens)\n"
   ],
   "metadata": {
    "collapsed": false
   }
  },
  {
   "cell_type": "markdown",
   "source": [
    "### VECTORIZACION DE LOS DATOS (DOC2VEC)"
   ],
   "metadata": {
    "collapsed": false
   }
  },
  {
   "cell_type": "code",
   "execution_count": null,
   "outputs": [],
   "source": [
    "documents = [TaggedDocument(doc, [i]) for i, doc in enumerate(textos_tokenizados)]\n",
    "model = Doc2Vec(documents, vector_size=150, window=2, dm=1, epochs=100, workers=4)\n",
    "# DM siempre a 1 para que sea distributed memory (que tenga en cuenta el contexto)\n",
    "# Window se puede cambiar pero tener en cuenta que cuanto mayor sea mas coste genera\n",
    "# Negative: siempre a 0 para que aprenda que palabras son ruido\n",
    "#Los que se pueden probar para parametro ekorketa:\n",
    "    # VECTOR SIZE!!!! (tamaño del embedding: dimensiones)\n",
    "    # Epochs: numero de iteraciones por el dataset\n",
    "    # Alpha: learning rate inicial\n",
    "    # Min alpha: El valor de LR con el que va acabar → Igual no poner?\n",
    "    # Max_vocab_size: Limita el tamaño maximo de las palabras a tener en cuenta (borra las menos frecuentes)\n",
    "\n",
    "model.build_vocab(documents)\n",
    "model.train(documents, total_examples=model.corpus_count, epochs=model.epochs)\n",
    "\n",
    "model.save(get_tmpfile(\"my_doc2vec_model\"))\n",
    "\n",
    "#vector = model.infer_vector(['wife', 'threaten', 'leave', 'wife', 'good', 'because', 'cheat', 'twice', 'lie', 'much', 'that', 'have', 'decide', 'refuse', 'back', 'day', 'begin', 'threaten', 'suicide', 'have', 'tirelessly', 'spend', 'these', 'paat', 'day', 'talk', 'keep'])\n",
    "\n",
    "#similar_documents = model.dv.most_similar(vector) # Deberia salir 0 porque es el documento del que se han sacado todas las palabras"
   ],
   "metadata": {
    "collapsed": false
   }
  },
  {
   "cell_type": "markdown",
   "source": [
    "### DBSCAN (PREDETERMINADO)"
   ],
   "metadata": {
    "collapsed": false
   }
  },
  {
   "cell_type": "code",
   "execution_count": null,
   "outputs": [],
   "source": [
    "document_vectors = [model.infer_vector(doc) for doc in textos_tokenizados]\n",
    "\n",
    "# Aplicar DBSCAN a los vectores de documentos\n",
    "dbscan = DBSCAN(eps=2, min_samples=2, leaf_size=5)  # Ajusta los parámetros según tu caso\n",
    "labels = dbscan.fit_predict(np.array(document_vectors))\n",
    "\n",
    "# Los resultados del clustering están en 'labels'\n",
    "print(\"Etiquetas de clusters:\", labels)"
   ],
   "metadata": {
    "collapsed": false
   }
  }
 ],
 "metadata": {
  "kernelspec": {
   "display_name": "Python 3",
   "language": "python",
   "name": "python3"
  },
  "language_info": {
   "codemirror_mode": {
    "name": "ipython",
    "version": 2
   },
   "file_extension": ".py",
   "mimetype": "text/x-python",
   "name": "python",
   "nbconvert_exporter": "python",
   "pygments_lexer": "ipython2",
   "version": "2.7.6"
  }
 },
 "nbformat": 4,
 "nbformat_minor": 0
}
