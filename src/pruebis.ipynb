{
 "cells": [
  {
   "cell_type": "markdown",
   "metadata": {
    "collapsed": false
   },
   "source": [
    "### INSTALACION DE LOS PAQUETES NECESARIOS"
   ]
  },
  {
   "cell_type": "code",
   "execution_count": 1,
   "metadata": {
    "collapsed": true,
    "ExecuteTime": {
     "start_time": "2023-10-16T15:58:56.824402Z",
     "end_time": "2023-10-16T15:59:41.899954Z"
    }
   },
   "outputs": [
    {
     "name": "stdout",
     "output_type": "stream",
     "text": [
      "Collecting spacy\n",
      "  Using cached spacy-3.7.1-cp310-cp310-win_amd64.whl (12.1 MB)\n",
      "Requirement already satisfied: jinja2 in c:\\users\\maiti\\pycharmprojects\\pruebitasmineria\\venv\\lib\\site-packages (from spacy) (3.1.2)\n",
      "Collecting srsly<3.0.0,>=2.4.3\n",
      "  Using cached srsly-2.4.8-cp310-cp310-win_amd64.whl (481 kB)\n",
      "Requirement already satisfied: packaging>=20.0 in c:\\users\\maiti\\pycharmprojects\\pruebitasmineria\\venv\\lib\\site-packages (from spacy) (23.2)\n",
      "Requirement already satisfied: wasabi<1.2.0,>=0.9.1 in c:\\users\\maiti\\pycharmprojects\\pruebitasmineria\\venv\\lib\\site-packages (from spacy) (1.1.2)\n",
      "Collecting thinc<8.3.0,>=8.1.8\n",
      "  Using cached thinc-8.2.1-cp310-cp310-win_amd64.whl (1.5 MB)\n",
      "Requirement already satisfied: tqdm<5.0.0,>=4.38.0 in c:\\users\\maiti\\pycharmprojects\\pruebitasmineria\\venv\\lib\\site-packages (from spacy) (4.66.1)\n",
      "Requirement already satisfied: spacy-legacy<3.1.0,>=3.0.11 in c:\\users\\maiti\\pycharmprojects\\pruebitasmineria\\venv\\lib\\site-packages (from spacy) (3.0.12)\n",
      "Collecting typer<0.10.0,>=0.3.0\n",
      "  Using cached typer-0.9.0-py3-none-any.whl (45 kB)\n",
      "Requirement already satisfied: setuptools in c:\\users\\maiti\\pycharmprojects\\pruebitasmineria\\venv\\lib\\site-packages (from spacy) (65.5.1)\n",
      "Collecting preshed<3.1.0,>=3.0.2\n",
      "  Using cached preshed-3.0.9-cp310-cp310-win_amd64.whl (122 kB)\n",
      "Collecting langcodes<4.0.0,>=3.2.0\n",
      "  Using cached langcodes-3.3.0-py3-none-any.whl (181 kB)\n",
      "Collecting pathy>=0.10.0\n",
      "  Using cached pathy-0.10.2-py3-none-any.whl (48 kB)\n",
      "Requirement already satisfied: spacy-loggers<2.0.0,>=1.0.0 in c:\\users\\maiti\\pycharmprojects\\pruebitasmineria\\venv\\lib\\site-packages (from spacy) (1.0.5)\n",
      "Collecting weasel<0.4.0,>=0.1.0\n",
      "  Using cached weasel-0.3.3-py3-none-any.whl (49 kB)\n",
      "Requirement already satisfied: smart-open<7.0.0,>=5.2.1 in c:\\users\\maiti\\pycharmprojects\\pruebitasmineria\\venv\\lib\\site-packages (from spacy) (6.4.0)\n",
      "Requirement already satisfied: numpy>=1.19.0 in c:\\users\\maiti\\pycharmprojects\\pruebitasmineria\\venv\\lib\\site-packages (from spacy) (1.26.1)\n",
      "Collecting murmurhash<1.1.0,>=0.28.0\n",
      "  Using cached murmurhash-1.0.10-cp310-cp310-win_amd64.whl (25 kB)\n",
      "Collecting pydantic!=1.8,!=1.8.1,<3.0.0,>=1.7.4\n",
      "  Using cached pydantic-2.4.2-py3-none-any.whl (395 kB)\n",
      "Requirement already satisfied: requests<3.0.0,>=2.13.0 in c:\\users\\maiti\\pycharmprojects\\pruebitasmineria\\venv\\lib\\site-packages (from spacy) (2.31.0)\n",
      "Collecting catalogue<2.1.0,>=2.0.6\n",
      "  Using cached catalogue-2.0.10-py3-none-any.whl (17 kB)\n",
      "Requirement already satisfied: cymem<2.1.0,>=2.0.2 in c:\\users\\maiti\\pycharmprojects\\pruebitasmineria\\venv\\lib\\site-packages (from spacy) (2.0.8)\n",
      "Collecting annotated-types>=0.4.0\n",
      "  Using cached annotated_types-0.6.0-py3-none-any.whl (12 kB)\n",
      "Requirement already satisfied: pydantic-core==2.10.1 in c:\\users\\maiti\\pycharmprojects\\pruebitasmineria\\venv\\lib\\site-packages (from pydantic!=1.8,!=1.8.1,<3.0.0,>=1.7.4->spacy) (2.10.1)\n",
      "Requirement already satisfied: typing-extensions>=4.6.1 in c:\\users\\maiti\\pycharmprojects\\pruebitasmineria\\venv\\lib\\site-packages (from pydantic!=1.8,!=1.8.1,<3.0.0,>=1.7.4->spacy) (4.8.0)\n",
      "Requirement already satisfied: charset-normalizer<4,>=2 in c:\\users\\maiti\\pycharmprojects\\pruebitasmineria\\venv\\lib\\site-packages (from requests<3.0.0,>=2.13.0->spacy) (3.3.0)\n",
      "Requirement already satisfied: idna<4,>=2.5 in c:\\users\\maiti\\pycharmprojects\\pruebitasmineria\\venv\\lib\\site-packages (from requests<3.0.0,>=2.13.0->spacy) (3.4)\n",
      "Requirement already satisfied: certifi>=2017.4.17 in c:\\users\\maiti\\pycharmprojects\\pruebitasmineria\\venv\\lib\\site-packages (from requests<3.0.0,>=2.13.0->spacy) (2023.7.22)\n",
      "Requirement already satisfied: urllib3<3,>=1.21.1 in c:\\users\\maiti\\pycharmprojects\\pruebitasmineria\\venv\\lib\\site-packages (from requests<3.0.0,>=2.13.0->spacy) (2.0.6)\n",
      "Collecting blis<0.8.0,>=0.7.8\n",
      "  Using cached blis-0.7.11-cp310-cp310-win_amd64.whl (6.6 MB)\n",
      "Collecting confection<1.0.0,>=0.0.1\n",
      "  Using cached confection-0.1.3-py3-none-any.whl (34 kB)\n",
      "Requirement already satisfied: colorama in c:\\users\\maiti\\pycharmprojects\\pruebitasmineria\\venv\\lib\\site-packages (from tqdm<5.0.0,>=4.38.0->spacy) (0.4.6)\n",
      "Collecting click<9.0.0,>=7.1.1\n",
      "  Using cached click-8.1.7-py3-none-any.whl (97 kB)\n",
      "Collecting cloudpathlib<0.17.0,>=0.7.0\n",
      "  Using cached cloudpathlib-0.16.0-py3-none-any.whl (45 kB)\n",
      "Requirement already satisfied: MarkupSafe>=2.0 in c:\\users\\maiti\\pycharmprojects\\pruebitasmineria\\venv\\lib\\site-packages (from jinja2->spacy) (2.1.3)\n",
      "Installing collected packages: murmurhash, langcodes, cloudpathlib, click, catalogue, blis, annotated-types, typer, srsly, pydantic, preshed, pathy, confection, weasel, thinc, spacy\n",
      "Successfully installed annotated-types-0.6.0 blis-0.7.11 catalogue-2.0.10 click-8.1.7 cloudpathlib-0.16.0 confection-0.1.3 langcodes-3.3.0 murmurhash-1.0.10 pathy-0.10.2 preshed-3.0.9 pydantic-2.4.2 spacy-3.7.1 srsly-2.4.8 thinc-8.2.1 typer-0.9.0 weasel-0.3.3\n"
     ]
    },
    {
     "name": "stderr",
     "output_type": "stream",
     "text": [
      "\n",
      "[notice] A new release of pip available: 22.3.1 -> 23.2.1\n",
      "[notice] To update, run: python.exe -m pip install --upgrade pip\n"
     ]
    },
    {
     "name": "stdout",
     "output_type": "stream",
     "text": [
      "Collecting en-core-web-sm==3.7.0\n",
      "  Downloading https://github.com/explosion/spacy-models/releases/download/en_core_web_sm-3.7.0/en_core_web_sm-3.7.0-py3-none-any.whl (12.8 MB)\n",
      "     ---------------------------------------- 12.8/12.8 MB 5.5 MB/s eta 0:00:00\n",
      "Requirement already satisfied: spacy<3.8.0,>=3.7.0 in c:\\users\\maiti\\pycharmprojects\\pruebitasmineria\\venv\\lib\\site-packages (from en-core-web-sm==3.7.0) (3.7.1)\n",
      "Requirement already satisfied: smart-open<7.0.0,>=5.2.1 in c:\\users\\maiti\\pycharmprojects\\pruebitasmineria\\venv\\lib\\site-packages (from spacy<3.8.0,>=3.7.0->en-core-web-sm==3.7.0) (6.4.0)\n",
      "Requirement already satisfied: requests<3.0.0,>=2.13.0 in c:\\users\\maiti\\pycharmprojects\\pruebitasmineria\\venv\\lib\\site-packages (from spacy<3.8.0,>=3.7.0->en-core-web-sm==3.7.0) (2.31.0)\n",
      "Requirement already satisfied: catalogue<2.1.0,>=2.0.6 in c:\\users\\maiti\\pycharmprojects\\pruebitasmineria\\venv\\lib\\site-packages (from spacy<3.8.0,>=3.7.0->en-core-web-sm==3.7.0) (2.0.10)\n",
      "Requirement already satisfied: srsly<3.0.0,>=2.4.3 in c:\\users\\maiti\\pycharmprojects\\pruebitasmineria\\venv\\lib\\site-packages (from spacy<3.8.0,>=3.7.0->en-core-web-sm==3.7.0) (2.4.8)\n",
      "Requirement already satisfied: preshed<3.1.0,>=3.0.2 in c:\\users\\maiti\\pycharmprojects\\pruebitasmineria\\venv\\lib\\site-packages (from spacy<3.8.0,>=3.7.0->en-core-web-sm==3.7.0) (3.0.9)\n",
      "Requirement already satisfied: pathy>=0.10.0 in c:\\users\\maiti\\pycharmprojects\\pruebitasmineria\\venv\\lib\\site-packages (from spacy<3.8.0,>=3.7.0->en-core-web-sm==3.7.0) (0.10.2)\n",
      "Requirement already satisfied: langcodes<4.0.0,>=3.2.0 in c:\\users\\maiti\\pycharmprojects\\pruebitasmineria\\venv\\lib\\site-packages (from spacy<3.8.0,>=3.7.0->en-core-web-sm==3.7.0) (3.3.0)\n",
      "Requirement already satisfied: spacy-legacy<3.1.0,>=3.0.11 in c:\\users\\maiti\\pycharmprojects\\pruebitasmineria\\venv\\lib\\site-packages (from spacy<3.8.0,>=3.7.0->en-core-web-sm==3.7.0) (3.0.12)\n",
      "Requirement already satisfied: thinc<8.3.0,>=8.1.8 in c:\\users\\maiti\\pycharmprojects\\pruebitasmineria\\venv\\lib\\site-packages (from spacy<3.8.0,>=3.7.0->en-core-web-sm==3.7.0) (8.2.1)\n",
      "Requirement already satisfied: cymem<2.1.0,>=2.0.2 in c:\\users\\maiti\\pycharmprojects\\pruebitasmineria\\venv\\lib\\site-packages (from spacy<3.8.0,>=3.7.0->en-core-web-sm==3.7.0) (2.0.8)\n",
      "Requirement already satisfied: tqdm<5.0.0,>=4.38.0 in c:\\users\\maiti\\pycharmprojects\\pruebitasmineria\\venv\\lib\\site-packages (from spacy<3.8.0,>=3.7.0->en-core-web-sm==3.7.0) (4.66.1)\n",
      "Requirement already satisfied: spacy-loggers<2.0.0,>=1.0.0 in c:\\users\\maiti\\pycharmprojects\\pruebitasmineria\\venv\\lib\\site-packages (from spacy<3.8.0,>=3.7.0->en-core-web-sm==3.7.0) (1.0.5)\n",
      "Requirement already satisfied: weasel<0.4.0,>=0.1.0 in c:\\users\\maiti\\pycharmprojects\\pruebitasmineria\\venv\\lib\\site-packages (from spacy<3.8.0,>=3.7.0->en-core-web-sm==3.7.0) (0.3.3)\n",
      "Requirement already satisfied: murmurhash<1.1.0,>=0.28.0 in c:\\users\\maiti\\pycharmprojects\\pruebitasmineria\\venv\\lib\\site-packages (from spacy<3.8.0,>=3.7.0->en-core-web-sm==3.7.0) (1.0.10)\n",
      "Requirement already satisfied: packaging>=20.0 in c:\\users\\maiti\\pycharmprojects\\pruebitasmineria\\venv\\lib\\site-packages (from spacy<3.8.0,>=3.7.0->en-core-web-sm==3.7.0) (23.2)\n",
      "Requirement already satisfied: jinja2 in c:\\users\\maiti\\pycharmprojects\\pruebitasmineria\\venv\\lib\\site-packages (from spacy<3.8.0,>=3.7.0->en-core-web-sm==3.7.0) (3.1.2)\n",
      "Requirement already satisfied: wasabi<1.2.0,>=0.9.1 in c:\\users\\maiti\\pycharmprojects\\pruebitasmineria\\venv\\lib\\site-packages (from spacy<3.8.0,>=3.7.0->en-core-web-sm==3.7.0) (1.1.2)\n",
      "Requirement already satisfied: setuptools in c:\\users\\maiti\\pycharmprojects\\pruebitasmineria\\venv\\lib\\site-packages (from spacy<3.8.0,>=3.7.0->en-core-web-sm==3.7.0) (65.5.1)\n",
      "Requirement already satisfied: typer<0.10.0,>=0.3.0 in c:\\users\\maiti\\pycharmprojects\\pruebitasmineria\\venv\\lib\\site-packages (from spacy<3.8.0,>=3.7.0->en-core-web-sm==3.7.0) (0.9.0)\n",
      "Requirement already satisfied: pydantic!=1.8,!=1.8.1,<3.0.0,>=1.7.4 in c:\\users\\maiti\\pycharmprojects\\pruebitasmineria\\venv\\lib\\site-packages (from spacy<3.8.0,>=3.7.0->en-core-web-sm==3.7.0) (2.4.2)\n",
      "Requirement already satisfied: numpy>=1.19.0 in c:\\users\\maiti\\pycharmprojects\\pruebitasmineria\\venv\\lib\\site-packages (from spacy<3.8.0,>=3.7.0->en-core-web-sm==3.7.0) (1.26.1)\n",
      "Requirement already satisfied: typing-extensions>=4.6.1 in c:\\users\\maiti\\pycharmprojects\\pruebitasmineria\\venv\\lib\\site-packages (from pydantic!=1.8,!=1.8.1,<3.0.0,>=1.7.4->spacy<3.8.0,>=3.7.0->en-core-web-sm==3.7.0) (4.8.0)\n",
      "Requirement already satisfied: pydantic-core==2.10.1 in c:\\users\\maiti\\pycharmprojects\\pruebitasmineria\\venv\\lib\\site-packages (from pydantic!=1.8,!=1.8.1,<3.0.0,>=1.7.4->spacy<3.8.0,>=3.7.0->en-core-web-sm==3.7.0) (2.10.1)\n",
      "Requirement already satisfied: annotated-types>=0.4.0 in c:\\users\\maiti\\pycharmprojects\\pruebitasmineria\\venv\\lib\\site-packages (from pydantic!=1.8,!=1.8.1,<3.0.0,>=1.7.4->spacy<3.8.0,>=3.7.0->en-core-web-sm==3.7.0) (0.6.0)\n",
      "Requirement already satisfied: idna<4,>=2.5 in c:\\users\\maiti\\pycharmprojects\\pruebitasmineria\\venv\\lib\\site-packages (from requests<3.0.0,>=2.13.0->spacy<3.8.0,>=3.7.0->en-core-web-sm==3.7.0) (3.4)\n",
      "Requirement already satisfied: charset-normalizer<4,>=2 in c:\\users\\maiti\\pycharmprojects\\pruebitasmineria\\venv\\lib\\site-packages (from requests<3.0.0,>=2.13.0->spacy<3.8.0,>=3.7.0->en-core-web-sm==3.7.0) (3.3.0)\n",
      "Requirement already satisfied: certifi>=2017.4.17 in c:\\users\\maiti\\pycharmprojects\\pruebitasmineria\\venv\\lib\\site-packages (from requests<3.0.0,>=2.13.0->spacy<3.8.0,>=3.7.0->en-core-web-sm==3.7.0) (2023.7.22)\n",
      "Requirement already satisfied: urllib3<3,>=1.21.1 in c:\\users\\maiti\\pycharmprojects\\pruebitasmineria\\venv\\lib\\site-packages (from requests<3.0.0,>=2.13.0->spacy<3.8.0,>=3.7.0->en-core-web-sm==3.7.0) (2.0.6)\n",
      "Requirement already satisfied: blis<0.8.0,>=0.7.8 in c:\\users\\maiti\\pycharmprojects\\pruebitasmineria\\venv\\lib\\site-packages (from thinc<8.3.0,>=8.1.8->spacy<3.8.0,>=3.7.0->en-core-web-sm==3.7.0) (0.7.11)\n",
      "Requirement already satisfied: confection<1.0.0,>=0.0.1 in c:\\users\\maiti\\pycharmprojects\\pruebitasmineria\\venv\\lib\\site-packages (from thinc<8.3.0,>=8.1.8->spacy<3.8.0,>=3.7.0->en-core-web-sm==3.7.0) (0.1.3)\n",
      "Requirement already satisfied: colorama in c:\\users\\maiti\\pycharmprojects\\pruebitasmineria\\venv\\lib\\site-packages (from tqdm<5.0.0,>=4.38.0->spacy<3.8.0,>=3.7.0->en-core-web-sm==3.7.0) (0.4.6)\n",
      "Requirement already satisfied: click<9.0.0,>=7.1.1 in c:\\users\\maiti\\pycharmprojects\\pruebitasmineria\\venv\\lib\\site-packages (from typer<0.10.0,>=0.3.0->spacy<3.8.0,>=3.7.0->en-core-web-sm==3.7.0) (8.1.7)\n",
      "Requirement already satisfied: cloudpathlib<0.17.0,>=0.7.0 in c:\\users\\maiti\\pycharmprojects\\pruebitasmineria\\venv\\lib\\site-packages (from weasel<0.4.0,>=0.1.0->spacy<3.8.0,>=3.7.0->en-core-web-sm==3.7.0) (0.16.0)\n",
      "Requirement already satisfied: MarkupSafe>=2.0 in c:\\users\\maiti\\pycharmprojects\\pruebitasmineria\\venv\\lib\\site-packages (from jinja2->spacy<3.8.0,>=3.7.0->en-core-web-sm==3.7.0) (2.1.3)\n",
      "Installing collected packages: en-core-web-sm\n",
      "Successfully installed en-core-web-sm-3.7.0\n",
      "\u001B[38;5;3m[!] As of spaCy v3.0, shortcuts like 'en' are deprecated. Please use\n",
      "the full pipeline package name 'en_core_web_sm' instead.\u001B[0m\n",
      "\u001B[38;5;2m[+] Download and installation successful\u001B[0m\n",
      "You can now load the package via spacy.load('en_core_web_sm')\n"
     ]
    },
    {
     "name": "stderr",
     "output_type": "stream",
     "text": [
      "\n",
      "[notice] A new release of pip available: 22.3.1 -> 23.2.1\n",
      "[notice] To update, run: python.exe -m pip install --upgrade pip\n"
     ]
    },
    {
     "name": "stdout",
     "output_type": "stream",
     "text": [
      "Collecting spacymoji\n",
      "  Using cached spacymoji-3.1.0-py2.py3-none-any.whl (8.5 kB)\n",
      "Collecting emoji<3.0,>=2.0\n",
      "  Using cached emoji-2.8.0-py2.py3-none-any.whl (358 kB)\n",
      "Requirement already satisfied: spacy<4.0.0,>=3.0.0 in c:\\users\\maiti\\pycharmprojects\\pruebitasmineria\\venv\\lib\\site-packages (from spacymoji) (3.7.1)\n",
      "Requirement already satisfied: spacy-loggers<2.0.0,>=1.0.0 in c:\\users\\maiti\\pycharmprojects\\pruebitasmineria\\venv\\lib\\site-packages (from spacy<4.0.0,>=3.0.0->spacymoji) (1.0.5)\n",
      "Requirement already satisfied: setuptools in c:\\users\\maiti\\pycharmprojects\\pruebitasmineria\\venv\\lib\\site-packages (from spacy<4.0.0,>=3.0.0->spacymoji) (65.5.1)\n",
      "Requirement already satisfied: catalogue<2.1.0,>=2.0.6 in c:\\users\\maiti\\pycharmprojects\\pruebitasmineria\\venv\\lib\\site-packages (from spacy<4.0.0,>=3.0.0->spacymoji) (2.0.10)\n",
      "Requirement already satisfied: pathy>=0.10.0 in c:\\users\\maiti\\pycharmprojects\\pruebitasmineria\\venv\\lib\\site-packages (from spacy<4.0.0,>=3.0.0->spacymoji) (0.10.2)\n",
      "Requirement already satisfied: pydantic!=1.8,!=1.8.1,<3.0.0,>=1.7.4 in c:\\users\\maiti\\pycharmprojects\\pruebitasmineria\\venv\\lib\\site-packages (from spacy<4.0.0,>=3.0.0->spacymoji) (2.4.2)\n",
      "Requirement already satisfied: spacy-legacy<3.1.0,>=3.0.11 in c:\\users\\maiti\\pycharmprojects\\pruebitasmineria\\venv\\lib\\site-packages (from spacy<4.0.0,>=3.0.0->spacymoji) (3.0.12)\n",
      "Requirement already satisfied: typer<0.10.0,>=0.3.0 in c:\\users\\maiti\\pycharmprojects\\pruebitasmineria\\venv\\lib\\site-packages (from spacy<4.0.0,>=3.0.0->spacymoji) (0.9.0)\n",
      "Requirement already satisfied: preshed<3.1.0,>=3.0.2 in c:\\users\\maiti\\pycharmprojects\\pruebitasmineria\\venv\\lib\\site-packages (from spacy<4.0.0,>=3.0.0->spacymoji) (3.0.9)\n",
      "Requirement already satisfied: srsly<3.0.0,>=2.4.3 in c:\\users\\maiti\\pycharmprojects\\pruebitasmineria\\venv\\lib\\site-packages (from spacy<4.0.0,>=3.0.0->spacymoji) (2.4.8)\n",
      "Requirement already satisfied: cymem<2.1.0,>=2.0.2 in c:\\users\\maiti\\pycharmprojects\\pruebitasmineria\\venv\\lib\\site-packages (from spacy<4.0.0,>=3.0.0->spacymoji) (2.0.8)\n",
      "Requirement already satisfied: langcodes<4.0.0,>=3.2.0 in c:\\users\\maiti\\pycharmprojects\\pruebitasmineria\\venv\\lib\\site-packages (from spacy<4.0.0,>=3.0.0->spacymoji) (3.3.0)\n",
      "Requirement already satisfied: packaging>=20.0 in c:\\users\\maiti\\pycharmprojects\\pruebitasmineria\\venv\\lib\\site-packages (from spacy<4.0.0,>=3.0.0->spacymoji) (23.2)\n",
      "Requirement already satisfied: thinc<8.3.0,>=8.1.8 in c:\\users\\maiti\\pycharmprojects\\pruebitasmineria\\venv\\lib\\site-packages (from spacy<4.0.0,>=3.0.0->spacymoji) (8.2.1)\n",
      "Requirement already satisfied: smart-open<7.0.0,>=5.2.1 in c:\\users\\maiti\\pycharmprojects\\pruebitasmineria\\venv\\lib\\site-packages (from spacy<4.0.0,>=3.0.0->spacymoji) (6.4.0)\n",
      "Requirement already satisfied: weasel<0.4.0,>=0.1.0 in c:\\users\\maiti\\pycharmprojects\\pruebitasmineria\\venv\\lib\\site-packages (from spacy<4.0.0,>=3.0.0->spacymoji) (0.3.3)\n",
      "Requirement already satisfied: wasabi<1.2.0,>=0.9.1 in c:\\users\\maiti\\pycharmprojects\\pruebitasmineria\\venv\\lib\\site-packages (from spacy<4.0.0,>=3.0.0->spacymoji) (1.1.2)\n",
      "Requirement already satisfied: jinja2 in c:\\users\\maiti\\pycharmprojects\\pruebitasmineria\\venv\\lib\\site-packages (from spacy<4.0.0,>=3.0.0->spacymoji) (3.1.2)\n",
      "Requirement already satisfied: tqdm<5.0.0,>=4.38.0 in c:\\users\\maiti\\pycharmprojects\\pruebitasmineria\\venv\\lib\\site-packages (from spacy<4.0.0,>=3.0.0->spacymoji) (4.66.1)\n",
      "Requirement already satisfied: requests<3.0.0,>=2.13.0 in c:\\users\\maiti\\pycharmprojects\\pruebitasmineria\\venv\\lib\\site-packages (from spacy<4.0.0,>=3.0.0->spacymoji) (2.31.0)\n",
      "Requirement already satisfied: numpy>=1.19.0 in c:\\users\\maiti\\pycharmprojects\\pruebitasmineria\\venv\\lib\\site-packages (from spacy<4.0.0,>=3.0.0->spacymoji) (1.26.1)\n",
      "Requirement already satisfied: murmurhash<1.1.0,>=0.28.0 in c:\\users\\maiti\\pycharmprojects\\pruebitasmineria\\venv\\lib\\site-packages (from spacy<4.0.0,>=3.0.0->spacymoji) (1.0.10)\n",
      "Requirement already satisfied: annotated-types>=0.4.0 in c:\\users\\maiti\\pycharmprojects\\pruebitasmineria\\venv\\lib\\site-packages (from pydantic!=1.8,!=1.8.1,<3.0.0,>=1.7.4->spacy<4.0.0,>=3.0.0->spacymoji) (0.6.0)\n",
      "Requirement already satisfied: pydantic-core==2.10.1 in c:\\users\\maiti\\pycharmprojects\\pruebitasmineria\\venv\\lib\\site-packages (from pydantic!=1.8,!=1.8.1,<3.0.0,>=1.7.4->spacy<4.0.0,>=3.0.0->spacymoji) (2.10.1)\n",
      "Requirement already satisfied: typing-extensions>=4.6.1 in c:\\users\\maiti\\pycharmprojects\\pruebitasmineria\\venv\\lib\\site-packages (from pydantic!=1.8,!=1.8.1,<3.0.0,>=1.7.4->spacy<4.0.0,>=3.0.0->spacymoji) (4.8.0)\n",
      "Requirement already satisfied: urllib3<3,>=1.21.1 in c:\\users\\maiti\\pycharmprojects\\pruebitasmineria\\venv\\lib\\site-packages (from requests<3.0.0,>=2.13.0->spacy<4.0.0,>=3.0.0->spacymoji) (2.0.6)\n",
      "Requirement already satisfied: certifi>=2017.4.17 in c:\\users\\maiti\\pycharmprojects\\pruebitasmineria\\venv\\lib\\site-packages (from requests<3.0.0,>=2.13.0->spacy<4.0.0,>=3.0.0->spacymoji) (2023.7.22)\n",
      "Requirement already satisfied: charset-normalizer<4,>=2 in c:\\users\\maiti\\pycharmprojects\\pruebitasmineria\\venv\\lib\\site-packages (from requests<3.0.0,>=2.13.0->spacy<4.0.0,>=3.0.0->spacymoji) (3.3.0)\n",
      "Requirement already satisfied: idna<4,>=2.5 in c:\\users\\maiti\\pycharmprojects\\pruebitasmineria\\venv\\lib\\site-packages (from requests<3.0.0,>=2.13.0->spacy<4.0.0,>=3.0.0->spacymoji) (3.4)\n",
      "Requirement already satisfied: confection<1.0.0,>=0.0.1 in c:\\users\\maiti\\pycharmprojects\\pruebitasmineria\\venv\\lib\\site-packages (from thinc<8.3.0,>=8.1.8->spacy<4.0.0,>=3.0.0->spacymoji) (0.1.3)\n",
      "Requirement already satisfied: blis<0.8.0,>=0.7.8 in c:\\users\\maiti\\pycharmprojects\\pruebitasmineria\\venv\\lib\\site-packages (from thinc<8.3.0,>=8.1.8->spacy<4.0.0,>=3.0.0->spacymoji) (0.7.11)\n",
      "Requirement already satisfied: colorama in c:\\users\\maiti\\pycharmprojects\\pruebitasmineria\\venv\\lib\\site-packages (from tqdm<5.0.0,>=4.38.0->spacy<4.0.0,>=3.0.0->spacymoji) (0.4.6)\n",
      "Requirement already satisfied: click<9.0.0,>=7.1.1 in c:\\users\\maiti\\pycharmprojects\\pruebitasmineria\\venv\\lib\\site-packages (from typer<0.10.0,>=0.3.0->spacy<4.0.0,>=3.0.0->spacymoji) (8.1.7)\n",
      "Requirement already satisfied: cloudpathlib<0.17.0,>=0.7.0 in c:\\users\\maiti\\pycharmprojects\\pruebitasmineria\\venv\\lib\\site-packages (from weasel<0.4.0,>=0.1.0->spacy<4.0.0,>=3.0.0->spacymoji) (0.16.0)\n",
      "Requirement already satisfied: MarkupSafe>=2.0 in c:\\users\\maiti\\pycharmprojects\\pruebitasmineria\\venv\\lib\\site-packages (from jinja2->spacy<4.0.0,>=3.0.0->spacymoji) (2.1.3)\n",
      "Installing collected packages: emoji, spacymoji\n",
      "Successfully installed emoji-2.8.0 spacymoji-3.1.0\n"
     ]
    },
    {
     "name": "stderr",
     "output_type": "stream",
     "text": [
      "\n",
      "[notice] A new release of pip available: 22.3.1 -> 23.2.1\n",
      "[notice] To update, run: python.exe -m pip install --upgrade pip\n"
     ]
    },
    {
     "name": "stdout",
     "output_type": "stream",
     "text": [
      "Requirement already satisfied: emoji in c:\\users\\maiti\\pycharmprojects\\pruebitasmineria\\venv\\lib\\site-packages (2.8.0)\n"
     ]
    },
    {
     "name": "stderr",
     "output_type": "stream",
     "text": [
      "\n",
      "[notice] A new release of pip available: 22.3.1 -> 23.2.1\n",
      "[notice] To update, run: python.exe -m pip install --upgrade pip\n"
     ]
    },
    {
     "name": "stdout",
     "output_type": "stream",
     "text": [
      "Collecting gensim\n",
      "  Using cached gensim-4.3.2-cp310-cp310-win_amd64.whl (24.0 MB)\n",
      "Requirement already satisfied: smart-open>=1.8.1 in c:\\users\\maiti\\pycharmprojects\\pruebitasmineria\\venv\\lib\\site-packages (from gensim) (6.4.0)\n",
      "Collecting scipy>=1.7.0\n",
      "  Using cached scipy-1.11.3-cp310-cp310-win_amd64.whl (44.1 MB)\n",
      "Requirement already satisfied: numpy>=1.18.5 in c:\\users\\maiti\\pycharmprojects\\pruebitasmineria\\venv\\lib\\site-packages (from gensim) (1.26.1)\n",
      "Installing collected packages: scipy, gensim\n",
      "Successfully installed gensim-4.3.2 scipy-1.11.3\n"
     ]
    },
    {
     "name": "stderr",
     "output_type": "stream",
     "text": [
      "\n",
      "[notice] A new release of pip available: 22.3.1 -> 23.2.1\n",
      "[notice] To update, run: python.exe -m pip install --upgrade pip\n"
     ]
    },
    {
     "name": "stdout",
     "output_type": "stream",
     "text": [
      "Collecting sklearn\n",
      "  Using cached sklearn-0.0.post10-py3-none-any.whl\n",
      "Installing collected packages: sklearn\n",
      "Successfully installed sklearn-0.0.post10\n"
     ]
    },
    {
     "name": "stderr",
     "output_type": "stream",
     "text": [
      "\n",
      "[notice] A new release of pip available: 22.3.1 -> 23.2.1\n",
      "[notice] To update, run: python.exe -m pip install --upgrade pip\n"
     ]
    }
   ],
   "source": [
    "! pip install -U spacy\n",
    "! python -m spacy download en\n",
    "! pip install spacymoji\n",
    "! pip install emoji\n",
    "! pip install gensim\n",
    "! pip install sklearn"
   ]
  },
  {
   "cell_type": "code",
   "execution_count": 2,
   "outputs": [
    {
     "ename": "ModuleNotFoundError",
     "evalue": "No module named 'sklearn'",
     "output_type": "error",
     "traceback": [
      "\u001B[1;31m---------------------------------------------------------------------------\u001B[0m",
      "\u001B[1;31mModuleNotFoundError\u001B[0m                       Traceback (most recent call last)",
      "Cell \u001B[1;32mIn[2], line 7\u001B[0m\n\u001B[0;32m      4\u001B[0m \u001B[38;5;28;01mimport\u001B[39;00m \u001B[38;5;21;01mnumpy\u001B[39;00m \u001B[38;5;28;01mas\u001B[39;00m \u001B[38;5;21;01mnp\u001B[39;00m\n\u001B[0;32m      5\u001B[0m \u001B[38;5;28;01mfrom\u001B[39;00m \u001B[38;5;21;01mtqdm\u001B[39;00m \u001B[38;5;28;01mimport\u001B[39;00m tqdm\n\u001B[1;32m----> 7\u001B[0m \u001B[38;5;28;01mfrom\u001B[39;00m \u001B[38;5;21;01msklearn\u001B[39;00m\u001B[38;5;21;01m.\u001B[39;00m\u001B[38;5;21;01mcluster\u001B[39;00m \u001B[38;5;28;01mimport\u001B[39;00m DBSCAN\n\u001B[0;32m      8\u001B[0m \u001B[38;5;28;01mfrom\u001B[39;00m \u001B[38;5;21;01mgensim\u001B[39;00m\u001B[38;5;21;01m.\u001B[39;00m\u001B[38;5;21;01mmodels\u001B[39;00m \u001B[38;5;28;01mimport\u001B[39;00m Doc2Vec\n\u001B[0;32m      9\u001B[0m \u001B[38;5;28;01mfrom\u001B[39;00m \u001B[38;5;21;01mgensim\u001B[39;00m\u001B[38;5;21;01m.\u001B[39;00m\u001B[38;5;21;01mmodels\u001B[39;00m\u001B[38;5;21;01m.\u001B[39;00m\u001B[38;5;21;01mdoc2vec\u001B[39;00m \u001B[38;5;28;01mimport\u001B[39;00m TaggedDocument\n",
      "\u001B[1;31mModuleNotFoundError\u001B[0m: No module named 'sklearn'"
     ]
    }
   ],
   "source": [
    "import pandas as pd\n",
    "import spacy\n",
    "import emoji\n",
    "import numpy as np\n",
    "from tqdm import tqdm\n",
    "\n",
    "from sklearn.cluster import DBSCAN\n",
    "from gensim.models import Doc2Vec\n",
    "from gensim.models.doc2vec import TaggedDocument\n",
    "from gensim.test.utils import get_tmpfile"
   ],
   "metadata": {
    "collapsed": false
   }
  },
  {
   "cell_type": "markdown",
   "metadata": {},
   "source": [
    "# 1. Preparación del Dataset"
   ]
  },
  {
   "cell_type": "markdown",
   "metadata": {
    "collapsed": false
   },
   "source": [
    "## 1.1. CARGAR FICHERO CSV CON LOS DATOS"
   ]
  },
  {
   "cell_type": "code",
   "execution_count": 2,
   "metadata": {
    "collapsed": false,
    "ExecuteTime": {
     "start_time": "2023-10-16T16:00:00.538863Z",
     "end_time": "2023-10-16T16:00:16.647165Z"
    }
   },
   "outputs": [
    {
     "name": "stdout",
     "output_type": "stream",
     "text": [
      "<class 'pandas.core.frame.DataFrame'>\n",
      "RangeIndex: 232074 entries, 0 to 232073\n",
      "Data columns (total 3 columns):\n",
      " #   Column      Non-Null Count   Dtype \n",
      "---  ------      --------------   ----- \n",
      " 0   Unnamed: 0  232074 non-null  int64 \n",
      " 1   text        232074 non-null  object\n",
      " 2   class       232074 non-null  object\n",
      "dtypes: int64(1), object(2)\n",
      "memory usage: 5.3+ MB\n"
     ]
    },
    {
     "data": {
      "text/plain": "   Unnamed: 0                                               text        class\n0           2  Ex Wife Threatening SuicideRecently I left my ...      suicide\n1           3  Am I weird I don't get affected by compliments...  non-suicide\n2           4  Finally 2020 is almost over... So I can never ...  non-suicide\n3           8          i need helpjust help me im crying so hard      suicide\n4           9  I’m so lostHello, my name is Adam (16) and I’v...      suicide",
      "text/html": "<div>\n<style scoped>\n    .dataframe tbody tr th:only-of-type {\n        vertical-align: middle;\n    }\n\n    .dataframe tbody tr th {\n        vertical-align: top;\n    }\n\n    .dataframe thead th {\n        text-align: right;\n    }\n</style>\n<table border=\"1\" class=\"dataframe\">\n  <thead>\n    <tr style=\"text-align: right;\">\n      <th></th>\n      <th>Unnamed: 0</th>\n      <th>text</th>\n      <th>class</th>\n    </tr>\n  </thead>\n  <tbody>\n    <tr>\n      <th>0</th>\n      <td>2</td>\n      <td>Ex Wife Threatening SuicideRecently I left my ...</td>\n      <td>suicide</td>\n    </tr>\n    <tr>\n      <th>1</th>\n      <td>3</td>\n      <td>Am I weird I don't get affected by compliments...</td>\n      <td>non-suicide</td>\n    </tr>\n    <tr>\n      <th>2</th>\n      <td>4</td>\n      <td>Finally 2020 is almost over... So I can never ...</td>\n      <td>non-suicide</td>\n    </tr>\n    <tr>\n      <th>3</th>\n      <td>8</td>\n      <td>i need helpjust help me im crying so hard</td>\n      <td>suicide</td>\n    </tr>\n    <tr>\n      <th>4</th>\n      <td>9</td>\n      <td>I’m so lostHello, my name is Adam (16) and I’v...</td>\n      <td>suicide</td>\n    </tr>\n  </tbody>\n</table>\n</div>"
     },
     "execution_count": 2,
     "metadata": {},
     "output_type": "execute_result"
    }
   ],
   "source": [
    "datsetPath = '../Datasets/Suicide_Detection.csv'\n",
    "#datsetPath = '../Datasets/Corto.csv'\n",
    "\n",
    "data = pd.read_csv(datsetPath)\n",
    "\n",
    "data.info()\n",
    "data.head(n=5)"
   ]
  },
  {
   "cell_type": "code",
   "execution_count": 3,
   "metadata": {
    "ExecuteTime": {
     "start_time": "2023-10-16T16:00:16.560406Z",
     "end_time": "2023-10-16T16:00:20.307113Z"
    }
   },
   "outputs": [
    {
     "data": {
      "text/plain": "<Figure size 640x480 with 1 Axes>",
      "image/png": "[encoded data removed]"
     },
     "metadata": {},
     "output_type": "display_data"
    }
   ],
   "source": [
    "from matplotlib import pyplot as plt\n",
    "\n",
    "barPlot = plt.bar(data['class'].value_counts().index, data['class'].value_counts())\n",
    "plt.xlabel('Classes')\n",
    "plt.ylabel('Frequency')\n",
    "plt.bar_label(barPlot)\n",
    "plt.show()"
   ]
  },
  {
   "cell_type": "markdown",
   "metadata": {
    "collapsed": false
   },
   "source": [
    "## 1.2. SELECCIONAR LA COLUMNA DE TEXTOS (DISCRIMINAR LA CLASE)"
   ]
  },
  {
   "cell_type": "code",
   "execution_count": 4,
   "metadata": {
    "collapsed": false,
    "ExecuteTime": {
     "start_time": "2023-10-16T16:00:20.315525Z",
     "end_time": "2023-10-16T16:00:20.596824Z"
    }
   },
   "outputs": [],
   "source": [
    "textos = []\n",
    "for instancia in data.values:\n",
    "    textos.append(instancia[1])"
   ]
  },
  {
   "cell_type": "markdown",
   "metadata": {
    "collapsed": false
   },
   "source": [
    "# 2. Pre-proceso\n",
    "## 2.1. LIMPIEZA Y FORMARTEO DE LOS DATOS"
   ]
  },
  {
   "cell_type": "code",
   "execution_count": 5,
   "metadata": {
    "collapsed": false
   },
   "outputs": [
    {
     "name": "stderr",
     "output_type": "stream",
     "text": [
      "Procesando textos:   0%|          | 596/232074 [00:58<6:18:33, 10.19it/s] \n"
     ]
    },
    {
     "ename": "KeyboardInterrupt",
     "evalue": "",
     "output_type": "error",
     "traceback": [
      "\u001B[1;31m---------------------------------------------------------------------------\u001B[0m",
      "\u001B[1;31mKeyboardInterrupt\u001B[0m                         Traceback (most recent call last)",
      "Cell \u001B[1;32mIn[5], line 9\u001B[0m\n\u001B[0;32m      7\u001B[0m \u001B[38;5;28;01mfor\u001B[39;00m texto \u001B[38;5;129;01min\u001B[39;00m tqdm(textos, desc\u001B[38;5;241m=\u001B[39m\u001B[38;5;124m\"\u001B[39m\u001B[38;5;124mProcesando textos\u001B[39m\u001B[38;5;124m\"\u001B[39m):\n\u001B[0;32m      8\u001B[0m     texto \u001B[38;5;241m=\u001B[39m emoji\u001B[38;5;241m.\u001B[39mdemojize(texto)  \u001B[38;5;66;03m# Emojis a texto\u001B[39;00m\n\u001B[1;32m----> 9\u001B[0m     doc \u001B[38;5;241m=\u001B[39m \u001B[43mnlp\u001B[49m\u001B[43m(\u001B[49m\u001B[43mtexto\u001B[49m\u001B[43m)\u001B[49m\n\u001B[0;32m     10\u001B[0m     lexical_tokens \u001B[38;5;241m=\u001B[39m [token\u001B[38;5;241m.\u001B[39mlemma_\u001B[38;5;241m.\u001B[39mlower() \u001B[38;5;28;01mfor\u001B[39;00m token \u001B[38;5;129;01min\u001B[39;00m doc \u001B[38;5;28;01mif\u001B[39;00m \u001B[38;5;28mlen\u001B[39m(token\u001B[38;5;241m.\u001B[39mtext) \u001B[38;5;241m>\u001B[39m \u001B[38;5;241m3\u001B[39m \u001B[38;5;129;01mand\u001B[39;00m token\u001B[38;5;241m.\u001B[39mis_alpha]\n\u001B[0;32m     11\u001B[0m     textos_tokenizados\u001B[38;5;241m.\u001B[39mappend(lexical_tokens)\n",
      "File \u001B[1;32m~\\PycharmProjects\\PruebitasMineria\\venv\\lib\\site-packages\\spacy\\language.py:1049\u001B[0m, in \u001B[0;36mLanguage.__call__\u001B[1;34m(self, text, disable, component_cfg)\u001B[0m\n\u001B[0;32m   1047\u001B[0m     error_handler \u001B[38;5;241m=\u001B[39m proc\u001B[38;5;241m.\u001B[39mget_error_handler()\n\u001B[0;32m   1048\u001B[0m \u001B[38;5;28;01mtry\u001B[39;00m:\n\u001B[1;32m-> 1049\u001B[0m     doc \u001B[38;5;241m=\u001B[39m proc(doc, \u001B[38;5;241m*\u001B[39m\u001B[38;5;241m*\u001B[39mcomponent_cfg\u001B[38;5;241m.\u001B[39mget(name, {}))  \u001B[38;5;66;03m# type: ignore[call-arg]\u001B[39;00m\n\u001B[0;32m   1050\u001B[0m \u001B[38;5;28;01mexcept\u001B[39;00m \u001B[38;5;167;01mKeyError\u001B[39;00m \u001B[38;5;28;01mas\u001B[39;00m e:\n\u001B[0;32m   1051\u001B[0m     \u001B[38;5;66;03m# This typically happens if a component is not initialized\u001B[39;00m\n\u001B[0;32m   1052\u001B[0m     \u001B[38;5;28;01mraise\u001B[39;00m \u001B[38;5;167;01mValueError\u001B[39;00m(Errors\u001B[38;5;241m.\u001B[39mE109\u001B[38;5;241m.\u001B[39mformat(name\u001B[38;5;241m=\u001B[39mname)) \u001B[38;5;28;01mfrom\u001B[39;00m \u001B[38;5;21;01me\u001B[39;00m\n",
      "\u001B[1;31mKeyboardInterrupt\u001B[0m: "
     ]
    }
   ],
   "source": [
    "# Cuidado! La ejecución de este bloque con 232074 instancias, toma aproximademente 5 min? \n",
    "\n",
    "nlp = spacy.load(\"en_core_web_sm\") # Cargar modelo\n",
    "nlp.add_pipe(\"emoji\", first=True)\n",
    "\n",
    "textos_tokenizados = []\n",
    "for texto in tqdm(textos, desc=\"Procesando textos\"):\n",
    "    texto = emoji.demojize(texto)  # Emojis a texto\n",
    "    doc = nlp(texto)\n",
    "    lexical_tokens = [token.lemma_.lower() for token in doc if len(token.text) > 3 and token.is_alpha]\n",
    "    textos_tokenizados.append(lexical_tokens)"
   ]
  },
  {
   "cell_type": "code",
   "execution_count": null,
   "metadata": {},
   "outputs": [],
   "source": [
    "print(textos[0])\n",
    "print(textos_tokenizados[0])"
   ]
  },
  {
   "cell_type": "markdown",
   "metadata": {
    "collapsed": false
   },
   "source": [
    "## 2.2. Espacio de decisión - VECTORIZACION DE LOS DATOS (DOC2VEC)"
   ]
  },
  {
   "cell_type": "code",
   "execution_count": null,
   "metadata": {
    "collapsed": false
   },
   "outputs": [],
   "source": [
    "documents = [TaggedDocument(doc, [i]) for i, doc in enumerate(textos_tokenizados)]\n",
    "model = Doc2Vec(documents, vector_size=150, window=2, dm=1, epochs=100, workers=4)\n",
    "# DM siempre a 1 para que sea distributed memory (que tenga en cuenta el contexto)\n",
    "# Window se puede cambiar pero tener en cuenta que cuanto mayor sea mas coste genera\n",
    "# Negative: siempre a 0 para que aprenda que palabras son ruido\n",
    "#Los que se pueden probar para parametro ekorketa:\n",
    "    # VECTOR SIZE!!!! (tamaño del embedding: dimensiones)\n",
    "    # Epochs: numero de iteraciones por el dataset\n",
    "    # Alpha: learning rate inicial\n",
    "    # Min alpha: El valor de LR con el que va acabar → Igual no poner?\n",
    "    # Max_vocab_size: Limita el tamaño maximo de las palabras a tener en cuenta (borra las menos frecuentes)\n",
    "\n",
    "model.build_vocab(documents)\n",
    "model.train(documents, total_examples=model.corpus_count, epochs=model.epochs)\n",
    "\n",
    "model.save(get_tmpfile(\"my_doc2vec_model\"))\n",
    "\n",
    "#vector = model.infer_vector(['wife', 'threaten', 'leave', 'wife', 'good', 'because', 'cheat', 'twice', 'lie', 'much', 'that', 'have', 'decide', 'refuse', 'back', 'day', 'begin', 'threaten', 'suicide', 'have', 'tirelessly', 'spend', 'these', 'paat', 'day', 'talk', 'keep'])\n",
    "\n",
    "#similar_documents = model.dv.most_similar(vector) # Deberia salir 0 porque es el documento del que se han sacado todas las palabras"
   ]
  },
  {
   "cell_type": "markdown",
   "metadata": {},
   "source": [
    "# 3. Clustering"
   ]
  },
  {
   "cell_type": "markdown",
   "metadata": {
    "collapsed": false
   },
   "source": [
    "## 3.1. Aplicando algoritmo DBSCAN (PREDETERMINADO) de la libería sklearn"
   ]
  },
  {
   "cell_type": "code",
   "execution_count": null,
   "metadata": {
    "collapsed": false
   },
   "outputs": [],
   "source": [
    "document_vectors = [model.infer_vector(doc) for doc in textos_tokenizados]\n",
    "\n",
    "# Aplicar DBSCAN a los vectores de documentos\n",
    "dbscan = DBSCAN(eps=2, min_samples=2, leaf_size=5)  # Ajusta los parámetros según tu caso\n",
    "labels = dbscan.fit_predict(np.array(document_vectors))\n",
    "\n",
    "# Los resultados del clustering están en 'labels'\n",
    "print(\"Etiquetas de clusters:\", labels)"
   ]
  }
 ],
 "metadata": {
  "kernelspec": {
   "display_name": "Python 3",
   "language": "python",
   "name": "python3"
  },
  "language_info": {
   "codemirror_mode": {
    "name": "ipython",
    "version": 3
   },
   "file_extension": ".py",
   "mimetype": "text/x-python",
   "name": "python",
   "nbconvert_exporter": "python",
   "pygments_lexer": "ipython3",
   "version": "3.10.13"
  }
 },
 "nbformat": 4,
 "nbformat_minor": 0
}
