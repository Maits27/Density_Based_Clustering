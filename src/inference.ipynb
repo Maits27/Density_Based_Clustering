{
 "cells": [
  {
   "cell_type": "code",
   "execution_count": 30,
   "metadata": {
    "collapsed": true
   },
   "outputs": [],
   "source": [
    "import inference\n",
    "import clustering"
   ]
  },
  {
   "cell_type": "markdown",
   "source": [
    "GET TRAIN AND TEST EMBEDDINGS"
   ],
   "metadata": {
    "collapsed": false
   }
  },
  {
   "cell_type": "code",
   "execution_count": 31,
   "outputs": [
    {
     "name": "stdout",
     "output_type": "stream",
     "text": [
      "Cargando embeddings...\n"
     ]
    },
    {
     "name": "stderr",
     "output_type": "stream",
     "text": [
      "You are using a model of type xlm-roberta to instantiate a model of type roberta. This is not supported for all configurations of models and can yield errors.\n",
      "Some weights of RobertaModel were not initialized from the model checkpoint at cardiffnlp/twitter-xlm-roberta-base and are newly initialized: ['roberta.pooler.dense.bias', 'roberta.pooler.dense.weight']\n",
      "You should probably TRAIN this model on a down-stream task to be able to use it for predictions and inference.\n",
      "Generando embeddings: 100%|██████████| 100/100 [00:33<00:00,  2.98it/s]\n"
     ]
    },
    {
     "name": "stdout",
     "output_type": "stream",
     "text": [
      "Each embedding has: 768 dimensions\n",
      "Embedding list length (before save): 100\n",
      "Guardando embeddings...\n",
      "Cargando embeddings...\n",
      "Embedding list length (after save) 100\n"
     ]
    }
   ],
   "source": [
    "train,test=inference.get_train_and_test()"
   ],
   "metadata": {
    "collapsed": false
   }
  },
  {
   "cell_type": "code",
   "execution_count": 40,
   "outputs": [
    {
     "ename": "AttributeError",
     "evalue": "module 'inference' has no attribute 'dbscan_clustering'",
     "output_type": "error",
     "traceback": [
      "\u001B[1;31m---------------------------------------------------------------------------\u001B[0m",
      "\u001B[1;31mAttributeError\u001B[0m                            Traceback (most recent call last)",
      "Cell \u001B[1;32mIn[40], line 1\u001B[0m\n\u001B[1;32m----> 1\u001B[0m clusters\u001B[38;5;241m=\u001B[39m\u001B[43minference\u001B[49m\u001B[38;5;241;43m.\u001B[39;49m\u001B[43mdbscan_clustering\u001B[49m(train)\n",
      "\u001B[1;31mAttributeError\u001B[0m: module 'inference' has no attribute 'dbscan_clustering'"
     ]
    }
   ],
   "source": [
    "clusters=inference.dbscan_clustering(train)"
   ],
   "metadata": {
    "collapsed": false
   }
  }
 ],
 "metadata": {
  "kernelspec": {
   "display_name": "Python 3",
   "language": "python",
   "name": "python3"
  },
  "language_info": {
   "codemirror_mode": {
    "name": "ipython",
    "version": 2
   },
   "file_extension": ".py",
   "mimetype": "text/x-python",
   "name": "python",
   "nbconvert_exporter": "python",
   "pygments_lexer": "ipython2",
   "version": "2.7.6"
  }
 },
 "nbformat": 4,
 "nbformat_minor": 0
}
