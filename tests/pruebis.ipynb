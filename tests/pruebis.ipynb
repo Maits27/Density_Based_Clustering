{
 "cells": [
  {
   "cell_type": "markdown",
   "metadata": {
    "collapsed": false
   },
   "source": [
    "### INSTALACION DE LOS PAQUETES NECESARIOS"
   ]
  },
  {
   "cell_type": "code",
   "execution_count": 1,
   "metadata": {
    "collapsed": true,
    "ExecuteTime": {
     "start_time": "2023-10-16T15:58:56.824402Z",
     "end_time": "2023-10-16T15:59:41.899954Z"
    }
   },
   "outputs": [
    {
     "name": "stdout",
     "output_type": "stream",
     "text": [
      "Requirement already satisfied: spacy in c:\\users\\maiti\\pycharmprojects\\pruebitasmineria\\venv\\lib\\site-packages (3.7.2)\n",
      "Requirement already satisfied: jinja2 in c:\\users\\maiti\\pycharmprojects\\pruebitasmineria\\venv\\lib\\site-packages (from spacy) (3.1.2)\n",
      "Requirement already satisfied: langcodes<4.0.0,>=3.2.0 in c:\\users\\maiti\\pycharmprojects\\pruebitasmineria\\venv\\lib\\site-packages (from spacy) (3.3.0)\n",
      "Requirement already satisfied: packaging>=20.0 in c:\\users\\maiti\\pycharmprojects\\pruebitasmineria\\venv\\lib\\site-packages (from spacy) (23.2)\n",
      "Requirement already satisfied: preshed<3.1.0,>=3.0.2 in c:\\users\\maiti\\pycharmprojects\\pruebitasmineria\\venv\\lib\\site-packages (from spacy) (3.0.9)\n",
      "Requirement already satisfied: srsly<3.0.0,>=2.4.3 in c:\\users\\maiti\\pycharmprojects\\pruebitasmineria\\venv\\lib\\site-packages (from spacy) (2.4.8)\n",
      "Requirement already satisfied: tqdm<5.0.0,>=4.38.0 in c:\\users\\maiti\\pycharmprojects\\pruebitasmineria\\venv\\lib\\site-packages (from spacy) (4.66.1)\n",
      "Requirement already satisfied: pydantic!=1.8,!=1.8.1,<3.0.0,>=1.7.4 in c:\\users\\maiti\\pycharmprojects\\pruebitasmineria\\venv\\lib\\site-packages (from spacy) (2.4.2)\n",
      "Requirement already satisfied: numpy>=1.19.0 in c:\\users\\maiti\\pycharmprojects\\pruebitasmineria\\venv\\lib\\site-packages (from spacy) (1.26.1)\n",
      "Requirement already satisfied: cymem<2.1.0,>=2.0.2 in c:\\users\\maiti\\pycharmprojects\\pruebitasmineria\\venv\\lib\\site-packages (from spacy) (2.0.8)\n",
      "Requirement already satisfied: typer<0.10.0,>=0.3.0 in c:\\users\\maiti\\pycharmprojects\\pruebitasmineria\\venv\\lib\\site-packages (from spacy) (0.9.0)\n",
      "Requirement already satisfied: thinc<8.3.0,>=8.1.8 in c:\\users\\maiti\\pycharmprojects\\pruebitasmineria\\venv\\lib\\site-packages (from spacy) (8.2.1)\n",
      "Requirement already satisfied: catalogue<2.1.0,>=2.0.6 in c:\\users\\maiti\\pycharmprojects\\pruebitasmineria\\venv\\lib\\site-packages (from spacy) (2.0.10)\n",
      "Requirement already satisfied: requests<3.0.0,>=2.13.0 in c:\\users\\maiti\\pycharmprojects\\pruebitasmineria\\venv\\lib\\site-packages (from spacy) (2.31.0)\n",
      "Requirement already satisfied: smart-open<7.0.0,>=5.2.1 in c:\\users\\maiti\\pycharmprojects\\pruebitasmineria\\venv\\lib\\site-packages (from spacy) (6.4.0)\n",
      "Requirement already satisfied: wasabi<1.2.0,>=0.9.1 in c:\\users\\maiti\\pycharmprojects\\pruebitasmineria\\venv\\lib\\site-packages (from spacy) (1.1.2)\n",
      "Requirement already satisfied: spacy-legacy<3.1.0,>=3.0.11 in c:\\users\\maiti\\pycharmprojects\\pruebitasmineria\\venv\\lib\\site-packages (from spacy) (3.0.12)\n",
      "Requirement already satisfied: murmurhash<1.1.0,>=0.28.0 in c:\\users\\maiti\\pycharmprojects\\pruebitasmineria\\venv\\lib\\site-packages (from spacy) (1.0.10)\n",
      "Requirement already satisfied: weasel<0.4.0,>=0.1.0 in c:\\users\\maiti\\pycharmprojects\\pruebitasmineria\\venv\\lib\\site-packages (from spacy) (0.3.3)\n",
      "Requirement already satisfied: spacy-loggers<2.0.0,>=1.0.0 in c:\\users\\maiti\\pycharmprojects\\pruebitasmineria\\venv\\lib\\site-packages (from spacy) (1.0.5)\n",
      "Requirement already satisfied: setuptools in c:\\users\\maiti\\pycharmprojects\\pruebitasmineria\\venv\\lib\\site-packages (from spacy) (65.5.1)\n",
      "Requirement already satisfied: annotated-types>=0.4.0 in c:\\users\\maiti\\pycharmprojects\\pruebitasmineria\\venv\\lib\\site-packages (from pydantic!=1.8,!=1.8.1,<3.0.0,>=1.7.4->spacy) (0.6.0)\n",
      "Requirement already satisfied: pydantic-core==2.10.1 in c:\\users\\maiti\\pycharmprojects\\pruebitasmineria\\venv\\lib\\site-packages (from pydantic!=1.8,!=1.8.1,<3.0.0,>=1.7.4->spacy) (2.10.1)\n",
      "Requirement already satisfied: typing-extensions>=4.6.1 in c:\\users\\maiti\\pycharmprojects\\pruebitasmineria\\venv\\lib\\site-packages (from pydantic!=1.8,!=1.8.1,<3.0.0,>=1.7.4->spacy) (4.8.0)\n",
      "Requirement already satisfied: idna<4,>=2.5 in c:\\users\\maiti\\pycharmprojects\\pruebitasmineria\\venv\\lib\\site-packages (from requests<3.0.0,>=2.13.0->spacy) (3.4)\n",
      "Requirement already satisfied: charset-normalizer<4,>=2 in c:\\users\\maiti\\pycharmprojects\\pruebitasmineria\\venv\\lib\\site-packages (from requests<3.0.0,>=2.13.0->spacy) (3.3.0)\n",
      "Requirement already satisfied: urllib3<3,>=1.21.1 in c:\\users\\maiti\\pycharmprojects\\pruebitasmineria\\venv\\lib\\site-packages (from requests<3.0.0,>=2.13.0->spacy) (2.0.6)\n",
      "Requirement already satisfied: certifi>=2017.4.17 in c:\\users\\maiti\\pycharmprojects\\pruebitasmineria\\venv\\lib\\site-packages (from requests<3.0.0,>=2.13.0->spacy) (2023.7.22)\n",
      "Requirement already satisfied: confection<1.0.0,>=0.0.1 in c:\\users\\maiti\\pycharmprojects\\pruebitasmineria\\venv\\lib\\site-packages (from thinc<8.3.0,>=8.1.8->spacy) (0.1.3)\n",
      "Requirement already satisfied: blis<0.8.0,>=0.7.8 in c:\\users\\maiti\\pycharmprojects\\pruebitasmineria\\venv\\lib\\site-packages (from thinc<8.3.0,>=8.1.8->spacy) (0.7.11)\n",
      "Requirement already satisfied: colorama in c:\\users\\maiti\\pycharmprojects\\pruebitasmineria\\venv\\lib\\site-packages (from tqdm<5.0.0,>=4.38.0->spacy) (0.4.6)\n",
      "Requirement already satisfied: click<9.0.0,>=7.1.1 in c:\\users\\maiti\\pycharmprojects\\pruebitasmineria\\venv\\lib\\site-packages (from typer<0.10.0,>=0.3.0->spacy) (8.1.7)\n",
      "Requirement already satisfied: cloudpathlib<0.17.0,>=0.7.0 in c:\\users\\maiti\\pycharmprojects\\pruebitasmineria\\venv\\lib\\site-packages (from weasel<0.4.0,>=0.1.0->spacy) (0.16.0)\n",
      "Requirement already satisfied: MarkupSafe>=2.0 in c:\\users\\maiti\\pycharmprojects\\pruebitasmineria\\venv\\lib\\site-packages (from jinja2->spacy) (2.1.3)\n"
     ]
    },
    {
     "name": "stderr",
     "output_type": "stream",
     "text": [
      "\n",
      "[notice] A new release of pip available: 22.3.1 -> 23.3\n",
      "[notice] To update, run: python.exe -m pip install --upgrade pip\n"
     ]
    },
    {
     "name": "stdout",
     "output_type": "stream",
     "text": [
      "Collecting en-core-web-sm==3.7.0\n",
      "  Downloading https://github.com/explosion/spacy-models/releases/download/en_core_web_sm-3.7.0/en_core_web_sm-3.7.0-py3-none-any.whl (12.8 MB)\n",
      "     ---------------------------------------- 12.8/12.8 MB 4.0 MB/s eta 0:00:00\n",
      "Requirement already satisfied: spacy<3.8.0,>=3.7.0 in c:\\users\\maiti\\pycharmprojects\\pruebitasmineria\\venv\\lib\\site-packages (from en-core-web-sm==3.7.0) (3.7.2)\n",
      "Requirement already satisfied: typer<0.10.0,>=0.3.0 in c:\\users\\maiti\\pycharmprojects\\pruebitasmineria\\venv\\lib\\site-packages (from spacy<3.8.0,>=3.7.0->en-core-web-sm==3.7.0) (0.9.0)\n",
      "Requirement already satisfied: tqdm<5.0.0,>=4.38.0 in c:\\users\\maiti\\pycharmprojects\\pruebitasmineria\\venv\\lib\\site-packages (from spacy<3.8.0,>=3.7.0->en-core-web-sm==3.7.0) (4.66.1)\n",
      "Requirement already satisfied: catalogue<2.1.0,>=2.0.6 in c:\\users\\maiti\\pycharmprojects\\pruebitasmineria\\venv\\lib\\site-packages (from spacy<3.8.0,>=3.7.0->en-core-web-sm==3.7.0) (2.0.10)\n",
      "Requirement already satisfied: langcodes<4.0.0,>=3.2.0 in c:\\users\\maiti\\pycharmprojects\\pruebitasmineria\\venv\\lib\\site-packages (from spacy<3.8.0,>=3.7.0->en-core-web-sm==3.7.0) (3.3.0)\n",
      "Requirement already satisfied: setuptools in c:\\users\\maiti\\pycharmprojects\\pruebitasmineria\\venv\\lib\\site-packages (from spacy<3.8.0,>=3.7.0->en-core-web-sm==3.7.0) (65.5.1)\n",
      "Requirement already satisfied: preshed<3.1.0,>=3.0.2 in c:\\users\\maiti\\pycharmprojects\\pruebitasmineria\\venv\\lib\\site-packages (from spacy<3.8.0,>=3.7.0->en-core-web-sm==3.7.0) (3.0.9)\n",
      "Requirement already satisfied: srsly<3.0.0,>=2.4.3 in c:\\users\\maiti\\pycharmprojects\\pruebitasmineria\\venv\\lib\\site-packages (from spacy<3.8.0,>=3.7.0->en-core-web-sm==3.7.0) (2.4.8)\n",
      "Requirement already satisfied: smart-open<7.0.0,>=5.2.1 in c:\\users\\maiti\\pycharmprojects\\pruebitasmineria\\venv\\lib\\site-packages (from spacy<3.8.0,>=3.7.0->en-core-web-sm==3.7.0) (6.4.0)\n",
      "Requirement already satisfied: cymem<2.1.0,>=2.0.2 in c:\\users\\maiti\\pycharmprojects\\pruebitasmineria\\venv\\lib\\site-packages (from spacy<3.8.0,>=3.7.0->en-core-web-sm==3.7.0) (2.0.8)\n",
      "Requirement already satisfied: requests<3.0.0,>=2.13.0 in c:\\users\\maiti\\pycharmprojects\\pruebitasmineria\\venv\\lib\\site-packages (from spacy<3.8.0,>=3.7.0->en-core-web-sm==3.7.0) (2.31.0)\n",
      "Requirement already satisfied: jinja2 in c:\\users\\maiti\\pycharmprojects\\pruebitasmineria\\venv\\lib\\site-packages (from spacy<3.8.0,>=3.7.0->en-core-web-sm==3.7.0) (3.1.2)\n",
      "Requirement already satisfied: wasabi<1.2.0,>=0.9.1 in c:\\users\\maiti\\pycharmprojects\\pruebitasmineria\\venv\\lib\\site-packages (from spacy<3.8.0,>=3.7.0->en-core-web-sm==3.7.0) (1.1.2)\n",
      "Requirement already satisfied: spacy-loggers<2.0.0,>=1.0.0 in c:\\users\\maiti\\pycharmprojects\\pruebitasmineria\\venv\\lib\\site-packages (from spacy<3.8.0,>=3.7.0->en-core-web-sm==3.7.0) (1.0.5)\n",
      "Requirement already satisfied: murmurhash<1.1.0,>=0.28.0 in c:\\users\\maiti\\pycharmprojects\\pruebitasmineria\\venv\\lib\\site-packages (from spacy<3.8.0,>=3.7.0->en-core-web-sm==3.7.0) (1.0.10)\n",
      "Requirement already satisfied: packaging>=20.0 in c:\\users\\maiti\\pycharmprojects\\pruebitasmineria\\venv\\lib\\site-packages (from spacy<3.8.0,>=3.7.0->en-core-web-sm==3.7.0) (23.2)\n",
      "Requirement already satisfied: weasel<0.4.0,>=0.1.0 in c:\\users\\maiti\\pycharmprojects\\pruebitasmineria\\venv\\lib\\site-packages (from spacy<3.8.0,>=3.7.0->en-core-web-sm==3.7.0) (0.3.3)\n",
      "Requirement already satisfied: spacy-legacy<3.1.0,>=3.0.11 in c:\\users\\maiti\\pycharmprojects\\pruebitasmineria\\venv\\lib\\site-packages (from spacy<3.8.0,>=3.7.0->en-core-web-sm==3.7.0) (3.0.12)\n",
      "Requirement already satisfied: pydantic!=1.8,!=1.8.1,<3.0.0,>=1.7.4 in c:\\users\\maiti\\pycharmprojects\\pruebitasmineria\\venv\\lib\\site-packages (from spacy<3.8.0,>=3.7.0->en-core-web-sm==3.7.0) (2.4.2)\n",
      "Requirement already satisfied: numpy>=1.19.0 in c:\\users\\maiti\\pycharmprojects\\pruebitasmineria\\venv\\lib\\site-packages (from spacy<3.8.0,>=3.7.0->en-core-web-sm==3.7.0) (1.26.1)\n",
      "Requirement already satisfied: thinc<8.3.0,>=8.1.8 in c:\\users\\maiti\\pycharmprojects\\pruebitasmineria\\venv\\lib\\site-packages (from spacy<3.8.0,>=3.7.0->en-core-web-sm==3.7.0) (8.2.1)\n",
      "Requirement already satisfied: typing-extensions>=4.6.1 in c:\\users\\maiti\\pycharmprojects\\pruebitasmineria\\venv\\lib\\site-packages (from pydantic!=1.8,!=1.8.1,<3.0.0,>=1.7.4->spacy<3.8.0,>=3.7.0->en-core-web-sm==3.7.0) (4.8.0)\n",
      "Requirement already satisfied: pydantic-core==2.10.1 in c:\\users\\maiti\\pycharmprojects\\pruebitasmineria\\venv\\lib\\site-packages (from pydantic!=1.8,!=1.8.1,<3.0.0,>=1.7.4->spacy<3.8.0,>=3.7.0->en-core-web-sm==3.7.0) (2.10.1)\n",
      "Requirement already satisfied: annotated-types>=0.4.0 in c:\\users\\maiti\\pycharmprojects\\pruebitasmineria\\venv\\lib\\site-packages (from pydantic!=1.8,!=1.8.1,<3.0.0,>=1.7.4->spacy<3.8.0,>=3.7.0->en-core-web-sm==3.7.0) (0.6.0)\n",
      "Requirement already satisfied: urllib3<3,>=1.21.1 in c:\\users\\maiti\\pycharmprojects\\pruebitasmineria\\venv\\lib\\site-packages (from requests<3.0.0,>=2.13.0->spacy<3.8.0,>=3.7.0->en-core-web-sm==3.7.0) (2.0.6)\n",
      "Requirement already satisfied: certifi>=2017.4.17 in c:\\users\\maiti\\pycharmprojects\\pruebitasmineria\\venv\\lib\\site-packages (from requests<3.0.0,>=2.13.0->spacy<3.8.0,>=3.7.0->en-core-web-sm==3.7.0) (2023.7.22)\n",
      "Requirement already satisfied: charset-normalizer<4,>=2 in c:\\users\\maiti\\pycharmprojects\\pruebitasmineria\\venv\\lib\\site-packages (from requests<3.0.0,>=2.13.0->spacy<3.8.0,>=3.7.0->en-core-web-sm==3.7.0) (3.3.0)\n",
      "Requirement already satisfied: idna<4,>=2.5 in c:\\users\\maiti\\pycharmprojects\\pruebitasmineria\\venv\\lib\\site-packages (from requests<3.0.0,>=2.13.0->spacy<3.8.0,>=3.7.0->en-core-web-sm==3.7.0) (3.4)\n",
      "Requirement already satisfied: confection<1.0.0,>=0.0.1 in c:\\users\\maiti\\pycharmprojects\\pruebitasmineria\\venv\\lib\\site-packages (from thinc<8.3.0,>=8.1.8->spacy<3.8.0,>=3.7.0->en-core-web-sm==3.7.0) (0.1.3)\n",
      "Requirement already satisfied: blis<0.8.0,>=0.7.8 in c:\\users\\maiti\\pycharmprojects\\pruebitasmineria\\venv\\lib\\site-packages (from thinc<8.3.0,>=8.1.8->spacy<3.8.0,>=3.7.0->en-core-web-sm==3.7.0) (0.7.11)\n",
      "Requirement already satisfied: colorama in c:\\users\\maiti\\pycharmprojects\\pruebitasmineria\\venv\\lib\\site-packages (from tqdm<5.0.0,>=4.38.0->spacy<3.8.0,>=3.7.0->en-core-web-sm==3.7.0) (0.4.6)\n",
      "Requirement already satisfied: click<9.0.0,>=7.1.1 in c:\\users\\maiti\\pycharmprojects\\pruebitasmineria\\venv\\lib\\site-packages (from typer<0.10.0,>=0.3.0->spacy<3.8.0,>=3.7.0->en-core-web-sm==3.7.0) (8.1.7)\n",
      "Requirement already satisfied: cloudpathlib<0.17.0,>=0.7.0 in c:\\users\\maiti\\pycharmprojects\\pruebitasmineria\\venv\\lib\\site-packages (from weasel<0.4.0,>=0.1.0->spacy<3.8.0,>=3.7.0->en-core-web-sm==3.7.0) (0.16.0)\n",
      "Requirement already satisfied: MarkupSafe>=2.0 in c:\\users\\maiti\\pycharmprojects\\pruebitasmineria\\venv\\lib\\site-packages (from jinja2->spacy<3.8.0,>=3.7.0->en-core-web-sm==3.7.0) (2.1.3)\n",
      "\u001B[38;5;3m[!] As of spaCy v3.0, shortcuts like 'en' are deprecated. Please use\n",
      "the full pipeline package name 'en_core_web_sm' instead.\u001B[0m\n",
      "\u001B[38;5;2m[+] Download and installation successful\u001B[0m\n",
      "You can now load the package via spacy.load('en_core_web_sm')\n"
     ]
    },
    {
     "name": "stderr",
     "output_type": "stream",
     "text": [
      "\n",
      "[notice] A new release of pip available: 22.3.1 -> 23.3\n",
      "[notice] To update, run: python.exe -m pip install --upgrade pip\n"
     ]
    },
    {
     "name": "stdout",
     "output_type": "stream",
     "text": [
      "Requirement already satisfied: spacy in c:\\users\\maiti\\pycharmprojects\\pruebitasmineria\\venv\\lib\\site-packages (3.7.2)\n",
      "Requirement already satisfied: spacy-loggers<2.0.0,>=1.0.0 in c:\\users\\maiti\\pycharmprojects\\pruebitasmineria\\venv\\lib\\site-packages (from spacy) (1.0.5)\n",
      "Requirement already satisfied: pydantic!=1.8,!=1.8.1,<3.0.0,>=1.7.4 in c:\\users\\maiti\\pycharmprojects\\pruebitasmineria\\venv\\lib\\site-packages (from spacy) (2.4.2)\n",
      "Requirement already satisfied: srsly<3.0.0,>=2.4.3 in c:\\users\\maiti\\pycharmprojects\\pruebitasmineria\\venv\\lib\\site-packages (from spacy) (2.4.8)\n",
      "Requirement already satisfied: langcodes<4.0.0,>=3.2.0 in c:\\users\\maiti\\pycharmprojects\\pruebitasmineria\\venv\\lib\\site-packages (from spacy) (3.3.0)\n",
      "Requirement already satisfied: requests<3.0.0,>=2.13.0 in c:\\users\\maiti\\pycharmprojects\\pruebitasmineria\\venv\\lib\\site-packages (from spacy) (2.31.0)\n",
      "Requirement already satisfied: typer<0.10.0,>=0.3.0 in c:\\users\\maiti\\pycharmprojects\\pruebitasmineria\\venv\\lib\\site-packages (from spacy) (0.9.0)\n",
      "Requirement already satisfied: weasel<0.4.0,>=0.1.0 in c:\\users\\maiti\\pycharmprojects\\pruebitasmineria\\venv\\lib\\site-packages (from spacy) (0.3.3)\n",
      "Requirement already satisfied: cymem<2.1.0,>=2.0.2 in c:\\users\\maiti\\pycharmprojects\\pruebitasmineria\\venv\\lib\\site-packages (from spacy) (2.0.8)\n",
      "Requirement already satisfied: murmurhash<1.1.0,>=0.28.0 in c:\\users\\maiti\\pycharmprojects\\pruebitasmineria\\venv\\lib\\site-packages (from spacy) (1.0.10)\n",
      "Requirement already satisfied: catalogue<2.1.0,>=2.0.6 in c:\\users\\maiti\\pycharmprojects\\pruebitasmineria\\venv\\lib\\site-packages (from spacy) (2.0.10)\n",
      "Requirement already satisfied: preshed<3.1.0,>=3.0.2 in c:\\users\\maiti\\pycharmprojects\\pruebitasmineria\\venv\\lib\\site-packages (from spacy) (3.0.9)\n",
      "Requirement already satisfied: numpy>=1.19.0 in c:\\users\\maiti\\pycharmprojects\\pruebitasmineria\\venv\\lib\\site-packages (from spacy) (1.26.1)\n",
      "Requirement already satisfied: jinja2 in c:\\users\\maiti\\pycharmprojects\\pruebitasmineria\\venv\\lib\\site-packages (from spacy) (3.1.2)\n",
      "Requirement already satisfied: tqdm<5.0.0,>=4.38.0 in c:\\users\\maiti\\pycharmprojects\\pruebitasmineria\\venv\\lib\\site-packages (from spacy) (4.66.1)\n",
      "Requirement already satisfied: thinc<8.3.0,>=8.1.8 in c:\\users\\maiti\\pycharmprojects\\pruebitasmineria\\venv\\lib\\site-packages (from spacy) (8.2.1)\n",
      "Requirement already satisfied: smart-open<7.0.0,>=5.2.1 in c:\\users\\maiti\\pycharmprojects\\pruebitasmineria\\venv\\lib\\site-packages (from spacy) (6.4.0)\n",
      "Requirement already satisfied: wasabi<1.2.0,>=0.9.1 in c:\\users\\maiti\\pycharmprojects\\pruebitasmineria\\venv\\lib\\site-packages (from spacy) (1.1.2)\n",
      "Requirement already satisfied: packaging>=20.0 in c:\\users\\maiti\\pycharmprojects\\pruebitasmineria\\venv\\lib\\site-packages (from spacy) (23.2)\n",
      "Requirement already satisfied: spacy-legacy<3.1.0,>=3.0.11 in c:\\users\\maiti\\pycharmprojects\\pruebitasmineria\\venv\\lib\\site-packages (from spacy) (3.0.12)\n",
      "Requirement already satisfied: setuptools in c:\\users\\maiti\\pycharmprojects\\pruebitasmineria\\venv\\lib\\site-packages (from spacy) (65.5.1)\n",
      "Requirement already satisfied: typing-extensions>=4.6.1 in c:\\users\\maiti\\pycharmprojects\\pruebitasmineria\\venv\\lib\\site-packages (from pydantic!=1.8,!=1.8.1,<3.0.0,>=1.7.4->spacy) (4.8.0)\n",
      "Requirement already satisfied: pydantic-core==2.10.1 in c:\\users\\maiti\\pycharmprojects\\pruebitasmineria\\venv\\lib\\site-packages (from pydantic!=1.8,!=1.8.1,<3.0.0,>=1.7.4->spacy) (2.10.1)\n",
      "Requirement already satisfied: annotated-types>=0.4.0 in c:\\users\\maiti\\pycharmprojects\\pruebitasmineria\\venv\\lib\\site-packages (from pydantic!=1.8,!=1.8.1,<3.0.0,>=1.7.4->spacy) (0.6.0)\n",
      "Requirement already satisfied: certifi>=2017.4.17 in c:\\users\\maiti\\pycharmprojects\\pruebitasmineria\\venv\\lib\\site-packages (from requests<3.0.0,>=2.13.0->spacy) (2023.7.22)\n",
      "Requirement already satisfied: idna<4,>=2.5 in c:\\users\\maiti\\pycharmprojects\\pruebitasmineria\\venv\\lib\\site-packages (from requests<3.0.0,>=2.13.0->spacy) (3.4)\n",
      "Requirement already satisfied: charset-normalizer<4,>=2 in c:\\users\\maiti\\pycharmprojects\\pruebitasmineria\\venv\\lib\\site-packages (from requests<3.0.0,>=2.13.0->spacy) (3.3.0)\n",
      "Requirement already satisfied: urllib3<3,>=1.21.1 in c:\\users\\maiti\\pycharmprojects\\pruebitasmineria\\venv\\lib\\site-packages (from requests<3.0.0,>=2.13.0->spacy) (2.0.6)\n",
      "Requirement already satisfied: blis<0.8.0,>=0.7.8 in c:\\users\\maiti\\pycharmprojects\\pruebitasmineria\\venv\\lib\\site-packages (from thinc<8.3.0,>=8.1.8->spacy) (0.7.11)\n",
      "Requirement already satisfied: confection<1.0.0,>=0.0.1 in c:\\users\\maiti\\pycharmprojects\\pruebitasmineria\\venv\\lib\\site-packages (from thinc<8.3.0,>=8.1.8->spacy) (0.1.3)\n",
      "Requirement already satisfied: colorama in c:\\users\\maiti\\pycharmprojects\\pruebitasmineria\\venv\\lib\\site-packages (from tqdm<5.0.0,>=4.38.0->spacy) (0.4.6)\n",
      "Requirement already satisfied: click<9.0.0,>=7.1.1 in c:\\users\\maiti\\pycharmprojects\\pruebitasmineria\\venv\\lib\\site-packages (from typer<0.10.0,>=0.3.0->spacy) (8.1.7)\n",
      "Requirement already satisfied: cloudpathlib<0.17.0,>=0.7.0 in c:\\users\\maiti\\pycharmprojects\\pruebitasmineria\\venv\\lib\\site-packages (from weasel<0.4.0,>=0.1.0->spacy) (0.16.0)\n",
      "Requirement already satisfied: MarkupSafe>=2.0 in c:\\users\\maiti\\pycharmprojects\\pruebitasmineria\\venv\\lib\\site-packages (from jinja2->spacy) (2.1.3)\n"
     ]
    },
    {
     "name": "stderr",
     "output_type": "stream",
     "text": [
      "\n",
      "[notice] A new release of pip available: 22.3.1 -> 23.3\n",
      "[notice] To update, run: python.exe -m pip install --upgrade pip\n"
     ]
    },
    {
     "name": "stdout",
     "output_type": "stream",
     "text": [
      "Requirement already satisfied: spacymoji in c:\\users\\maiti\\pycharmprojects\\pruebitasmineria\\venv\\lib\\site-packages (3.1.0)\n",
      "Requirement already satisfied: emoji<3.0,>=2.0 in c:\\users\\maiti\\pycharmprojects\\pruebitasmineria\\venv\\lib\\site-packages (from spacymoji) (2.8.0)\n",
      "Requirement already satisfied: spacy<4.0.0,>=3.0.0 in c:\\users\\maiti\\pycharmprojects\\pruebitasmineria\\venv\\lib\\site-packages (from spacymoji) (3.7.2)\n",
      "Requirement already satisfied: typer<0.10.0,>=0.3.0 in c:\\users\\maiti\\pycharmprojects\\pruebitasmineria\\venv\\lib\\site-packages (from spacy<4.0.0,>=3.0.0->spacymoji) (0.9.0)\n",
      "Requirement already satisfied: spacy-legacy<3.1.0,>=3.0.11 in c:\\users\\maiti\\pycharmprojects\\pruebitasmineria\\venv\\lib\\site-packages (from spacy<4.0.0,>=3.0.0->spacymoji) (3.0.12)\n",
      "Requirement already satisfied: tqdm<5.0.0,>=4.38.0 in c:\\users\\maiti\\pycharmprojects\\pruebitasmineria\\venv\\lib\\site-packages (from spacy<4.0.0,>=3.0.0->spacymoji) (4.66.1)\n",
      "Requirement already satisfied: pydantic!=1.8,!=1.8.1,<3.0.0,>=1.7.4 in c:\\users\\maiti\\pycharmprojects\\pruebitasmineria\\venv\\lib\\site-packages (from spacy<4.0.0,>=3.0.0->spacymoji) (2.4.2)\n",
      "Requirement already satisfied: jinja2 in c:\\users\\maiti\\pycharmprojects\\pruebitasmineria\\venv\\lib\\site-packages (from spacy<4.0.0,>=3.0.0->spacymoji) (3.1.2)\n",
      "Requirement already satisfied: langcodes<4.0.0,>=3.2.0 in c:\\users\\maiti\\pycharmprojects\\pruebitasmineria\\venv\\lib\\site-packages (from spacy<4.0.0,>=3.0.0->spacymoji) (3.3.0)\n",
      "Requirement already satisfied: srsly<3.0.0,>=2.4.3 in c:\\users\\maiti\\pycharmprojects\\pruebitasmineria\\venv\\lib\\site-packages (from spacy<4.0.0,>=3.0.0->spacymoji) (2.4.8)\n",
      "Requirement already satisfied: requests<3.0.0,>=2.13.0 in c:\\users\\maiti\\pycharmprojects\\pruebitasmineria\\venv\\lib\\site-packages (from spacy<4.0.0,>=3.0.0->spacymoji) (2.31.0)\n",
      "Requirement already satisfied: setuptools in c:\\users\\maiti\\pycharmprojects\\pruebitasmineria\\venv\\lib\\site-packages (from spacy<4.0.0,>=3.0.0->spacymoji) (65.5.1)\n",
      "Requirement already satisfied: wasabi<1.2.0,>=0.9.1 in c:\\users\\maiti\\pycharmprojects\\pruebitasmineria\\venv\\lib\\site-packages (from spacy<4.0.0,>=3.0.0->spacymoji) (1.1.2)\n",
      "Requirement already satisfied: catalogue<2.1.0,>=2.0.6 in c:\\users\\maiti\\pycharmprojects\\pruebitasmineria\\venv\\lib\\site-packages (from spacy<4.0.0,>=3.0.0->spacymoji) (2.0.10)\n",
      "Requirement already satisfied: numpy>=1.19.0 in c:\\users\\maiti\\pycharmprojects\\pruebitasmineria\\venv\\lib\\site-packages (from spacy<4.0.0,>=3.0.0->spacymoji) (1.26.1)\n",
      "Requirement already satisfied: weasel<0.4.0,>=0.1.0 in c:\\users\\maiti\\pycharmprojects\\pruebitasmineria\\venv\\lib\\site-packages (from spacy<4.0.0,>=3.0.0->spacymoji) (0.3.3)\n",
      "Requirement already satisfied: packaging>=20.0 in c:\\users\\maiti\\pycharmprojects\\pruebitasmineria\\venv\\lib\\site-packages (from spacy<4.0.0,>=3.0.0->spacymoji) (23.2)\n",
      "Requirement already satisfied: smart-open<7.0.0,>=5.2.1 in c:\\users\\maiti\\pycharmprojects\\pruebitasmineria\\venv\\lib\\site-packages (from spacy<4.0.0,>=3.0.0->spacymoji) (6.4.0)\n",
      "Requirement already satisfied: cymem<2.1.0,>=2.0.2 in c:\\users\\maiti\\pycharmprojects\\pruebitasmineria\\venv\\lib\\site-packages (from spacy<4.0.0,>=3.0.0->spacymoji) (2.0.8)\n",
      "Requirement already satisfied: thinc<8.3.0,>=8.1.8 in c:\\users\\maiti\\pycharmprojects\\pruebitasmineria\\venv\\lib\\site-packages (from spacy<4.0.0,>=3.0.0->spacymoji) (8.2.1)\n",
      "Requirement already satisfied: spacy-loggers<2.0.0,>=1.0.0 in c:\\users\\maiti\\pycharmprojects\\pruebitasmineria\\venv\\lib\\site-packages (from spacy<4.0.0,>=3.0.0->spacymoji) (1.0.5)\n",
      "Requirement already satisfied: preshed<3.1.0,>=3.0.2 in c:\\users\\maiti\\pycharmprojects\\pruebitasmineria\\venv\\lib\\site-packages (from spacy<4.0.0,>=3.0.0->spacymoji) (3.0.9)\n",
      "Requirement already satisfied: murmurhash<1.1.0,>=0.28.0 in c:\\users\\maiti\\pycharmprojects\\pruebitasmineria\\venv\\lib\\site-packages (from spacy<4.0.0,>=3.0.0->spacymoji) (1.0.10)\n",
      "Requirement already satisfied: typing-extensions>=4.6.1 in c:\\users\\maiti\\pycharmprojects\\pruebitasmineria\\venv\\lib\\site-packages (from pydantic!=1.8,!=1.8.1,<3.0.0,>=1.7.4->spacy<4.0.0,>=3.0.0->spacymoji) (4.8.0)\n",
      "Requirement already satisfied: annotated-types>=0.4.0 in c:\\users\\maiti\\pycharmprojects\\pruebitasmineria\\venv\\lib\\site-packages (from pydantic!=1.8,!=1.8.1,<3.0.0,>=1.7.4->spacy<4.0.0,>=3.0.0->spacymoji) (0.6.0)\n",
      "Requirement already satisfied: pydantic-core==2.10.1 in c:\\users\\maiti\\pycharmprojects\\pruebitasmineria\\venv\\lib\\site-packages (from pydantic!=1.8,!=1.8.1,<3.0.0,>=1.7.4->spacy<4.0.0,>=3.0.0->spacymoji) (2.10.1)\n",
      "Requirement already satisfied: certifi>=2017.4.17 in c:\\users\\maiti\\pycharmprojects\\pruebitasmineria\\venv\\lib\\site-packages (from requests<3.0.0,>=2.13.0->spacy<4.0.0,>=3.0.0->spacymoji) (2023.7.22)\n",
      "Requirement already satisfied: charset-normalizer<4,>=2 in c:\\users\\maiti\\pycharmprojects\\pruebitasmineria\\venv\\lib\\site-packages (from requests<3.0.0,>=2.13.0->spacy<4.0.0,>=3.0.0->spacymoji) (3.3.0)\n",
      "Requirement already satisfied: idna<4,>=2.5 in c:\\users\\maiti\\pycharmprojects\\pruebitasmineria\\venv\\lib\\site-packages (from requests<3.0.0,>=2.13.0->spacy<4.0.0,>=3.0.0->spacymoji) (3.4)\n",
      "Requirement already satisfied: urllib3<3,>=1.21.1 in c:\\users\\maiti\\pycharmprojects\\pruebitasmineria\\venv\\lib\\site-packages (from requests<3.0.0,>=2.13.0->spacy<4.0.0,>=3.0.0->spacymoji) (2.0.6)\n",
      "Requirement already satisfied: blis<0.8.0,>=0.7.8 in c:\\users\\maiti\\pycharmprojects\\pruebitasmineria\\venv\\lib\\site-packages (from thinc<8.3.0,>=8.1.8->spacy<4.0.0,>=3.0.0->spacymoji) (0.7.11)\n",
      "Requirement already satisfied: confection<1.0.0,>=0.0.1 in c:\\users\\maiti\\pycharmprojects\\pruebitasmineria\\venv\\lib\\site-packages (from thinc<8.3.0,>=8.1.8->spacy<4.0.0,>=3.0.0->spacymoji) (0.1.3)\n",
      "Requirement already satisfied: colorama in c:\\users\\maiti\\pycharmprojects\\pruebitasmineria\\venv\\lib\\site-packages (from tqdm<5.0.0,>=4.38.0->spacy<4.0.0,>=3.0.0->spacymoji) (0.4.6)\n",
      "Requirement already satisfied: click<9.0.0,>=7.1.1 in c:\\users\\maiti\\pycharmprojects\\pruebitasmineria\\venv\\lib\\site-packages (from typer<0.10.0,>=0.3.0->spacy<4.0.0,>=3.0.0->spacymoji) (8.1.7)\n",
      "Requirement already satisfied: cloudpathlib<0.17.0,>=0.7.0 in c:\\users\\maiti\\pycharmprojects\\pruebitasmineria\\venv\\lib\\site-packages (from weasel<0.4.0,>=0.1.0->spacy<4.0.0,>=3.0.0->spacymoji) (0.16.0)\n",
      "Requirement already satisfied: MarkupSafe>=2.0 in c:\\users\\maiti\\pycharmprojects\\pruebitasmineria\\venv\\lib\\site-packages (from jinja2->spacy<4.0.0,>=3.0.0->spacymoji) (2.1.3)\n"
     ]
    },
    {
     "name": "stderr",
     "output_type": "stream",
     "text": [
      "\n",
      "[notice] A new release of pip available: 22.3.1 -> 23.3\n",
      "[notice] To update, run: python.exe -m pip install --upgrade pip\n"
     ]
    },
    {
     "name": "stdout",
     "output_type": "stream",
     "text": [
      "Requirement already satisfied: emoji in c:\\users\\maiti\\pycharmprojects\\pruebitasmineria\\venv\\lib\\site-packages (2.8.0)\n"
     ]
    },
    {
     "name": "stderr",
     "output_type": "stream",
     "text": [
      "\n",
      "[notice] A new release of pip available: 22.3.1 -> 23.3\n",
      "[notice] To update, run: python.exe -m pip install --upgrade pip\n"
     ]
    },
    {
     "name": "stdout",
     "output_type": "stream",
     "text": [
      "Requirement already satisfied: scikit-learn in c:\\users\\maiti\\pycharmprojects\\pruebitasmineria\\venv\\lib\\site-packages (1.3.1)\n",
      "Requirement already satisfied: scipy>=1.5.0 in c:\\users\\maiti\\pycharmprojects\\pruebitasmineria\\venv\\lib\\site-packages (from scikit-learn) (1.11.3)\n",
      "Requirement already satisfied: threadpoolctl>=2.0.0 in c:\\users\\maiti\\pycharmprojects\\pruebitasmineria\\venv\\lib\\site-packages (from scikit-learn) (3.2.0)\n",
      "Requirement already satisfied: joblib>=1.1.1 in c:\\users\\maiti\\pycharmprojects\\pruebitasmineria\\venv\\lib\\site-packages (from scikit-learn) (1.3.2)\n",
      "Requirement already satisfied: numpy<2.0,>=1.17.3 in c:\\users\\maiti\\pycharmprojects\\pruebitasmineria\\venv\\lib\\site-packages (from scikit-learn) (1.26.1)\n"
     ]
    },
    {
     "name": "stderr",
     "output_type": "stream",
     "text": [
      "\n",
      "[notice] A new release of pip available: 22.3.1 -> 23.3\n",
      "[notice] To update, run: python.exe -m pip install --upgrade pip\n"
     ]
    },
    {
     "name": "stdout",
     "output_type": "stream",
     "text": [
      "Requirement already satisfied: gensim in c:\\users\\maiti\\pycharmprojects\\pruebitasmineria\\venv\\lib\\site-packages (4.3.2)\n",
      "Requirement already satisfied: numpy>=1.18.5 in c:\\users\\maiti\\pycharmprojects\\pruebitasmineria\\venv\\lib\\site-packages (from gensim) (1.26.1)\n",
      "Requirement already satisfied: scipy>=1.7.0 in c:\\users\\maiti\\pycharmprojects\\pruebitasmineria\\venv\\lib\\site-packages (from gensim) (1.11.3)\n",
      "Requirement already satisfied: smart-open>=1.8.1 in c:\\users\\maiti\\pycharmprojects\\pruebitasmineria\\venv\\lib\\site-packages (from gensim) (6.4.0)\n"
     ]
    },
    {
     "name": "stderr",
     "output_type": "stream",
     "text": [
      "\n",
      "[notice] A new release of pip available: 22.3.1 -> 23.3\n",
      "[notice] To update, run: python.exe -m pip install --upgrade pip\n"
     ]
    },
    {
     "name": "stdout",
     "output_type": "stream",
     "text": [
      "Requirement already satisfied: sklearn in c:\\users\\maiti\\pycharmprojects\\pruebitasmineria\\venv\\lib\\site-packages (0.0.post10)\n"
     ]
    },
    {
     "name": "stderr",
     "output_type": "stream",
     "text": [
      "\n",
      "[notice] A new release of pip available: 22.3.1 -> 23.3\n",
      "[notice] To update, run: python.exe -m pip install --upgrade pip\n"
     ]
    },
    {
     "name": "stdout",
     "output_type": "stream",
     "text": [
      "Requirement already satisfied: matplotlib in c:\\users\\maiti\\pycharmprojects\\pruebitasmineria\\venv\\lib\\site-packages (3.8.0)\n",
      "Requirement already satisfied: pyparsing>=2.3.1 in c:\\users\\maiti\\pycharmprojects\\pruebitasmineria\\venv\\lib\\site-packages (from matplotlib) (3.1.1)\n",
      "Requirement already satisfied: cycler>=0.10 in c:\\users\\maiti\\pycharmprojects\\pruebitasmineria\\venv\\lib\\site-packages (from matplotlib) (0.12.1)\n",
      "Requirement already satisfied: pillow>=6.2.0 in c:\\users\\maiti\\pycharmprojects\\pruebitasmineria\\venv\\lib\\site-packages (from matplotlib) (10.1.0)\n",
      "Requirement already satisfied: python-dateutil>=2.7 in c:\\users\\maiti\\pycharmprojects\\pruebitasmineria\\venv\\lib\\site-packages (from matplotlib) (2.8.2)\n",
      "Requirement already satisfied: numpy<2,>=1.21 in c:\\users\\maiti\\pycharmprojects\\pruebitasmineria\\venv\\lib\\site-packages (from matplotlib) (1.26.1)\n",
      "Requirement already satisfied: contourpy>=1.0.1 in c:\\users\\maiti\\pycharmprojects\\pruebitasmineria\\venv\\lib\\site-packages (from matplotlib) (1.1.1)\n",
      "Requirement already satisfied: packaging>=20.0 in c:\\users\\maiti\\pycharmprojects\\pruebitasmineria\\venv\\lib\\site-packages (from matplotlib) (23.2)\n",
      "Requirement already satisfied: fonttools>=4.22.0 in c:\\users\\maiti\\pycharmprojects\\pruebitasmineria\\venv\\lib\\site-packages (from matplotlib) (4.43.1)\n",
      "Requirement already satisfied: kiwisolver>=1.0.1 in c:\\users\\maiti\\pycharmprojects\\pruebitasmineria\\venv\\lib\\site-packages (from matplotlib) (1.4.5)\n",
      "Requirement already satisfied: six>=1.5 in c:\\users\\maiti\\pycharmprojects\\pruebitasmineria\\venv\\lib\\site-packages (from python-dateutil>=2.7->matplotlib) (1.16.0)\n"
     ]
    },
    {
     "name": "stderr",
     "output_type": "stream",
     "text": [
      "\n",
      "[notice] A new release of pip available: 22.3.1 -> 23.3\n",
      "[notice] To update, run: python.exe -m pip install --upgrade pip\n"
     ]
    },
    {
     "name": "stdout",
     "output_type": "stream",
     "text": [
      "Collecting transformers\n",
      "  Downloading transformers-4.34.1-py3-none-any.whl (7.7 MB)\n",
      "     ---------------------------------------- 7.7/7.7 MB 4.6 MB/s eta 0:00:00\n",
      "Requirement already satisfied: tqdm>=4.27 in c:\\users\\maiti\\pycharmprojects\\pruebitasmineria\\venv\\lib\\site-packages (from transformers) (4.66.1)\n",
      "Collecting regex!=2019.12.17\n",
      "  Downloading regex-2023.10.3-cp310-cp310-win_amd64.whl (269 kB)\n",
      "     -------------------------------------- 269.6/269.6 kB 4.1 MB/s eta 0:00:00\n",
      "Requirement already satisfied: pyyaml>=5.1 in c:\\users\\maiti\\pycharmprojects\\pruebitasmineria\\venv\\lib\\site-packages (from transformers) (6.0.1)\n",
      "Requirement already satisfied: requests in c:\\users\\maiti\\pycharmprojects\\pruebitasmineria\\venv\\lib\\site-packages (from transformers) (2.31.0)\n",
      "Requirement already satisfied: packaging>=20.0 in c:\\users\\maiti\\pycharmprojects\\pruebitasmineria\\venv\\lib\\site-packages (from transformers) (23.2)\n",
      "Collecting tokenizers<0.15,>=0.14\n",
      "  Downloading tokenizers-0.14.1-cp310-none-win_amd64.whl (2.2 MB)\n",
      "     ---------------------------------------- 2.2/2.2 MB 4.0 MB/s eta 0:00:00\n",
      "Collecting filelock\n",
      "  Downloading filelock-3.12.4-py3-none-any.whl (11 kB)\n",
      "Collecting huggingface-hub<1.0,>=0.16.4\n",
      "  Downloading huggingface_hub-0.18.0-py3-none-any.whl (301 kB)\n",
      "     -------------------------------------- 302.0/302.0 kB 6.3 MB/s eta 0:00:00\n",
      "Collecting safetensors>=0.3.1\n",
      "  Downloading safetensors-0.4.0-cp310-none-win_amd64.whl (277 kB)\n",
      "     -------------------------------------- 277.4/277.4 kB 4.2 MB/s eta 0:00:00\n",
      "Requirement already satisfied: numpy>=1.17 in c:\\users\\maiti\\pycharmprojects\\pruebitasmineria\\venv\\lib\\site-packages (from transformers) (1.26.1)\n",
      "Collecting fsspec>=2023.5.0\n",
      "  Downloading fsspec-2023.10.0-py3-none-any.whl (166 kB)\n",
      "     -------------------------------------- 166.4/166.4 kB 4.9 MB/s eta 0:00:00\n",
      "Requirement already satisfied: typing-extensions>=3.7.4.3 in c:\\users\\maiti\\pycharmprojects\\pruebitasmineria\\venv\\lib\\site-packages (from huggingface-hub<1.0,>=0.16.4->transformers) (4.8.0)\n",
      "Collecting huggingface-hub<1.0,>=0.16.4\n",
      "  Downloading huggingface_hub-0.17.3-py3-none-any.whl (295 kB)\n",
      "     -------------------------------------- 295.0/295.0 kB 2.6 MB/s eta 0:00:00\n",
      "Requirement already satisfied: colorama in c:\\users\\maiti\\pycharmprojects\\pruebitasmineria\\venv\\lib\\site-packages (from tqdm>=4.27->transformers) (0.4.6)\n",
      "Requirement already satisfied: charset-normalizer<4,>=2 in c:\\users\\maiti\\pycharmprojects\\pruebitasmineria\\venv\\lib\\site-packages (from requests->transformers) (3.3.0)\n",
      "Requirement already satisfied: idna<4,>=2.5 in c:\\users\\maiti\\pycharmprojects\\pruebitasmineria\\venv\\lib\\site-packages (from requests->transformers) (3.4)\n",
      "Requirement already satisfied: certifi>=2017.4.17 in c:\\users\\maiti\\pycharmprojects\\pruebitasmineria\\venv\\lib\\site-packages (from requests->transformers) (2023.7.22)\n",
      "Requirement already satisfied: urllib3<3,>=1.21.1 in c:\\users\\maiti\\pycharmprojects\\pruebitasmineria\\venv\\lib\\site-packages (from requests->transformers) (2.0.6)\n",
      "Installing collected packages: safetensors, regex, fsspec, filelock, huggingface-hub, tokenizers, transformers\n",
      "Successfully installed filelock-3.12.4 fsspec-2023.10.0 huggingface-hub-0.17.3 regex-2023.10.3 safetensors-0.4.0 tokenizers-0.14.1 transformers-4.34.1\n"
     ]
    },
    {
     "name": "stderr",
     "output_type": "stream",
     "text": [
      "\n",
      "[notice] A new release of pip available: 22.3.1 -> 23.3\n",
      "[notice] To update, run: python.exe -m pip install --upgrade pip\n"
     ]
    },
    {
     "name": "stdout",
     "output_type": "stream",
     "text": [
      "Collecting torch\n",
      "  Downloading torch-2.1.0-cp310-cp310-win_amd64.whl (192.3 MB)\n",
      "     -------------------------------------- 192.3/192.3 MB 4.5 MB/s eta 0:00:00\n",
      "Requirement already satisfied: typing-extensions in c:\\users\\maiti\\pycharmprojects\\pruebitasmineria\\venv\\lib\\site-packages (from torch) (4.8.0)\n",
      "Collecting networkx\n",
      "  Downloading networkx-3.2-py3-none-any.whl (1.6 MB)\n",
      "     ---------------------------------------- 1.6/1.6 MB 5.5 MB/s eta 0:00:00\n",
      "Collecting sympy\n",
      "  Downloading sympy-1.12-py3-none-any.whl (5.7 MB)\n",
      "     ---------------------------------------- 5.7/5.7 MB 5.4 MB/s eta 0:00:00\n",
      "Requirement already satisfied: filelock in c:\\users\\maiti\\pycharmprojects\\pruebitasmineria\\venv\\lib\\site-packages (from torch) (3.12.4)\n",
      "Requirement already satisfied: jinja2 in c:\\users\\maiti\\pycharmprojects\\pruebitasmineria\\venv\\lib\\site-packages (from torch) (3.1.2)\n",
      "Requirement already satisfied: fsspec in c:\\users\\maiti\\pycharmprojects\\pruebitasmineria\\venv\\lib\\site-packages (from torch) (2023.10.0)\n",
      "Requirement already satisfied: MarkupSafe>=2.0 in c:\\users\\maiti\\pycharmprojects\\pruebitasmineria\\venv\\lib\\site-packages (from jinja2->torch) (2.1.3)\n",
      "Collecting mpmath>=0.19\n",
      "  Downloading mpmath-1.3.0-py3-none-any.whl (536 kB)\n",
      "     -------------------------------------- 536.2/536.2 kB 5.6 MB/s eta 0:00:00\n",
      "Installing collected packages: mpmath, sympy, networkx, torch\n",
      "Successfully installed mpmath-1.3.0 networkx-3.2 sympy-1.12 torch-2.1.0\n"
     ]
    },
    {
     "name": "stderr",
     "output_type": "stream",
     "text": [
      "\n",
      "[notice] A new release of pip available: 22.3.1 -> 23.3\n",
      "[notice] To update, run: python.exe -m pip install --upgrade pip\n"
     ]
    }
   ],
   "source": [
    "! pip install -U spacy\n",
    "! python -m spacy download en\n",
    "! pip install spacy\n",
    "! pip install spacymoji\n",
    "! pip install emoji\n",
    "! pip install scikit-learn\n",
    "! pip install gensim\n",
    "! pip install sklearn\n",
    "! pip install matplotlib\n",
    "! pip install transformers\n",
    "! pip install torch"
   ]
  },
  {
   "cell_type": "code",
   "execution_count": 3,
   "outputs": [],
   "source": [
    "import pandas as pd\n",
    "import spacy\n",
    "import transformers\n",
    "import torch\n",
    "import emoji\n",
    "import numpy as np\n",
    "from tqdm import tqdm\n",
    "\n",
    "from sklearn.cluster import DBSCAN\n",
    "from gensim.models import Doc2Vec\n",
    "from gensim.models.doc2vec import TaggedDocument\n",
    "from gensim.test.utils import get_tmpfile"
   ],
   "metadata": {
    "collapsed": false
   }
  },
  {
   "cell_type": "markdown",
   "metadata": {},
   "source": [
    "# 1. Preparación del Dataset"
   ]
  },
  {
   "cell_type": "markdown",
   "metadata": {
    "collapsed": false
   },
   "source": [
    "## 1.1. CARGAR FICHERO CSV CON LOS DATOS"
   ]
  },
  {
   "cell_type": "code",
   "execution_count": 13,
   "metadata": {
    "collapsed": false,
    "ExecuteTime": {
     "start_time": "2023-10-16T16:00:00.538863Z",
     "end_time": "2023-10-16T16:00:16.647165Z"
    }
   },
   "outputs": [
    {
     "name": "stdout",
     "output_type": "stream",
     "text": [
      "<class 'pandas.core.frame.DataFrame'>\n",
      "RangeIndex: 76 entries, 0 to 75\n",
      "Data columns (total 3 columns):\n",
      " #   Column      Non-Null Count  Dtype \n",
      "---  ------      --------------  ----- \n",
      " 0   Unnamed: 0  76 non-null     int64 \n",
      " 1   text        76 non-null     object\n",
      " 2   class       76 non-null     object\n",
      "dtypes: int64(1), object(2)\n",
      "memory usage: 1.9+ KB\n"
     ]
    },
    {
     "data": {
      "text/plain": "   Unnamed: 0                                               text        class\n0           2  Ex Wife Threatening SuicideRecently I left my ...      suicide\n1           3  Am I weird I don't get affected by compliments...  non-suicide\n2           4  Finally 2020 is almost over... So I can never ...  non-suicide\n3           8          i need helpjust help me im crying so hard      suicide\n4           9  I’m so lostHello, my name is Adam (16) and I’v...      suicide",
      "text/html": "<div>\n<style scoped>\n    .dataframe tbody tr th:only-of-type {\n        vertical-align: middle;\n    }\n\n    .dataframe tbody tr th {\n        vertical-align: top;\n    }\n\n    .dataframe thead th {\n        text-align: right;\n    }\n</style>\n<table border=\"1\" class=\"dataframe\">\n  <thead>\n    <tr style=\"text-align: right;\">\n      <th></th>\n      <th>Unnamed: 0</th>\n      <th>text</th>\n      <th>class</th>\n    </tr>\n  </thead>\n  <tbody>\n    <tr>\n      <th>0</th>\n      <td>2</td>\n      <td>Ex Wife Threatening SuicideRecently I left my ...</td>\n      <td>suicide</td>\n    </tr>\n    <tr>\n      <th>1</th>\n      <td>3</td>\n      <td>Am I weird I don't get affected by compliments...</td>\n      <td>non-suicide</td>\n    </tr>\n    <tr>\n      <th>2</th>\n      <td>4</td>\n      <td>Finally 2020 is almost over... So I can never ...</td>\n      <td>non-suicide</td>\n    </tr>\n    <tr>\n      <th>3</th>\n      <td>8</td>\n      <td>i need helpjust help me im crying so hard</td>\n      <td>suicide</td>\n    </tr>\n    <tr>\n      <th>4</th>\n      <td>9</td>\n      <td>I’m so lostHello, my name is Adam (16) and I’v...</td>\n      <td>suicide</td>\n    </tr>\n  </tbody>\n</table>\n</div>"
     },
     "execution_count": 13,
     "metadata": {},
     "output_type": "execute_result"
    }
   ],
   "source": [
    "datsetPath = '../Datasets/corto.csv'\n",
    "#datsetPath = '../Datasets/SuicideDetection.csv'\n",
    "\n",
    "data = pd.read_csv(datsetPath)\n",
    "\n",
    "data.info()\n",
    "data.head(n=5)"
   ]
  },
  {
   "cell_type": "code",
   "execution_count": 14,
   "metadata": {
    "ExecuteTime": {
     "start_time": "2023-10-16T16:00:16.560406Z",
     "end_time": "2023-10-16T16:00:20.307113Z"
    }
   },
   "outputs": [
    {
     "data": {
      "text/plain": "<Figure size 640x480 with 1 Axes>",
      "image/png": "[encoded data removed]"
     },
     "metadata": {},
     "output_type": "display_data"
    }
   ],
   "source": [
    "from matplotlib import pyplot as plt\n",
    "\n",
    "barPlot = plt.bar(data['class'].value_counts().index, data['class'].value_counts())\n",
    "plt.xlabel('Classes')\n",
    "plt.ylabel('Frequency')\n",
    "plt.bar_label(barPlot)\n",
    "plt.show()"
   ]
  },
  {
   "cell_type": "markdown",
   "metadata": {
    "collapsed": false
   },
   "source": [
    "## 1.2. SELECCIONAR LA COLUMNA DE TEXTOS (DISCRIMINAR LA CLASE)"
   ]
  },
  {
   "cell_type": "code",
   "execution_count": 15,
   "metadata": {
    "collapsed": false,
    "ExecuteTime": {
     "start_time": "2023-10-16T16:00:20.315525Z",
     "end_time": "2023-10-16T16:00:20.596824Z"
    }
   },
   "outputs": [],
   "source": [
    "textos = []\n",
    "for instancia in data.values:\n",
    "    textos.append(instancia[1])"
   ]
  },
  {
   "cell_type": "markdown",
   "metadata": {
    "collapsed": false
   },
   "source": [
    "# 2. Pre-proceso\n",
    "## 2.1. LIMPIEZA Y FORMARTEO DE LOS DATOS"
   ]
  },
  {
   "cell_type": "code",
   "execution_count": 16,
   "metadata": {
    "collapsed": false
   },
   "outputs": [
    {
     "name": "stderr",
     "output_type": "stream",
     "text": [
      "Procesando textos: 100%|██████████| 76/76 [00:01<00:00, 45.22it/s]\n"
     ]
    }
   ],
   "source": [
    "# Cuidado! La ejecución de este bloque con 232074 instancias, toma aproximademente 5 min? \n",
    "\n",
    "nlp = spacy.load(\"en_core_web_sm\") # Cargar modelo\n",
    "nlp.add_pipe(\"emoji\", first=True)\n",
    "\n",
    "textos_tokenizados = []\n",
    "for texto in tqdm(textos, desc=\"Procesando textos\"):\n",
    "    texto = emoji.demojize(texto)  # Emojis a texto\n",
    "    doc = nlp(texto)\n",
    "    lexical_tokens = [token.lemma_.lower() for token in doc if len(token.text) > 3 and token.is_alpha]\n",
    "    textos_tokenizados.append(lexical_tokens)"
   ]
  },
  {
   "cell_type": "code",
   "execution_count": 17,
   "metadata": {},
   "outputs": [
    {
     "name": "stdout",
     "output_type": "stream",
     "text": [
      "Ex Wife Threatening SuicideRecently I left my wife for good because she has cheated on me twice and lied to me so much that I have decided to refuse to go back to her. As of a few days ago, she began threatening suicide. I have tirelessly spent these paat few days talking her out of it and she keeps hesitating because she wants to believe I'll come back. I know a lot of people will threaten this in order to get their way, but what happens if she really does? What do I do and how am I supposed to handle her death on my hands? I still love my wife but I cannot deal with getting cheated on again and constantly feeling insecure. I'm worried today may be the day she does it and I hope so much it doesn't happen.\n",
      "['wife', 'threaten', 'suiciderecently', 'leave', 'wife', 'good', 'because', 'cheat', 'twice', 'lie', 'much', 'that', 'have', 'decide', 'refuse', 'back', 'day', 'begin', 'threaten', 'suicide', 'have', 'tirelessly', 'spend', 'these', 'paat', 'day', 'talk', 'keep', 'hesitate', 'because', 'want', 'believe', 'come', 'back', 'know', 'people', 'will', 'threaten', 'this', 'order', 'their', 'what', 'happen', 'really', 'do', 'what', 'suppose', 'handle', 'death', 'hand', 'still', 'love', 'wife', 'deal', 'with', 'getting', 'cheat', 'again', 'constantly', 'feel', 'insecure', 'worried', 'today', 'do', 'hope', 'much', 'do', 'happen']\n"
     ]
    }
   ],
   "source": [
    "print(textos[0])\n",
    "print(textos_tokenizados[0])"
   ]
  },
  {
   "cell_type": "code",
   "execution_count": null,
   "outputs": [],
   "source": [
    "import torch\n",
    "import transformers\n",
    "import spacy\n",
    "\n",
    "# Cargar el modelo BERT pre-entrenado\n",
    "model_name = \"bert-base-uncased\"  # Puedes usar otro modelo según tus necesidades\n",
    "tokenizer = transformers.AutoTokenizer.from_pretrained(model_name)\n",
    "model = transformers.AutoModel.from_pretrained(model_name)\n",
    "\n",
    "# Definir un array de strings que deseas vectorizar\n",
    "\n",
    "\n",
    "# Inicializar un vector donde almacenarás las representaciones de cada texto\n",
    "representaciones = []\n",
    "\n",
    "# Procesar cada texto y obtener su representación\n",
    "for texto in textos:\n",
    "    # Tokenizar el texto\n",
    "    tokens = tokenizer(texto, return_tensors=\"pt\")\n",
    "\n",
    "    # Obtener la representación oculta (embedding) del texto\n",
    "    with torch.no_grad():\n",
    "        output = model(**tokens)\n",
    "\n",
    "    # El vector de representación del texto se encuentra en output.last_hidden_state\n",
    "    vector = output.last_hidden_state.mean(dim=1)  # Puedes usar diferentes estrategias de agregación según tu caso\n",
    "    representaciones.append(vector)"
   ],
   "metadata": {
    "collapsed": false
   }
  },
  {
   "cell_type": "markdown",
   "metadata": {
    "collapsed": false
   },
   "source": [
    "## 2.2. Espacio de decisión - VECTORIZACION DE LOS DATOS (DOC2VEC)"
   ]
  },
  {
   "cell_type": "code",
   "execution_count": 18,
   "metadata": {
    "collapsed": false
   },
   "outputs": [],
   "source": [
    "documents = [TaggedDocument(doc, [i]) for i, doc in enumerate(textos_tokenizados)]\n",
    "model = Doc2Vec(documents, vector_size=150, window=2, dm=1, epochs=100, workers=4)\n",
    "# DM siempre a 1 para que sea distributed memory (que tenga en cuenta el contexto)\n",
    "# Window se puede cambiar pero tener en cuenta que cuanto mayor sea mas coste genera\n",
    "# Negative: siempre a 0 para que aprenda que palabras son ruido\n",
    "#Los que se pueden probar para parametro ekorketa:\n",
    "    # VECTOR SIZE!!!! (tamaño del embedding: dimensiones)\n",
    "    # Epochs: numero de iteraciones por el dataset\n",
    "    # Alpha: learning rate inicial\n",
    "    # Min alpha: El valor de LR con el que va acabar → Igual no poner?\n",
    "    # Max_vocab_size: Limita el tamaño maximo de las palabras a tener en cuenta (borra las menos frecuentes)\n",
    "\n",
    "model.build_vocab(documents)\n",
    "model.train(documents, total_examples=model.corpus_count, epochs=model.epochs)\n",
    "\n",
    "model.save(get_tmpfile(\"my_doc2vec_model\"))\n",
    "\n",
    "#vector = model.infer_vector(['wife', 'threaten', 'leave', 'wife', 'good', 'because', 'cheat', 'twice', 'lie', 'much', 'that', 'have', 'decide', 'refuse', 'back', 'day', 'begin', 'threaten', 'suicide', 'have', 'tirelessly', 'spend', 'these', 'paat', 'day', 'talk', 'keep'])\n",
    "\n",
    "#similar_documents = model.dv.most_similar(vector) # Deberia salir 0 porque es el documento del que se han sacado todas las palabras"
   ]
  },
  {
   "cell_type": "markdown",
   "metadata": {},
   "source": [
    "# 3. Clustering"
   ]
  },
  {
   "cell_type": "markdown",
   "metadata": {
    "collapsed": false
   },
   "source": [
    "## 3.1. Aplicando algoritmo DBSCAN (PREDETERMINADO) de la libería sklearn"
   ]
  },
  {
   "cell_type": "code",
   "execution_count": 19,
   "metadata": {
    "collapsed": false
   },
   "outputs": [
    {
     "name": "stdout",
     "output_type": "stream",
     "text": [
      "Etiquetas de clusters: [-1 -1 -1  0 -1 -1 -1  0 -1 -1 -1 -1 -1 -1  0 -1 -1 -1  0 -1 -1 -1 -1 -1\n",
      " -1 -1 -1 -1 -1 -1 -1 -1  0 -1 -1 -1 -1 -1 -1 -1 -1 -1 -1  0 -1 -1 -1 -1\n",
      " -1  1 -1 -1 -1  0 -1 -1  1 -1  0 -1  0 -1 -1 -1  0 -1 -1 -1 -1 -1 -1 -1\n",
      " -1 -1  0 -1]\n"
     ]
    }
   ],
   "source": [
    "document_vectors = [model.infer_vector(doc) for doc in textos_tokenizados]\n",
    "\n",
    "# Aplicar DBSCAN a los vectores de documentos\n",
    "dbscan = DBSCAN(eps=2, min_samples=2, leaf_size=5)  # Ajusta los parámetros según tu caso\n",
    "labels = dbscan.fit_predict(np.array(document_vectors))\n",
    "\n",
    "# Los resultados del clustering están en 'labels'\n",
    "print(\"Etiquetas de clusters:\", labels)"
   ]
  }
 ],
 "metadata": {
  "kernelspec": {
   "display_name": "Python 3",
   "language": "python",
   "name": "python3"
  },
  "language_info": {
   "codemirror_mode": {
    "name": "ipython",
    "version": 3
   },
   "file_extension": ".py",
   "mimetype": "text/x-python",
   "name": "python",
   "nbconvert_exporter": "python",
   "pygments_lexer": "ipython3",
   "version": "3.10.13"
  }
 },
 "nbformat": 4,
 "nbformat_minor": 0
}
