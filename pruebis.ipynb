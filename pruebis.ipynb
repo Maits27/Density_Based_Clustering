{
 "cells": [
  {
   "cell_type": "code",
   "execution_count": 12,
   "metadata": {
    "collapsed": true
   },
   "outputs": [
    {
     "name": "stdout",
     "output_type": "stream",
     "text": [
      "Requirement already satisfied: spacy in c:\\users\\maiti\\pycharmprojects\\pruebitasmineria\\venv\\lib\\site-packages (3.7.1)\n",
      "Requirement already satisfied: cymem<2.1.0,>=2.0.2 in c:\\users\\maiti\\pycharmprojects\\pruebitasmineria\\venv\\lib\\site-packages (from spacy) (2.0.8)\n",
      "Requirement already satisfied: preshed<3.1.0,>=3.0.2 in c:\\users\\maiti\\pycharmprojects\\pruebitasmineria\\venv\\lib\\site-packages (from spacy) (3.0.9)\n",
      "Requirement already satisfied: catalogue<2.1.0,>=2.0.6 in c:\\users\\maiti\\pycharmprojects\\pruebitasmineria\\venv\\lib\\site-packages (from spacy) (2.0.10)\n",
      "Requirement already satisfied: numpy>=1.19.0 in c:\\users\\maiti\\pycharmprojects\\pruebitasmineria\\venv\\lib\\site-packages (from spacy) (1.26.0)\n",
      "Requirement already satisfied: spacy-loggers<2.0.0,>=1.0.0 in c:\\users\\maiti\\pycharmprojects\\pruebitasmineria\\venv\\lib\\site-packages (from spacy) (1.0.5)\n",
      "Requirement already satisfied: typer<0.10.0,>=0.3.0 in c:\\users\\maiti\\pycharmprojects\\pruebitasmineria\\venv\\lib\\site-packages (from spacy) (0.9.0)\n",
      "Requirement already satisfied: thinc<8.3.0,>=8.1.8 in c:\\users\\maiti\\pycharmprojects\\pruebitasmineria\\venv\\lib\\site-packages (from spacy) (8.2.1)\n",
      "Requirement already satisfied: pathy>=0.10.0 in c:\\users\\maiti\\pycharmprojects\\pruebitasmineria\\venv\\lib\\site-packages (from spacy) (0.10.2)\n",
      "Requirement already satisfied: langcodes<4.0.0,>=3.2.0 in c:\\users\\maiti\\pycharmprojects\\pruebitasmineria\\venv\\lib\\site-packages (from spacy) (3.3.0)\n",
      "Requirement already satisfied: srsly<3.0.0,>=2.4.3 in c:\\users\\maiti\\pycharmprojects\\pruebitasmineria\\venv\\lib\\site-packages (from spacy) (2.4.8)\n",
      "Requirement already satisfied: smart-open<7.0.0,>=5.2.1 in c:\\users\\maiti\\pycharmprojects\\pruebitasmineria\\venv\\lib\\site-packages (from spacy) (6.4.0)\n",
      "Requirement already satisfied: weasel<0.4.0,>=0.1.0 in c:\\users\\maiti\\pycharmprojects\\pruebitasmineria\\venv\\lib\\site-packages (from spacy) (0.3.2)\n",
      "Requirement already satisfied: tqdm<5.0.0,>=4.38.0 in c:\\users\\maiti\\pycharmprojects\\pruebitasmineria\\venv\\lib\\site-packages (from spacy) (4.66.1)\n",
      "Requirement already satisfied: setuptools in c:\\users\\maiti\\pycharmprojects\\pruebitasmineria\\venv\\lib\\site-packages (from spacy) (65.5.1)\n",
      "Requirement already satisfied: murmurhash<1.1.0,>=0.28.0 in c:\\users\\maiti\\pycharmprojects\\pruebitasmineria\\venv\\lib\\site-packages (from spacy) (1.0.10)\n",
      "Requirement already satisfied: packaging>=20.0 in c:\\users\\maiti\\pycharmprojects\\pruebitasmineria\\venv\\lib\\site-packages (from spacy) (23.2)\n",
      "Requirement already satisfied: pydantic!=1.8,!=1.8.1,<3.0.0,>=1.7.4 in c:\\users\\maiti\\pycharmprojects\\pruebitasmineria\\venv\\lib\\site-packages (from spacy) (2.4.2)\n",
      "Requirement already satisfied: jinja2 in c:\\users\\maiti\\pycharmprojects\\pruebitasmineria\\venv\\lib\\site-packages (from spacy) (3.1.2)\n",
      "Requirement already satisfied: requests<3.0.0,>=2.13.0 in c:\\users\\maiti\\pycharmprojects\\pruebitasmineria\\venv\\lib\\site-packages (from spacy) (2.31.0)\n",
      "Requirement already satisfied: wasabi<1.2.0,>=0.9.1 in c:\\users\\maiti\\pycharmprojects\\pruebitasmineria\\venv\\lib\\site-packages (from spacy) (1.1.2)\n",
      "Requirement already satisfied: spacy-legacy<3.1.0,>=3.0.11 in c:\\users\\maiti\\pycharmprojects\\pruebitasmineria\\venv\\lib\\site-packages (from spacy) (3.0.12)\n",
      "Requirement already satisfied: annotated-types>=0.4.0 in c:\\users\\maiti\\pycharmprojects\\pruebitasmineria\\venv\\lib\\site-packages (from pydantic!=1.8,!=1.8.1,<3.0.0,>=1.7.4->spacy) (0.6.0)\n",
      "Requirement already satisfied: pydantic-core==2.10.1 in c:\\users\\maiti\\pycharmprojects\\pruebitasmineria\\venv\\lib\\site-packages (from pydantic!=1.8,!=1.8.1,<3.0.0,>=1.7.4->spacy) (2.10.1)\n",
      "Requirement already satisfied: typing-extensions>=4.6.1 in c:\\users\\maiti\\pycharmprojects\\pruebitasmineria\\venv\\lib\\site-packages (from pydantic!=1.8,!=1.8.1,<3.0.0,>=1.7.4->spacy) (4.8.0)\n",
      "Requirement already satisfied: idna<4,>=2.5 in c:\\users\\maiti\\pycharmprojects\\pruebitasmineria\\venv\\lib\\site-packages (from requests<3.0.0,>=2.13.0->spacy) (3.4)\n",
      "Requirement already satisfied: urllib3<3,>=1.21.1 in c:\\users\\maiti\\pycharmprojects\\pruebitasmineria\\venv\\lib\\site-packages (from requests<3.0.0,>=2.13.0->spacy) (2.0.6)\n",
      "Requirement already satisfied: certifi>=2017.4.17 in c:\\users\\maiti\\pycharmprojects\\pruebitasmineria\\venv\\lib\\site-packages (from requests<3.0.0,>=2.13.0->spacy) (2023.7.22)\n",
      "Requirement already satisfied: charset-normalizer<4,>=2 in c:\\users\\maiti\\pycharmprojects\\pruebitasmineria\\venv\\lib\\site-packages (from requests<3.0.0,>=2.13.0->spacy) (3.3.0)\n",
      "Requirement already satisfied: blis<0.8.0,>=0.7.8 in c:\\users\\maiti\\pycharmprojects\\pruebitasmineria\\venv\\lib\\site-packages (from thinc<8.3.0,>=8.1.8->spacy) (0.7.11)\n",
      "Requirement already satisfied: confection<1.0.0,>=0.0.1 in c:\\users\\maiti\\pycharmprojects\\pruebitasmineria\\venv\\lib\\site-packages (from thinc<8.3.0,>=8.1.8->spacy) (0.1.3)\n",
      "Requirement already satisfied: colorama in c:\\users\\maiti\\pycharmprojects\\pruebitasmineria\\venv\\lib\\site-packages (from tqdm<5.0.0,>=4.38.0->spacy) (0.4.6)\n",
      "Requirement already satisfied: click<9.0.0,>=7.1.1 in c:\\users\\maiti\\pycharmprojects\\pruebitasmineria\\venv\\lib\\site-packages (from typer<0.10.0,>=0.3.0->spacy) (8.1.7)\n",
      "Requirement already satisfied: cloudpathlib<0.16.0,>=0.7.0 in c:\\users\\maiti\\pycharmprojects\\pruebitasmineria\\venv\\lib\\site-packages (from weasel<0.4.0,>=0.1.0->spacy) (0.15.1)\n",
      "Requirement already satisfied: MarkupSafe>=2.0 in c:\\users\\maiti\\pycharmprojects\\pruebitasmineria\\venv\\lib\\site-packages (from jinja2->spacy) (2.1.3)\n"
     ]
    },
    {
     "name": "stderr",
     "output_type": "stream",
     "text": [
      "\n",
      "[notice] A new release of pip available: 22.3.1 -> 23.2.1\n",
      "[notice] To update, run: python.exe -m pip install --upgrade pip\n"
     ]
    },
    {
     "name": "stdout",
     "output_type": "stream",
     "text": [
      "Collecting en-core-web-sm==3.7.0\n",
      "  Downloading https://github.com/explosion/spacy-models/releases/download/en_core_web_sm-3.7.0/en_core_web_sm-3.7.0-py3-none-any.whl (12.8 MB)\n",
      "     --------------------------------------- 12.8/12.8 MB 11.3 MB/s eta 0:00:00\n",
      "Requirement already satisfied: spacy<3.8.0,>=3.7.0 in c:\\users\\maiti\\pycharmprojects\\pruebitasmineria\\venv\\lib\\site-packages (from en-core-web-sm==3.7.0) (3.7.1)\n",
      "Requirement already satisfied: setuptools in c:\\users\\maiti\\pycharmprojects\\pruebitasmineria\\venv\\lib\\site-packages (from spacy<3.8.0,>=3.7.0->en-core-web-sm==3.7.0) (65.5.1)\n",
      "Requirement already satisfied: murmurhash<1.1.0,>=0.28.0 in c:\\users\\maiti\\pycharmprojects\\pruebitasmineria\\venv\\lib\\site-packages (from spacy<3.8.0,>=3.7.0->en-core-web-sm==3.7.0) (1.0.10)\n",
      "Requirement already satisfied: weasel<0.4.0,>=0.1.0 in c:\\users\\maiti\\pycharmprojects\\pruebitasmineria\\venv\\lib\\site-packages (from spacy<3.8.0,>=3.7.0->en-core-web-sm==3.7.0) (0.3.2)\n",
      "Requirement already satisfied: catalogue<2.1.0,>=2.0.6 in c:\\users\\maiti\\pycharmprojects\\pruebitasmineria\\venv\\lib\\site-packages (from spacy<3.8.0,>=3.7.0->en-core-web-sm==3.7.0) (2.0.10)\n",
      "Requirement already satisfied: thinc<8.3.0,>=8.1.8 in c:\\users\\maiti\\pycharmprojects\\pruebitasmineria\\venv\\lib\\site-packages (from spacy<3.8.0,>=3.7.0->en-core-web-sm==3.7.0) (8.2.1)\n",
      "Requirement already satisfied: typer<0.10.0,>=0.3.0 in c:\\users\\maiti\\pycharmprojects\\pruebitasmineria\\venv\\lib\\site-packages (from spacy<3.8.0,>=3.7.0->en-core-web-sm==3.7.0) (0.9.0)\n",
      "Requirement already satisfied: srsly<3.0.0,>=2.4.3 in c:\\users\\maiti\\pycharmprojects\\pruebitasmineria\\venv\\lib\\site-packages (from spacy<3.8.0,>=3.7.0->en-core-web-sm==3.7.0) (2.4.8)\n",
      "Requirement already satisfied: spacy-loggers<2.0.0,>=1.0.0 in c:\\users\\maiti\\pycharmprojects\\pruebitasmineria\\venv\\lib\\site-packages (from spacy<3.8.0,>=3.7.0->en-core-web-sm==3.7.0) (1.0.5)\n",
      "Requirement already satisfied: preshed<3.1.0,>=3.0.2 in c:\\users\\maiti\\pycharmprojects\\pruebitasmineria\\venv\\lib\\site-packages (from spacy<3.8.0,>=3.7.0->en-core-web-sm==3.7.0) (3.0.9)\n",
      "Requirement already satisfied: langcodes<4.0.0,>=3.2.0 in c:\\users\\maiti\\pycharmprojects\\pruebitasmineria\\venv\\lib\\site-packages (from spacy<3.8.0,>=3.7.0->en-core-web-sm==3.7.0) (3.3.0)\n",
      "Requirement already satisfied: numpy>=1.19.0 in c:\\users\\maiti\\pycharmprojects\\pruebitasmineria\\venv\\lib\\site-packages (from spacy<3.8.0,>=3.7.0->en-core-web-sm==3.7.0) (1.26.0)\n",
      "Requirement already satisfied: wasabi<1.2.0,>=0.9.1 in c:\\users\\maiti\\pycharmprojects\\pruebitasmineria\\venv\\lib\\site-packages (from spacy<3.8.0,>=3.7.0->en-core-web-sm==3.7.0) (1.1.2)\n",
      "Requirement already satisfied: spacy-legacy<3.1.0,>=3.0.11 in c:\\users\\maiti\\pycharmprojects\\pruebitasmineria\\venv\\lib\\site-packages (from spacy<3.8.0,>=3.7.0->en-core-web-sm==3.7.0) (3.0.12)\n",
      "Requirement already satisfied: smart-open<7.0.0,>=5.2.1 in c:\\users\\maiti\\pycharmprojects\\pruebitasmineria\\venv\\lib\\site-packages (from spacy<3.8.0,>=3.7.0->en-core-web-sm==3.7.0) (6.4.0)\n",
      "Requirement already satisfied: requests<3.0.0,>=2.13.0 in c:\\users\\maiti\\pycharmprojects\\pruebitasmineria\\venv\\lib\\site-packages (from spacy<3.8.0,>=3.7.0->en-core-web-sm==3.7.0) (2.31.0)\n",
      "Requirement already satisfied: tqdm<5.0.0,>=4.38.0 in c:\\users\\maiti\\pycharmprojects\\pruebitasmineria\\venv\\lib\\site-packages (from spacy<3.8.0,>=3.7.0->en-core-web-sm==3.7.0) (4.66.1)\n",
      "Requirement already satisfied: pathy>=0.10.0 in c:\\users\\maiti\\pycharmprojects\\pruebitasmineria\\venv\\lib\\site-packages (from spacy<3.8.0,>=3.7.0->en-core-web-sm==3.7.0) (0.10.2)\n",
      "Requirement already satisfied: pydantic!=1.8,!=1.8.1,<3.0.0,>=1.7.4 in c:\\users\\maiti\\pycharmprojects\\pruebitasmineria\\venv\\lib\\site-packages (from spacy<3.8.0,>=3.7.0->en-core-web-sm==3.7.0) (2.4.2)\n",
      "Requirement already satisfied: packaging>=20.0 in c:\\users\\maiti\\pycharmprojects\\pruebitasmineria\\venv\\lib\\site-packages (from spacy<3.8.0,>=3.7.0->en-core-web-sm==3.7.0) (23.2)\n",
      "Requirement already satisfied: jinja2 in c:\\users\\maiti\\pycharmprojects\\pruebitasmineria\\venv\\lib\\site-packages (from spacy<3.8.0,>=3.7.0->en-core-web-sm==3.7.0) (3.1.2)\n",
      "Requirement already satisfied: cymem<2.1.0,>=2.0.2 in c:\\users\\maiti\\pycharmprojects\\pruebitasmineria\\venv\\lib\\site-packages (from spacy<3.8.0,>=3.7.0->en-core-web-sm==3.7.0) (2.0.8)\n",
      "Requirement already satisfied: pydantic-core==2.10.1 in c:\\users\\maiti\\pycharmprojects\\pruebitasmineria\\venv\\lib\\site-packages (from pydantic!=1.8,!=1.8.1,<3.0.0,>=1.7.4->spacy<3.8.0,>=3.7.0->en-core-web-sm==3.7.0) (2.10.1)\n",
      "Requirement already satisfied: typing-extensions>=4.6.1 in c:\\users\\maiti\\pycharmprojects\\pruebitasmineria\\venv\\lib\\site-packages (from pydantic!=1.8,!=1.8.1,<3.0.0,>=1.7.4->spacy<3.8.0,>=3.7.0->en-core-web-sm==3.7.0) (4.8.0)\n",
      "Requirement already satisfied: annotated-types>=0.4.0 in c:\\users\\maiti\\pycharmprojects\\pruebitasmineria\\venv\\lib\\site-packages (from pydantic!=1.8,!=1.8.1,<3.0.0,>=1.7.4->spacy<3.8.0,>=3.7.0->en-core-web-sm==3.7.0) (0.6.0)\n",
      "Requirement already satisfied: charset-normalizer<4,>=2 in c:\\users\\maiti\\pycharmprojects\\pruebitasmineria\\venv\\lib\\site-packages (from requests<3.0.0,>=2.13.0->spacy<3.8.0,>=3.7.0->en-core-web-sm==3.7.0) (3.3.0)\n",
      "Requirement already satisfied: certifi>=2017.4.17 in c:\\users\\maiti\\pycharmprojects\\pruebitasmineria\\venv\\lib\\site-packages (from requests<3.0.0,>=2.13.0->spacy<3.8.0,>=3.7.0->en-core-web-sm==3.7.0) (2023.7.22)\n",
      "Requirement already satisfied: idna<4,>=2.5 in c:\\users\\maiti\\pycharmprojects\\pruebitasmineria\\venv\\lib\\site-packages (from requests<3.0.0,>=2.13.0->spacy<3.8.0,>=3.7.0->en-core-web-sm==3.7.0) (3.4)\n",
      "Requirement already satisfied: urllib3<3,>=1.21.1 in c:\\users\\maiti\\pycharmprojects\\pruebitasmineria\\venv\\lib\\site-packages (from requests<3.0.0,>=2.13.0->spacy<3.8.0,>=3.7.0->en-core-web-sm==3.7.0) (2.0.6)\n",
      "Requirement already satisfied: blis<0.8.0,>=0.7.8 in c:\\users\\maiti\\pycharmprojects\\pruebitasmineria\\venv\\lib\\site-packages (from thinc<8.3.0,>=8.1.8->spacy<3.8.0,>=3.7.0->en-core-web-sm==3.7.0) (0.7.11)\n",
      "Requirement already satisfied: confection<1.0.0,>=0.0.1 in c:\\users\\maiti\\pycharmprojects\\pruebitasmineria\\venv\\lib\\site-packages (from thinc<8.3.0,>=8.1.8->spacy<3.8.0,>=3.7.0->en-core-web-sm==3.7.0) (0.1.3)\n",
      "Requirement already satisfied: colorama in c:\\users\\maiti\\pycharmprojects\\pruebitasmineria\\venv\\lib\\site-packages (from tqdm<5.0.0,>=4.38.0->spacy<3.8.0,>=3.7.0->en-core-web-sm==3.7.0) (0.4.6)\n",
      "Requirement already satisfied: click<9.0.0,>=7.1.1 in c:\\users\\maiti\\pycharmprojects\\pruebitasmineria\\venv\\lib\\site-packages (from typer<0.10.0,>=0.3.0->spacy<3.8.0,>=3.7.0->en-core-web-sm==3.7.0) (8.1.7)\n",
      "Requirement already satisfied: cloudpathlib<0.16.0,>=0.7.0 in c:\\users\\maiti\\pycharmprojects\\pruebitasmineria\\venv\\lib\\site-packages (from weasel<0.4.0,>=0.1.0->spacy<3.8.0,>=3.7.0->en-core-web-sm==3.7.0) (0.15.1)\n",
      "Requirement already satisfied: MarkupSafe>=2.0 in c:\\users\\maiti\\pycharmprojects\\pruebitasmineria\\venv\\lib\\site-packages (from jinja2->spacy<3.8.0,>=3.7.0->en-core-web-sm==3.7.0) (2.1.3)\n",
      "\u001B[38;5;3m[!] As of spaCy v3.0, shortcuts like 'en' are deprecated. Please use\n",
      "the full pipeline package name 'en_core_web_sm' instead.\u001B[0m\n",
      "\u001B[38;5;2m[+] Download and installation successful\u001B[0m\n",
      "You can now load the package via spacy.load('en_core_web_sm')\n"
     ]
    },
    {
     "name": "stderr",
     "output_type": "stream",
     "text": [
      "\n",
      "[notice] A new release of pip available: 22.3.1 -> 23.2.1\n",
      "[notice] To update, run: python.exe -m pip install --upgrade pip\n"
     ]
    },
    {
     "name": "stdout",
     "output_type": "stream",
     "text": [
      "Requirement already satisfied: spacymoji in c:\\users\\maiti\\pycharmprojects\\pruebitasmineria\\venv\\lib\\site-packages (3.1.0)\n",
      "Requirement already satisfied: emoji<3.0,>=2.0 in c:\\users\\maiti\\pycharmprojects\\pruebitasmineria\\venv\\lib\\site-packages (from spacymoji) (2.8.0)\n",
      "Requirement already satisfied: spacy<4.0.0,>=3.0.0 in c:\\users\\maiti\\pycharmprojects\\pruebitasmineria\\venv\\lib\\site-packages (from spacymoji) (3.7.1)\n",
      "Requirement already satisfied: typer<0.10.0,>=0.3.0 in c:\\users\\maiti\\pycharmprojects\\pruebitasmineria\\venv\\lib\\site-packages (from spacy<4.0.0,>=3.0.0->spacymoji) (0.9.0)\n",
      "Requirement already satisfied: jinja2 in c:\\users\\maiti\\pycharmprojects\\pruebitasmineria\\venv\\lib\\site-packages (from spacy<4.0.0,>=3.0.0->spacymoji) (3.1.2)\n",
      "Requirement already satisfied: catalogue<2.1.0,>=2.0.6 in c:\\users\\maiti\\pycharmprojects\\pruebitasmineria\\venv\\lib\\site-packages (from spacy<4.0.0,>=3.0.0->spacymoji) (2.0.10)\n",
      "Requirement already satisfied: preshed<3.1.0,>=3.0.2 in c:\\users\\maiti\\pycharmprojects\\pruebitasmineria\\venv\\lib\\site-packages (from spacy<4.0.0,>=3.0.0->spacymoji) (3.0.9)\n",
      "Requirement already satisfied: srsly<3.0.0,>=2.4.3 in c:\\users\\maiti\\pycharmprojects\\pruebitasmineria\\venv\\lib\\site-packages (from spacy<4.0.0,>=3.0.0->spacymoji) (2.4.8)\n",
      "Requirement already satisfied: numpy>=1.19.0 in c:\\users\\maiti\\pycharmprojects\\pruebitasmineria\\venv\\lib\\site-packages (from spacy<4.0.0,>=3.0.0->spacymoji) (1.26.0)\n",
      "Requirement already satisfied: smart-open<7.0.0,>=5.2.1 in c:\\users\\maiti\\pycharmprojects\\pruebitasmineria\\venv\\lib\\site-packages (from spacy<4.0.0,>=3.0.0->spacymoji) (6.4.0)\n",
      "Requirement already satisfied: murmurhash<1.1.0,>=0.28.0 in c:\\users\\maiti\\pycharmprojects\\pruebitasmineria\\venv\\lib\\site-packages (from spacy<4.0.0,>=3.0.0->spacymoji) (1.0.10)\n",
      "Requirement already satisfied: cymem<2.1.0,>=2.0.2 in c:\\users\\maiti\\pycharmprojects\\pruebitasmineria\\venv\\lib\\site-packages (from spacy<4.0.0,>=3.0.0->spacymoji) (2.0.8)\n",
      "Requirement already satisfied: setuptools in c:\\users\\maiti\\pycharmprojects\\pruebitasmineria\\venv\\lib\\site-packages (from spacy<4.0.0,>=3.0.0->spacymoji) (65.5.1)\n",
      "Requirement already satisfied: packaging>=20.0 in c:\\users\\maiti\\pycharmprojects\\pruebitasmineria\\venv\\lib\\site-packages (from spacy<4.0.0,>=3.0.0->spacymoji) (23.2)\n",
      "Requirement already satisfied: pathy>=0.10.0 in c:\\users\\maiti\\pycharmprojects\\pruebitasmineria\\venv\\lib\\site-packages (from spacy<4.0.0,>=3.0.0->spacymoji) (0.10.2)\n",
      "Requirement already satisfied: wasabi<1.2.0,>=0.9.1 in c:\\users\\maiti\\pycharmprojects\\pruebitasmineria\\venv\\lib\\site-packages (from spacy<4.0.0,>=3.0.0->spacymoji) (1.1.2)\n",
      "Requirement already satisfied: weasel<0.4.0,>=0.1.0 in c:\\users\\maiti\\pycharmprojects\\pruebitasmineria\\venv\\lib\\site-packages (from spacy<4.0.0,>=3.0.0->spacymoji) (0.3.2)\n",
      "Requirement already satisfied: thinc<8.3.0,>=8.1.8 in c:\\users\\maiti\\pycharmprojects\\pruebitasmineria\\venv\\lib\\site-packages (from spacy<4.0.0,>=3.0.0->spacymoji) (8.2.1)\n",
      "Requirement already satisfied: tqdm<5.0.0,>=4.38.0 in c:\\users\\maiti\\pycharmprojects\\pruebitasmineria\\venv\\lib\\site-packages (from spacy<4.0.0,>=3.0.0->spacymoji) (4.66.1)\n",
      "Requirement already satisfied: requests<3.0.0,>=2.13.0 in c:\\users\\maiti\\pycharmprojects\\pruebitasmineria\\venv\\lib\\site-packages (from spacy<4.0.0,>=3.0.0->spacymoji) (2.31.0)\n",
      "Requirement already satisfied: pydantic!=1.8,!=1.8.1,<3.0.0,>=1.7.4 in c:\\users\\maiti\\pycharmprojects\\pruebitasmineria\\venv\\lib\\site-packages (from spacy<4.0.0,>=3.0.0->spacymoji) (2.4.2)\n",
      "Requirement already satisfied: langcodes<4.0.0,>=3.2.0 in c:\\users\\maiti\\pycharmprojects\\pruebitasmineria\\venv\\lib\\site-packages (from spacy<4.0.0,>=3.0.0->spacymoji) (3.3.0)\n",
      "Requirement already satisfied: spacy-loggers<2.0.0,>=1.0.0 in c:\\users\\maiti\\pycharmprojects\\pruebitasmineria\\venv\\lib\\site-packages (from spacy<4.0.0,>=3.0.0->spacymoji) (1.0.5)\n",
      "Requirement already satisfied: spacy-legacy<3.1.0,>=3.0.11 in c:\\users\\maiti\\pycharmprojects\\pruebitasmineria\\venv\\lib\\site-packages (from spacy<4.0.0,>=3.0.0->spacymoji) (3.0.12)\n",
      "Requirement already satisfied: pydantic-core==2.10.1 in c:\\users\\maiti\\pycharmprojects\\pruebitasmineria\\venv\\lib\\site-packages (from pydantic!=1.8,!=1.8.1,<3.0.0,>=1.7.4->spacy<4.0.0,>=3.0.0->spacymoji) (2.10.1)\n",
      "Requirement already satisfied: typing-extensions>=4.6.1 in c:\\users\\maiti\\pycharmprojects\\pruebitasmineria\\venv\\lib\\site-packages (from pydantic!=1.8,!=1.8.1,<3.0.0,>=1.7.4->spacy<4.0.0,>=3.0.0->spacymoji) (4.8.0)\n",
      "Requirement already satisfied: annotated-types>=0.4.0 in c:\\users\\maiti\\pycharmprojects\\pruebitasmineria\\venv\\lib\\site-packages (from pydantic!=1.8,!=1.8.1,<3.0.0,>=1.7.4->spacy<4.0.0,>=3.0.0->spacymoji) (0.6.0)\n",
      "Requirement already satisfied: idna<4,>=2.5 in c:\\users\\maiti\\pycharmprojects\\pruebitasmineria\\venv\\lib\\site-packages (from requests<3.0.0,>=2.13.0->spacy<4.0.0,>=3.0.0->spacymoji) (3.4)\n",
      "Requirement already satisfied: charset-normalizer<4,>=2 in c:\\users\\maiti\\pycharmprojects\\pruebitasmineria\\venv\\lib\\site-packages (from requests<3.0.0,>=2.13.0->spacy<4.0.0,>=3.0.0->spacymoji) (3.3.0)\n",
      "Requirement already satisfied: urllib3<3,>=1.21.1 in c:\\users\\maiti\\pycharmprojects\\pruebitasmineria\\venv\\lib\\site-packages (from requests<3.0.0,>=2.13.0->spacy<4.0.0,>=3.0.0->spacymoji) (2.0.6)\n",
      "Requirement already satisfied: certifi>=2017.4.17 in c:\\users\\maiti\\pycharmprojects\\pruebitasmineria\\venv\\lib\\site-packages (from requests<3.0.0,>=2.13.0->spacy<4.0.0,>=3.0.0->spacymoji) (2023.7.22)\n",
      "Requirement already satisfied: blis<0.8.0,>=0.7.8 in c:\\users\\maiti\\pycharmprojects\\pruebitasmineria\\venv\\lib\\site-packages (from thinc<8.3.0,>=8.1.8->spacy<4.0.0,>=3.0.0->spacymoji) (0.7.11)\n",
      "Requirement already satisfied: confection<1.0.0,>=0.0.1 in c:\\users\\maiti\\pycharmprojects\\pruebitasmineria\\venv\\lib\\site-packages (from thinc<8.3.0,>=8.1.8->spacy<4.0.0,>=3.0.0->spacymoji) (0.1.3)\n",
      "Requirement already satisfied: colorama in c:\\users\\maiti\\pycharmprojects\\pruebitasmineria\\venv\\lib\\site-packages (from tqdm<5.0.0,>=4.38.0->spacy<4.0.0,>=3.0.0->spacymoji) (0.4.6)\n",
      "Requirement already satisfied: click<9.0.0,>=7.1.1 in c:\\users\\maiti\\pycharmprojects\\pruebitasmineria\\venv\\lib\\site-packages (from typer<0.10.0,>=0.3.0->spacy<4.0.0,>=3.0.0->spacymoji) (8.1.7)\n",
      "Requirement already satisfied: cloudpathlib<0.16.0,>=0.7.0 in c:\\users\\maiti\\pycharmprojects\\pruebitasmineria\\venv\\lib\\site-packages (from weasel<0.4.0,>=0.1.0->spacy<4.0.0,>=3.0.0->spacymoji) (0.15.1)\n",
      "Requirement already satisfied: MarkupSafe>=2.0 in c:\\users\\maiti\\pycharmprojects\\pruebitasmineria\\venv\\lib\\site-packages (from jinja2->spacy<4.0.0,>=3.0.0->spacymoji) (2.1.3)\n"
     ]
    },
    {
     "name": "stderr",
     "output_type": "stream",
     "text": [
      "\n",
      "[notice] A new release of pip available: 22.3.1 -> 23.2.1\n",
      "[notice] To update, run: python.exe -m pip install --upgrade pip\n"
     ]
    },
    {
     "name": "stdout",
     "output_type": "stream",
     "text": [
      "Requirement already satisfied: emoji in c:\\users\\maiti\\pycharmprojects\\pruebitasmineria\\venv\\lib\\site-packages (2.8.0)\n"
     ]
    },
    {
     "name": "stderr",
     "output_type": "stream",
     "text": [
      "\n",
      "[notice] A new release of pip available: 22.3.1 -> 23.2.1\n",
      "[notice] To update, run: python.exe -m pip install --upgrade pip\n"
     ]
    },
    {
     "name": "stdout",
     "output_type": "stream",
     "text": [
      "Requirement already satisfied: gensim in c:\\users\\maiti\\pycharmprojects\\pruebitasmineria\\venv\\lib\\site-packages (4.3.2)\n",
      "Requirement already satisfied: numpy>=1.18.5 in c:\\users\\maiti\\pycharmprojects\\pruebitasmineria\\venv\\lib\\site-packages (from gensim) (1.26.0)\n",
      "Requirement already satisfied: scipy>=1.7.0 in c:\\users\\maiti\\pycharmprojects\\pruebitasmineria\\venv\\lib\\site-packages (from gensim) (1.11.3)\n",
      "Requirement already satisfied: smart-open>=1.8.1 in c:\\users\\maiti\\pycharmprojects\\pruebitasmineria\\venv\\lib\\site-packages (from gensim) (6.4.0)\n"
     ]
    },
    {
     "name": "stderr",
     "output_type": "stream",
     "text": [
      "\n",
      "[notice] A new release of pip available: 22.3.1 -> 23.2.1\n",
      "[notice] To update, run: python.exe -m pip install --upgrade pip\n"
     ]
    },
    {
     "name": "stdout",
     "output_type": "stream",
     "text": [
      "Requirement already satisfied: sklearn in c:\\users\\maiti\\pycharmprojects\\pruebitasmineria\\venv\\lib\\site-packages (0.0.post10)\n"
     ]
    },
    {
     "name": "stderr",
     "output_type": "stream",
     "text": [
      "\n",
      "[notice] A new release of pip available: 22.3.1 -> 23.2.1\n",
      "[notice] To update, run: python.exe -m pip install --upgrade pip\n"
     ]
    }
   ],
   "source": [
    "! pip install -U spacy\n",
    "! python -m spacy download en\n",
    "! pip install spacymoji\n",
    "! pip install emoji\n",
    "! pip install gensim\n",
    "! pip install sklearn"
   ]
  },
  {
   "cell_type": "code",
   "execution_count": 13,
   "outputs": [],
   "source": [
    "import pandas as pd\n",
    "data = pd.read_csv('corto.csv')"
   ],
   "metadata": {
    "collapsed": false
   }
  },
  {
   "cell_type": "code",
   "execution_count": 14,
   "outputs": [],
   "source": [
    "textos = []\n",
    "for instancia in data.values:\n",
    "    textos.append(instancia[1])"
   ],
   "metadata": {
    "collapsed": false
   }
  },
  {
   "cell_type": "code",
   "execution_count": 15,
   "outputs": [
    {
     "ename": "TypeError",
     "evalue": "object of type 'float' has no len()",
     "output_type": "error",
     "traceback": [
      "\u001B[1;31m---------------------------------------------------------------------------\u001B[0m",
      "\u001B[1;31mTypeError\u001B[0m                                 Traceback (most recent call last)",
      "Cell \u001B[1;32mIn[15], line 9\u001B[0m\n\u001B[0;32m      7\u001B[0m textos_tokenizados \u001B[38;5;241m=\u001B[39m[]\n\u001B[0;32m      8\u001B[0m \u001B[38;5;28;01mfor\u001B[39;00m t \u001B[38;5;129;01min\u001B[39;00m textos:\n\u001B[1;32m----> 9\u001B[0m     t\u001B[38;5;241m=\u001B[39m \u001B[43memoji\u001B[49m\u001B[38;5;241;43m.\u001B[39;49m\u001B[43mdemojize\u001B[49m\u001B[43m(\u001B[49m\u001B[43mt\u001B[49m\u001B[43m)\u001B[49m\n\u001B[0;32m     10\u001B[0m     doc\u001B[38;5;241m=\u001B[39mnlp(t)\n\u001B[0;32m     11\u001B[0m     lexical_tokens \u001B[38;5;241m=\u001B[39m [token\u001B[38;5;241m.\u001B[39mlemma_\u001B[38;5;241m.\u001B[39mlower() \u001B[38;5;28;01mfor\u001B[39;00m token \u001B[38;5;129;01min\u001B[39;00m doc \u001B[38;5;28;01mif\u001B[39;00m \u001B[38;5;28mlen\u001B[39m(token\u001B[38;5;241m.\u001B[39mtext) \u001B[38;5;241m>\u001B[39m \u001B[38;5;241m3\u001B[39m \u001B[38;5;129;01mand\u001B[39;00m token\u001B[38;5;241m.\u001B[39mis_alpha]\n",
      "File \u001B[1;32m~\\PycharmProjects\\PruebitasMineria\\venv\\lib\\site-packages\\emoji\\core.py:244\u001B[0m, in \u001B[0;36mdemojize\u001B[1;34m(string, delimiters, language, version, handle_version)\u001B[0m\n\u001B[0;32m    241\u001B[0m         \u001B[38;5;28;01mreturn\u001B[39;00m emoji_match\u001B[38;5;241m.\u001B[39memoji\n\u001B[0;32m    243\u001B[0m matches \u001B[38;5;241m=\u001B[39m tokenize(string, keep_zwj\u001B[38;5;241m=\u001B[39mconfig\u001B[38;5;241m.\u001B[39mdemojize_keep_zwj)\n\u001B[1;32m--> 244\u001B[0m \u001B[38;5;28;01mreturn\u001B[39;00m \u001B[38;5;124;43m\"\u001B[39;49m\u001B[38;5;124;43m\"\u001B[39;49m\u001B[38;5;241;43m.\u001B[39;49m\u001B[43mjoin\u001B[49m\u001B[43m(\u001B[49m\u001B[38;5;28;43mstr\u001B[39;49m\u001B[43m(\u001B[49m\u001B[43mhandle\u001B[49m\u001B[43m(\u001B[49m\u001B[43mtoken\u001B[49m\u001B[38;5;241;43m.\u001B[39;49m\u001B[43mvalue\u001B[49m\u001B[43m)\u001B[49m\u001B[43m)\u001B[49m\u001B[43m \u001B[49m\u001B[38;5;28;43;01mif\u001B[39;49;00m\u001B[43m \u001B[49m\u001B[38;5;28;43misinstance\u001B[39;49m\u001B[43m(\u001B[49m\n\u001B[0;32m    245\u001B[0m \u001B[43m    \u001B[49m\u001B[43mtoken\u001B[49m\u001B[38;5;241;43m.\u001B[39;49m\u001B[43mvalue\u001B[49m\u001B[43m,\u001B[49m\u001B[43m \u001B[49m\u001B[43mEmojiMatch\u001B[49m\u001B[43m)\u001B[49m\u001B[43m \u001B[49m\u001B[38;5;28;43;01melse\u001B[39;49;00m\u001B[43m \u001B[49m\u001B[43mtoken\u001B[49m\u001B[38;5;241;43m.\u001B[39;49m\u001B[43mvalue\u001B[49m\u001B[43m \u001B[49m\u001B[38;5;28;43;01mfor\u001B[39;49;00m\u001B[43m \u001B[49m\u001B[43mtoken\u001B[49m\u001B[43m \u001B[49m\u001B[38;5;129;43;01min\u001B[39;49;00m\u001B[43m \u001B[49m\u001B[43mmatches\u001B[49m\u001B[43m)\u001B[49m\n",
      "File \u001B[1;32m~\\PycharmProjects\\PruebitasMineria\\venv\\lib\\site-packages\\emoji\\core.py:244\u001B[0m, in \u001B[0;36m<genexpr>\u001B[1;34m(.0)\u001B[0m\n\u001B[0;32m    241\u001B[0m         \u001B[38;5;28;01mreturn\u001B[39;00m emoji_match\u001B[38;5;241m.\u001B[39memoji\n\u001B[0;32m    243\u001B[0m matches \u001B[38;5;241m=\u001B[39m tokenize(string, keep_zwj\u001B[38;5;241m=\u001B[39mconfig\u001B[38;5;241m.\u001B[39mdemojize_keep_zwj)\n\u001B[1;32m--> 244\u001B[0m \u001B[38;5;28;01mreturn\u001B[39;00m \u001B[38;5;124m\"\u001B[39m\u001B[38;5;124m\"\u001B[39m\u001B[38;5;241m.\u001B[39mjoin(\u001B[38;5;28mstr\u001B[39m(handle(token\u001B[38;5;241m.\u001B[39mvalue)) \u001B[38;5;28;01mif\u001B[39;00m \u001B[38;5;28misinstance\u001B[39m(\n\u001B[0;32m    245\u001B[0m     token\u001B[38;5;241m.\u001B[39mvalue, EmojiMatch) \u001B[38;5;28;01melse\u001B[39;00m token\u001B[38;5;241m.\u001B[39mvalue \u001B[38;5;28;01mfor\u001B[39;00m token \u001B[38;5;129;01min\u001B[39;00m matches)\n",
      "File \u001B[1;32m~\\PycharmProjects\\PruebitasMineria\\venv\\lib\\site-packages\\emoji\\tokenizer.py:174\u001B[0m, in \u001B[0;36mtokenize\u001B[1;34m(string, keep_zwj)\u001B[0m\n\u001B[0;32m    172\u001B[0m result \u001B[38;5;241m=\u001B[39m []\n\u001B[0;32m    173\u001B[0m i \u001B[38;5;241m=\u001B[39m \u001B[38;5;241m0\u001B[39m\n\u001B[1;32m--> 174\u001B[0m length \u001B[38;5;241m=\u001B[39m \u001B[38;5;28;43mlen\u001B[39;49m\u001B[43m(\u001B[49m\u001B[43mstring\u001B[49m\u001B[43m)\u001B[49m\n\u001B[0;32m    175\u001B[0m ignore \u001B[38;5;241m=\u001B[39m []  \u001B[38;5;66;03m# index of chars in string that are skipped, i.e. the ZWJ-char in non-RGI-ZWJ-sequences\u001B[39;00m\n\u001B[0;32m    176\u001B[0m \u001B[38;5;28;01mwhile\u001B[39;00m i \u001B[38;5;241m<\u001B[39m length:\n",
      "\u001B[1;31mTypeError\u001B[0m: object of type 'float' has no len()"
     ]
    }
   ],
   "source": [
    "import spacy\n",
    "import emoji\n",
    "\n",
    "nlp = spacy.load(\"en_core_web_sm\")\n",
    "nlp.add_pipe(\"emoji\", first=True)\n",
    "\n",
    "textos_tokenizados =[]\n",
    "for t in textos:\n",
    "    t= emoji.demojize(t)\n",
    "    doc=nlp(t)\n",
    "    lexical_tokens = [token.lemma_.lower() for token in doc if len(token.text) > 3 and token.is_alpha]\n",
    "    textos_tokenizados.append(lexical_tokens)\n"
   ],
   "metadata": {
    "collapsed": false
   }
  },
  {
   "cell_type": "code",
   "execution_count": null,
   "outputs": [],
   "source": [
    "from gensim.models import Doc2Vec\n",
    "from gensim.models.doc2vec import TaggedDocument\n",
    "from gensim.test.utils import get_tmpfile\n",
    "\n",
    "documents = [TaggedDocument(doc, [i]) for i, doc in enumerate(textos_tokenizados)]\n",
    "model = Doc2Vec(documents, vector_size=150, window=2, dm=1, epochs=100, workers=4)\n",
    "# DM siempre a 1 para que sea distributed memory (que tenga en cuenta el contexto)\n",
    "# Window se puede cambiar pero tener en cuenta que cuanto mayor sea mas coste genera\n",
    "# Negative: siempre a 0 para que aprenda que palabras son ruido\n",
    "#Los que se pueden probar para parametro ekorketa:\n",
    "    # VECTOR SIZE!!!! (tamaño del embedding: dimensiones)\n",
    "    # Epochs: numero de iteraciones por el dataset\n",
    "    # Alpha: learning rate inicial\n",
    "    # Min alpha: El valor de LR con el que va acabar → Igual no poner?\n",
    "    # Max_vocab_size: Limita el tamaño maximo de las palabras a tener en cuenta (borra las menos frecuentes)\n",
    "\n",
    "model.build_vocab(documents)\n",
    "model.train(documents, total_examples=model.corpus_count, epochs=model.epochs)\n",
    "\n",
    "model.save(get_tmpfile(\"my_doc2vec_model\"))\n",
    "\n",
    "#vector = model.infer_vector(['wife', 'threaten', 'leave', 'wife', 'good', 'because', 'cheat', 'twice', 'lie', 'much', 'that', 'have', 'decide', 'refuse', 'back', 'day', 'begin', 'threaten', 'suicide', 'have', 'tirelessly', 'spend', 'these', 'paat', 'day', 'talk', 'keep'])\n",
    "\n",
    "#similar_documents = model.dv.most_similar(vector) # Deberia salir 0 porque es el documento del que se han sacado todas las palabras"
   ],
   "metadata": {
    "collapsed": false
   }
  },
  {
   "cell_type": "code",
   "execution_count": null,
   "outputs": [],
   "source": [
    "from sklearn.cluster import DBSCAN\n",
    "import numpy as np\n",
    "\n",
    "document_vectors = [model.infer_vector(doc) for doc in textos_tokenizados]\n",
    "\n",
    "# Aplicar DBSCAN a los vectores de documentos\n",
    "dbscan = DBSCAN(eps=2, min_samples=2, leaf_size=5)  # Ajusta los parámetros según tu caso\n",
    "labels = dbscan.fit_predict(np.array(document_vectors))\n",
    "\n",
    "# Los resultados del clustering están en 'labels'\n",
    "print(\"Etiquetas de clusters:\", labels)"
   ],
   "metadata": {
    "collapsed": false
   }
  },
  {
   "cell_type": "code",
   "execution_count": null,
   "outputs": [],
   "source": [
    "np.array(document_vectors)"
   ],
   "metadata": {
    "collapsed": false
   }
  }
 ],
 "metadata": {
  "kernelspec": {
   "display_name": "Python 3",
   "language": "python",
   "name": "python3"
  },
  "language_info": {
   "codemirror_mode": {
    "name": "ipython",
    "version": 2
   },
   "file_extension": ".py",
   "mimetype": "text/x-python",
   "name": "python",
   "nbconvert_exporter": "python",
   "pygments_lexer": "ipython2",
   "version": "2.7.6"
  }
 },
 "nbformat": 4,
 "nbformat_minor": 0
}
